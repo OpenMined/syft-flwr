{
 "cells": [
  {
   "cell_type": "markdown",
   "metadata": {},
   "source": [
    "# Data Owner\n",
    "\n",
    "## Upload dataset"
   ]
  },
  {
   "cell_type": "code",
   "execution_count": null,
   "metadata": {},
   "outputs": [],
   "source": [
    "from pathlib import Path\n",
    "\n",
    "from huggingface_hub import snapshot_download\n",
    "\n",
    "DATASET_DIR = Path(\"./dataset/\").expanduser().absolute()\n",
    "\n",
    "if not DATASET_DIR.exists():\n",
    "    snapshot_download(\n",
    "        repo_id=\"khoaguin/iris-partitions\",\n",
    "        repo_type=\"dataset\",\n",
    "        local_dir=\"./dataset/\",\n",
    "    )"
   ]
  },
  {
   "cell_type": "code",
   "execution_count": null,
   "metadata": {},
   "outputs": [],
   "source": [
    "from syft_rds.orchestra import remove_rds_stack_dir, setup_rds_server"
   ]
  },
  {
   "cell_type": "code",
   "execution_count": null,
   "metadata": {},
   "outputs": [],
   "source": [
    "remove_rds_stack_dir(root_dir=Path(\".\"), key=\"flwr\")"
   ]
  },
  {
   "cell_type": "code",
   "execution_count": null,
   "metadata": {},
   "outputs": [],
   "source": [
    "DO_EMAIL = \"do1@openmined.org\"\n",
    "\n",
    "do_stack = setup_rds_server(email=DO_EMAIL, root_dir=Path(\".\"), key=\"flwr\")"
   ]
  },
  {
   "cell_type": "code",
   "execution_count": null,
   "metadata": {},
   "outputs": [],
   "source": [
    "do_client = do_stack.init_session(host=DO_EMAIL)"
   ]
  },
  {
   "cell_type": "code",
   "execution_count": null,
   "metadata": {},
   "outputs": [],
   "source": [
    "assert do_client.is_admin"
   ]
  },
  {
   "cell_type": "code",
   "execution_count": null,
   "metadata": {},
   "outputs": [],
   "source": [
    "do_client.datasets"
   ]
  },
  {
   "cell_type": "code",
   "execution_count": null,
   "metadata": {},
   "outputs": [],
   "source": [
    "FLWR_PROJECT = \"quickstart-pandas\"\n",
    "SYFTBOX_DATASET_NAME = \"iris\"\n",
    "PARTITION_ID = 1\n",
    "\n",
    "DATASET_DIR = Path(\"./dataset/\").expanduser().absolute()\n",
    "FLWR_PROJECT_PATH = Path(f\"{FLWR_PROJECT}\")\n",
    "\n",
    "DATASET_PRIVATE_PATH = (\n",
    "    DATASET_DIR / f\"{SYFTBOX_DATASET_NAME}-{PARTITION_ID}\" / \"private\"\n",
    ")\n",
    "DATASET_MOCK_PATH = DATASET_DIR / f\"{SYFTBOX_DATASET_NAME}-{PARTITION_ID}\" / \"mock\"\n",
    "README_PATH = DATASET_DIR / f\"{SYFTBOX_DATASET_NAME}-{PARTITION_ID}\" / \"README.md\""
   ]
  },
  {
   "cell_type": "code",
   "execution_count": null,
   "metadata": {},
   "outputs": [],
   "source": [
    "try:\n",
    "    dataset = do_client.dataset.create(\n",
    "        name=SYFTBOX_DATASET_NAME,\n",
    "        summary=f\"Partitioned {SYFTBOX_DATASET_NAME} dataset.\",\n",
    "        description_path=README_PATH,\n",
    "        path=DATASET_PRIVATE_PATH,\n",
    "        mock_path=DATASET_MOCK_PATH,\n",
    "    )\n",
    "    dataset.describe()\n",
    "except Exception as e:\n",
    "    print(f\"Error: {e}\")"
   ]
  },
  {
   "cell_type": "code",
   "execution_count": null,
   "metadata": {},
   "outputs": [],
   "source": [
    "do_client.datasets"
   ]
  },
  {
   "cell_type": "markdown",
   "metadata": {},
   "source": [
    "## Check and Run Jobs"
   ]
  },
  {
   "cell_type": "code",
   "execution_count": null,
   "metadata": {},
   "outputs": [],
   "source": [
    "jobs = do_client.jobs.get_all()\n",
    "jobs"
   ]
  },
  {
   "cell_type": "code",
   "execution_count": null,
   "metadata": {},
   "outputs": [],
   "source": [
    "import os\n",
    "\n",
    "os.environ[\"SYFTBOX_CLIENT_CONFIG_PATH\"] = str(do_stack.client.config_path)\n",
    "\n",
    "do_client.run_private(jobs[0])"
   ]
  },
  {
   "cell_type": "code",
   "execution_count": null,
   "metadata": {},
   "outputs": [],
   "source": []
  }
 ],
 "metadata": {
  "kernelspec": {
   "display_name": ".venv",
   "language": "python",
   "name": "python3"
  },
  "language_info": {
   "codemirror_mode": {
    "name": "ipython",
    "version": 3
   },
   "file_extension": ".py",
   "mimetype": "text/x-python",
   "name": "python",
   "nbconvert_exporter": "python",
   "pygments_lexer": "ipython3",
   "version": "3.12.9"
  }
 },
 "nbformat": 4,
 "nbformat_minor": 2
}
