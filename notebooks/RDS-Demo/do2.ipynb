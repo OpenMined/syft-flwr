{
 "cells": [
  {
   "cell_type": "code",
   "execution_count": null,
   "metadata": {},
   "outputs": [],
   "source": [
    "# stdlib\n",
    "import os\n",
    "from pathlib import Path\n",
    "\n",
    "from syft_rds.orchestra import setup_rds_server\n",
    "\n",
    "import syft_flwr"
   ]
  },
  {
   "cell_type": "markdown",
   "metadata": {},
   "source": [
    "## Step 1: Setup RDS Server"
   ]
  },
  {
   "cell_type": "code",
   "execution_count": null,
   "metadata": {},
   "outputs": [],
   "source": [
    "do_stack_2 = setup_rds_server(email=\"do2@openmined.org\", key=\"flwr\")"
   ]
  },
  {
   "cell_type": "code",
   "execution_count": null,
   "metadata": {},
   "outputs": [],
   "source": [
    "do_client_2 = do_stack_2.init_session(host=\"do2@openmined.org\")"
   ]
  },
  {
   "cell_type": "code",
   "execution_count": null,
   "metadata": {},
   "outputs": [],
   "source": [
    "do_client_2.is_admin"
   ]
  },
  {
   "cell_type": "markdown",
   "metadata": {},
   "source": [
    "## Step 2.1: Download Mock Dataset"
   ]
  },
  {
   "cell_type": "code",
   "execution_count": null,
   "metadata": {},
   "outputs": [],
   "source": [
    "FLWR_PROJECT = \"quickstart-pytorch\"\n",
    "SYFTBOX_DATASET_NAME = \"cifar10\"\n",
    "\n",
    "DATASET_DIR = Path(\"./datasets/\").expanduser().absolute()\n",
    "FLWR_PROJECT_PATH = Path(f\"{FLWR_PROJECT}\")\n",
    "\n",
    "DATASET_NAME = f\"{SYFTBOX_DATASET_NAME}_part_2\"\n",
    "\n",
    "print(f\"{DATASET_DIR = }\")\n",
    "print(f\"{FLWR_PROJECT_PATH = }\")\n",
    "print(f\"{DATASET_NAME = }\")"
   ]
  },
  {
   "cell_type": "code",
   "execution_count": null,
   "metadata": {},
   "outputs": [],
   "source": [
    "syft_flwr.utils.save_dataset_to_disk(\n",
    "    dataset_name=SYFTBOX_DATASET_NAME, dataset_dir=DATASET_DIR, num_partitions=2\n",
    ")"
   ]
  },
  {
   "cell_type": "markdown",
   "metadata": {},
   "source": [
    "## Step 2.2: Load Dataset to SyftBox"
   ]
  },
  {
   "cell_type": "code",
   "execution_count": null,
   "metadata": {},
   "outputs": [],
   "source": [
    "DATASET_PRIVATE_PATH = DATASET_DIR / SYFTBOX_DATASET_NAME / DATASET_NAME\n",
    "DATASET_MOCK_PATH = DATASET_DIR / SYFTBOX_DATASET_NAME / DATASET_NAME\n",
    "README_PATH = FLWR_PROJECT_PATH / \"README.md\"\n",
    "\n",
    "try:\n",
    "    dataset = do_client_2.dataset.create(\n",
    "        name=SYFTBOX_DATASET_NAME,\n",
    "        summary=f\"Partitioned {SYFTBOX_DATASET_NAME} dataset.\",\n",
    "        description_path=README_PATH,\n",
    "        path=DATASET_PRIVATE_PATH,\n",
    "        mock_path=DATASET_MOCK_PATH,\n",
    "    )\n",
    "    dataset.describe()\n",
    "except Exception as e:\n",
    "    print(f\"Error: {e}\")"
   ]
  },
  {
   "cell_type": "code",
   "execution_count": null,
   "metadata": {},
   "outputs": [],
   "source": [
    "do_client_2.datasets"
   ]
  },
  {
   "cell_type": "markdown",
   "metadata": {},
   "source": [
    "## Step 3: DO Review Jobs"
   ]
  },
  {
   "cell_type": "code",
   "execution_count": null,
   "metadata": {},
   "outputs": [],
   "source": [
    "jobs = do_client_2.jobs.get_all(status=\"pending_code_review\")\n",
    "\n",
    "jobs"
   ]
  },
  {
   "cell_type": "code",
   "execution_count": null,
   "metadata": {},
   "outputs": [],
   "source": [
    "job = jobs[-1]\n",
    "job"
   ]
  },
  {
   "cell_type": "code",
   "execution_count": null,
   "metadata": {},
   "outputs": [],
   "source": [
    "# same as job.code.describe()\n",
    "job.show_user_code()"
   ]
  },
  {
   "cell_type": "markdown",
   "metadata": {},
   "source": [
    "## Step 4: DO Executes Job"
   ]
  },
  {
   "cell_type": "code",
   "execution_count": null,
   "metadata": {},
   "outputs": [],
   "source": [
    "os.environ[\"SYFTBOX_CLIENT_CONFIG_PATH\"] = str(do_stack_2.client.config_path)\n",
    "res_job = do_client_2.run_private(job)"
   ]
  },
  {
   "cell_type": "code",
   "execution_count": null,
   "metadata": {},
   "outputs": [],
   "source": [
    "# do_client_2.jobs.share_results(res_job)"
   ]
  },
  {
   "cell_type": "markdown",
   "metadata": {},
   "source": [
    "## Step 5: Stop Server"
   ]
  },
  {
   "cell_type": "code",
   "execution_count": null,
   "metadata": {},
   "outputs": [],
   "source": [
    "do_stack_2.stop()"
   ]
  },
  {
   "cell_type": "code",
   "execution_count": null,
   "metadata": {},
   "outputs": [],
   "source": []
  }
 ],
 "metadata": {
  "kernelspec": {
   "display_name": ".venv",
   "language": "python",
   "name": "python3"
  },
  "language_info": {
   "codemirror_mode": {
    "name": "ipython",
    "version": 3
   },
   "file_extension": ".py",
   "mimetype": "text/x-python",
   "name": "python",
   "nbconvert_exporter": "python",
   "pygments_lexer": "ipython3",
   "version": "3.12.8"
  }
 },
 "nbformat": 4,
 "nbformat_minor": 4
}
