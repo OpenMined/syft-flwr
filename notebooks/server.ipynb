{
 "cells": [
  {
   "cell_type": "code",
   "execution_count": 1,
   "metadata": {},
   "outputs": [
    {
     "name": "stderr",
     "output_type": "stream",
     "text": [
      "/Users/rasswanths/openmined/flwr/.venv/lib/python3.12/site-packages/pydantic/_internal/_generate_schema.py:780: PydanticDeprecatedSince20: `__get_validators__` is deprecated and will be removed, use `__get_pydantic_core_schema__` instead. Deprecated in Pydantic V2.0 to be removed in V3.0. See Pydantic V2 Migration Guide at https://errors.pydantic.dev/2.10/migration/\n",
      "  warn(\n"
     ]
    }
   ],
   "source": [
    "from syft_flwr.driver import SyftDriver\n",
    "from flwr.common.typing import Run, UserConfig\n",
    "from flwr.server.run_serverapp import run as run_server\n",
    "from flwr.common.context import Context\n",
    "from flwr.common.record import RecordSet\n"
   ]
  },
  {
   "cell_type": "code",
   "execution_count": 2,
   "metadata": {},
   "outputs": [],
   "source": [
    "\"\"\"quickstart: A Flower / NumPy app.\"\"\"\n",
    "\n",
    "import numpy as np\n",
    "\n",
    "\n",
    "def get_dummy_model():\n",
    "    return np.ones((1, 1))\n",
    "\n",
    "\n",
    "\n",
    "from flwr.common import Context, ndarrays_to_parameters\n",
    "from flwr.server import ServerApp, ServerAppComponents, ServerConfig\n",
    "from flwr.server.strategy import FedAvg\n",
    "\n",
    "\n",
    "\n",
    "def server_fn(context: Context):\n",
    "    # Read from config\n",
    "    num_rounds = context.run_config.get(\"num-server-rounds\", 2)\n",
    "\n",
    "    # Initial model\n",
    "    model = get_dummy_model()\n",
    "    dummy_parameters = ndarrays_to_parameters([model])\n",
    "\n",
    "    # Define strategy\n",
    "    strategy = FedAvg(initial_parameters=dummy_parameters)\n",
    "    config = ServerConfig(num_rounds=num_rounds)\n",
    "\n",
    "    return ServerAppComponents(strategy=strategy, config=config)\n",
    "\n",
    "\n",
    "# Create ServerApp\n",
    "app = ServerApp(server_fn=server_fn)\n"
   ]
  },
  {
   "cell_type": "code",
   "execution_count": 3,
   "metadata": {},
   "outputs": [
    {
     "name": "stderr",
     "output_type": "stream",
     "text": [
      "\u001b[32m2025-03-13 12:43:14.687\u001b[0m | \u001b[1mINFO    \u001b[0m | \u001b[36msyft_flwr.driver\u001b[0m:\u001b[36m__init__\u001b[0m:\u001b[36m34\u001b[0m - \u001b[1mInitializing SyftDriver\u001b[0m\n"
     ]
    }
   ],
   "source": [
    "run = Run.create_empty(run_id=1234)\n",
    "syft_driver = SyftDriver()\n",
    "syft_driver.set_run(run)"
   ]
  },
  {
   "cell_type": "code",
   "execution_count": 4,
   "metadata": {},
   "outputs": [],
   "source": [
    "\n",
    "context = Context(\n",
    "        run_id=run.run_id,\n",
    "        node_id=0,\n",
    "        node_config=UserConfig(),\n",
    "        state=RecordSet(),\n",
    "        run_config=UserConfig(),\n",
    "    )"
   ]
  },
  {
   "cell_type": "code",
   "execution_count": 5,
   "metadata": {},
   "outputs": [
    {
     "data": {
      "text/plain": [
       "[35]"
      ]
     },
     "execution_count": 5,
     "metadata": {},
     "output_type": "execute_result"
    }
   ],
   "source": [
    "syft_driver.get_node_ids()"
   ]
  },
  {
   "cell_type": "code",
   "execution_count": 6,
   "metadata": {},
   "outputs": [
    {
     "name": "stderr",
     "output_type": "stream",
     "text": [
      "\u001b[92mINFO \u001b[0m:      Starting Flower ServerApp, config: num_rounds=2, no round_timeout\n",
      "\u001b[92mINFO \u001b[0m:      \n",
      "\u001b[92mINFO \u001b[0m:      [INIT]\n",
      "\u001b[92mINFO \u001b[0m:      Using initial global parameters provided by strategy\n",
      "\u001b[92mINFO \u001b[0m:      Starting evaluation of initial global parameters\n",
      "\u001b[92mINFO \u001b[0m:      Evaluation returned no results (`None`)\n",
      "\u001b[92mINFO \u001b[0m:      \n",
      "\u001b[92mINFO \u001b[0m:      [ROUND 1]\n"
     ]
    },
    {
     "ename": "KeyboardInterrupt",
     "evalue": "",
     "output_type": "error",
     "traceback": [
      "\u001b[31m---------------------------------------------------------------------------\u001b[39m",
      "\u001b[31mKeyboardInterrupt\u001b[39m                         Traceback (most recent call last)",
      "\u001b[36mCell\u001b[39m\u001b[36m \u001b[39m\u001b[32mIn[6]\u001b[39m\u001b[32m, line 1\u001b[39m\n\u001b[32m----> \u001b[39m\u001b[32m1\u001b[39m updated_context = \u001b[43mrun_server\u001b[49m\u001b[43m(\u001b[49m\n\u001b[32m      2\u001b[39m \u001b[43m    \u001b[49m\u001b[43mdriver\u001b[49m\u001b[43m \u001b[49m\u001b[43m=\u001b[49m\u001b[43m \u001b[49m\u001b[43msyft_driver\u001b[49m\u001b[43m,\u001b[49m\n\u001b[32m      3\u001b[39m \u001b[43m    \u001b[49m\u001b[43mcontext\u001b[49m\u001b[43m \u001b[49m\u001b[43m=\u001b[49m\u001b[43m \u001b[49m\u001b[43mcontext\u001b[49m\u001b[43m,\u001b[49m\n\u001b[32m      4\u001b[39m \u001b[43m    \u001b[49m\u001b[43mloaded_server_app\u001b[49m\u001b[43m \u001b[49m\u001b[43m=\u001b[49m\u001b[43mapp\u001b[49m\u001b[43m \u001b[49m\u001b[43m,\u001b[49m\n\u001b[32m      5\u001b[39m \u001b[43m    \u001b[49m\u001b[43mserver_app_dir\u001b[49m\u001b[43m=\u001b[49m\u001b[33;43m\"\u001b[39;49m\u001b[33;43m./examples/quickstart\u001b[39;49m\u001b[33;43m\"\u001b[39;49m\n\u001b[32m      6\u001b[39m \u001b[43m)\u001b[49m\n",
      "\u001b[36mFile \u001b[39m\u001b[32m~/openmined/flwr/.venv/lib/python3.12/site-packages/flwr/server/run_serverapp.py:62\u001b[39m, in \u001b[36mrun\u001b[39m\u001b[34m(driver, context, server_app_dir, server_app_attr, loaded_server_app)\u001b[39m\n\u001b[32m     59\u001b[39m server_app = _load()\n\u001b[32m     61\u001b[39m \u001b[38;5;66;03m# Call ServerApp\u001b[39;00m\n\u001b[32m---> \u001b[39m\u001b[32m62\u001b[39m \u001b[43mserver_app\u001b[49m\u001b[43m(\u001b[49m\u001b[43mdriver\u001b[49m\u001b[43m=\u001b[49m\u001b[43mdriver\u001b[49m\u001b[43m,\u001b[49m\u001b[43m \u001b[49m\u001b[43mcontext\u001b[49m\u001b[43m=\u001b[49m\u001b[43mcontext\u001b[49m\u001b[43m)\u001b[49m\n\u001b[32m     64\u001b[39m log(DEBUG, \u001b[33m\"\u001b[39m\u001b[33mServerApp finished running.\u001b[39m\u001b[33m\"\u001b[39m)\n\u001b[32m     65\u001b[39m \u001b[38;5;28;01mreturn\u001b[39;00m context\n",
      "\u001b[36mFile \u001b[39m\u001b[32m~/openmined/flwr/.venv/lib/python3.12/site-packages/flwr/server/server_app.py:129\u001b[39m, in \u001b[36mServerApp.__call__\u001b[39m\u001b[34m(self, driver, context)\u001b[39m\n\u001b[32m    127\u001b[39m         \u001b[38;5;28mself\u001b[39m._strategy = components.strategy\n\u001b[32m    128\u001b[39m         \u001b[38;5;28mself\u001b[39m._client_manager = components.client_manager\n\u001b[32m--> \u001b[39m\u001b[32m129\u001b[39m     \u001b[43mstart_driver\u001b[49m\u001b[43m(\u001b[49m\n\u001b[32m    130\u001b[39m \u001b[43m        \u001b[49m\u001b[43mserver\u001b[49m\u001b[43m=\u001b[49m\u001b[38;5;28;43mself\u001b[39;49m\u001b[43m.\u001b[49m\u001b[43m_server\u001b[49m\u001b[43m,\u001b[49m\n\u001b[32m    131\u001b[39m \u001b[43m        \u001b[49m\u001b[43mconfig\u001b[49m\u001b[43m=\u001b[49m\u001b[38;5;28;43mself\u001b[39;49m\u001b[43m.\u001b[49m\u001b[43m_config\u001b[49m\u001b[43m,\u001b[49m\n\u001b[32m    132\u001b[39m \u001b[43m        \u001b[49m\u001b[43mstrategy\u001b[49m\u001b[43m=\u001b[49m\u001b[38;5;28;43mself\u001b[39;49m\u001b[43m.\u001b[49m\u001b[43m_strategy\u001b[49m\u001b[43m,\u001b[49m\n\u001b[32m    133\u001b[39m \u001b[43m        \u001b[49m\u001b[43mclient_manager\u001b[49m\u001b[43m=\u001b[49m\u001b[38;5;28;43mself\u001b[39;49m\u001b[43m.\u001b[49m\u001b[43m_client_manager\u001b[49m\u001b[43m,\u001b[49m\n\u001b[32m    134\u001b[39m \u001b[43m        \u001b[49m\u001b[43mdriver\u001b[49m\u001b[43m=\u001b[49m\u001b[43mdriver\u001b[49m\u001b[43m,\u001b[49m\n\u001b[32m    135\u001b[39m \u001b[43m    \u001b[49m\u001b[43m)\u001b[49m\n\u001b[32m    136\u001b[39m     \u001b[38;5;28;01mreturn\u001b[39;00m\n\u001b[32m    138\u001b[39m \u001b[38;5;66;03m# New execution mode\u001b[39;00m\n",
      "\u001b[36mFile \u001b[39m\u001b[32m~/openmined/flwr/.venv/lib/python3.12/site-packages/flwr/server/compat/app.py:90\u001b[39m, in \u001b[36mstart_driver\u001b[39m\u001b[34m(driver, server, config, strategy, client_manager)\u001b[39m\n\u001b[32m     87\u001b[39m c_done.wait()\n\u001b[32m     89\u001b[39m \u001b[38;5;66;03m# Start training\u001b[39;00m\n\u001b[32m---> \u001b[39m\u001b[32m90\u001b[39m hist = \u001b[43mrun_fl\u001b[49m\u001b[43m(\u001b[49m\n\u001b[32m     91\u001b[39m \u001b[43m    \u001b[49m\u001b[43mserver\u001b[49m\u001b[43m=\u001b[49m\u001b[43minitialized_server\u001b[49m\u001b[43m,\u001b[49m\n\u001b[32m     92\u001b[39m \u001b[43m    \u001b[49m\u001b[43mconfig\u001b[49m\u001b[43m=\u001b[49m\u001b[43minitialized_config\u001b[49m\u001b[43m,\u001b[49m\n\u001b[32m     93\u001b[39m \u001b[43m\u001b[49m\u001b[43m)\u001b[49m\n\u001b[32m     95\u001b[39m \u001b[38;5;66;03m# Terminate the thread\u001b[39;00m\n\u001b[32m     96\u001b[39m f_stop.set()\n",
      "\u001b[36mFile \u001b[39m\u001b[32m~/openmined/flwr/.venv/lib/python3.12/site-packages/flwr/server/server.py:492\u001b[39m, in \u001b[36mrun_fl\u001b[39m\u001b[34m(server, config)\u001b[39m\n\u001b[32m    487\u001b[39m \u001b[38;5;28;01mdef\u001b[39;00m\u001b[38;5;250m \u001b[39m\u001b[34mrun_fl\u001b[39m(\n\u001b[32m    488\u001b[39m     server: Server,\n\u001b[32m    489\u001b[39m     config: ServerConfig,\n\u001b[32m    490\u001b[39m ) -> History:\n\u001b[32m    491\u001b[39m \u001b[38;5;250m    \u001b[39m\u001b[33;03m\"\"\"Train a model on the given server and return the History object.\"\"\"\u001b[39;00m\n\u001b[32m--> \u001b[39m\u001b[32m492\u001b[39m     hist, elapsed_time = \u001b[43mserver\u001b[49m\u001b[43m.\u001b[49m\u001b[43mfit\u001b[49m\u001b[43m(\u001b[49m\n\u001b[32m    493\u001b[39m \u001b[43m        \u001b[49m\u001b[43mnum_rounds\u001b[49m\u001b[43m=\u001b[49m\u001b[43mconfig\u001b[49m\u001b[43m.\u001b[49m\u001b[43mnum_rounds\u001b[49m\u001b[43m,\u001b[49m\u001b[43m \u001b[49m\u001b[43mtimeout\u001b[49m\u001b[43m=\u001b[49m\u001b[43mconfig\u001b[49m\u001b[43m.\u001b[49m\u001b[43mround_timeout\u001b[49m\n\u001b[32m    494\u001b[39m \u001b[43m    \u001b[49m\u001b[43m)\u001b[49m\n\u001b[32m    496\u001b[39m     log(INFO, \u001b[33m\"\u001b[39m\u001b[33m\"\u001b[39m)\n\u001b[32m    497\u001b[39m     log(INFO, \u001b[33m\"\u001b[39m\u001b[33m[SUMMARY]\u001b[39m\u001b[33m\"\u001b[39m)\n",
      "\u001b[36mFile \u001b[39m\u001b[32m~/openmined/flwr/.venv/lib/python3.12/site-packages/flwr/server/server.py:115\u001b[39m, in \u001b[36mServer.fit\u001b[39m\u001b[34m(self, num_rounds, timeout)\u001b[39m\n\u001b[32m    113\u001b[39m log(INFO, \u001b[33m\"\u001b[39m\u001b[33m[ROUND \u001b[39m\u001b[38;5;132;01m%s\u001b[39;00m\u001b[33m]\u001b[39m\u001b[33m\"\u001b[39m, current_round)\n\u001b[32m    114\u001b[39m \u001b[38;5;66;03m# Train model and replace previous global model\u001b[39;00m\n\u001b[32m--> \u001b[39m\u001b[32m115\u001b[39m res_fit = \u001b[38;5;28;43mself\u001b[39;49m\u001b[43m.\u001b[49m\u001b[43mfit_round\u001b[49m\u001b[43m(\u001b[49m\n\u001b[32m    116\u001b[39m \u001b[43m    \u001b[49m\u001b[43mserver_round\u001b[49m\u001b[43m=\u001b[49m\u001b[43mcurrent_round\u001b[49m\u001b[43m,\u001b[49m\n\u001b[32m    117\u001b[39m \u001b[43m    \u001b[49m\u001b[43mtimeout\u001b[49m\u001b[43m=\u001b[49m\u001b[43mtimeout\u001b[49m\u001b[43m,\u001b[49m\n\u001b[32m    118\u001b[39m \u001b[43m\u001b[49m\u001b[43m)\u001b[49m\n\u001b[32m    119\u001b[39m \u001b[38;5;28;01mif\u001b[39;00m res_fit \u001b[38;5;129;01mis\u001b[39;00m \u001b[38;5;129;01mnot\u001b[39;00m \u001b[38;5;28;01mNone\u001b[39;00m:\n\u001b[32m    120\u001b[39m     parameters_prime, fit_metrics, _ = res_fit  \u001b[38;5;66;03m# fit_metrics_aggregated\u001b[39;00m\n",
      "\u001b[36mFile \u001b[39m\u001b[32m~/openmined/flwr/.venv/lib/python3.12/site-packages/flwr/server/server.py:217\u001b[39m, in \u001b[36mServer.fit_round\u001b[39m\u001b[34m(self, server_round, timeout)\u001b[39m\n\u001b[32m    215\u001b[39m \u001b[38;5;250m\u001b[39m\u001b[33;03m\"\"\"Perform a single round of federated averaging.\"\"\"\u001b[39;00m\n\u001b[32m    216\u001b[39m \u001b[38;5;66;03m# Get clients and their respective instructions from strategy\u001b[39;00m\n\u001b[32m--> \u001b[39m\u001b[32m217\u001b[39m client_instructions = \u001b[38;5;28;43mself\u001b[39;49m\u001b[43m.\u001b[49m\u001b[43mstrategy\u001b[49m\u001b[43m.\u001b[49m\u001b[43mconfigure_fit\u001b[49m\u001b[43m(\u001b[49m\n\u001b[32m    218\u001b[39m \u001b[43m    \u001b[49m\u001b[43mserver_round\u001b[49m\u001b[43m=\u001b[49m\u001b[43mserver_round\u001b[49m\u001b[43m,\u001b[49m\n\u001b[32m    219\u001b[39m \u001b[43m    \u001b[49m\u001b[43mparameters\u001b[49m\u001b[43m=\u001b[49m\u001b[38;5;28;43mself\u001b[39;49m\u001b[43m.\u001b[49m\u001b[43mparameters\u001b[49m\u001b[43m,\u001b[49m\n\u001b[32m    220\u001b[39m \u001b[43m    \u001b[49m\u001b[43mclient_manager\u001b[49m\u001b[43m=\u001b[49m\u001b[38;5;28;43mself\u001b[39;49m\u001b[43m.\u001b[49m\u001b[43m_client_manager\u001b[49m\u001b[43m,\u001b[49m\n\u001b[32m    221\u001b[39m \u001b[43m\u001b[49m\u001b[43m)\u001b[49m\n\u001b[32m    223\u001b[39m \u001b[38;5;28;01mif\u001b[39;00m \u001b[38;5;129;01mnot\u001b[39;00m client_instructions:\n\u001b[32m    224\u001b[39m     log(INFO, \u001b[33m\"\u001b[39m\u001b[33mconfigure_fit: no clients selected, cancel\u001b[39m\u001b[33m\"\u001b[39m)\n",
      "\u001b[36mFile \u001b[39m\u001b[32m~/openmined/flwr/.venv/lib/python3.12/site-packages/flwr/server/strategy/fedavg.py:187\u001b[39m, in \u001b[36mFedAvg.configure_fit\u001b[39m\u001b[34m(self, server_round, parameters, client_manager)\u001b[39m\n\u001b[32m    183\u001b[39m \u001b[38;5;66;03m# Sample clients\u001b[39;00m\n\u001b[32m    184\u001b[39m sample_size, min_num_clients = \u001b[38;5;28mself\u001b[39m.num_fit_clients(\n\u001b[32m    185\u001b[39m     client_manager.num_available()\n\u001b[32m    186\u001b[39m )\n\u001b[32m--> \u001b[39m\u001b[32m187\u001b[39m clients = \u001b[43mclient_manager\u001b[49m\u001b[43m.\u001b[49m\u001b[43msample\u001b[49m\u001b[43m(\u001b[49m\n\u001b[32m    188\u001b[39m \u001b[43m    \u001b[49m\u001b[43mnum_clients\u001b[49m\u001b[43m=\u001b[49m\u001b[43msample_size\u001b[49m\u001b[43m,\u001b[49m\u001b[43m \u001b[49m\u001b[43mmin_num_clients\u001b[49m\u001b[43m=\u001b[49m\u001b[43mmin_num_clients\u001b[49m\n\u001b[32m    189\u001b[39m \u001b[43m\u001b[49m\u001b[43m)\u001b[49m\n\u001b[32m    191\u001b[39m \u001b[38;5;66;03m# Return client/config pairs\u001b[39;00m\n\u001b[32m    192\u001b[39m \u001b[38;5;28;01mreturn\u001b[39;00m [(client, fit_ins) \u001b[38;5;28;01mfor\u001b[39;00m client \u001b[38;5;129;01min\u001b[39;00m clients]\n",
      "\u001b[36mFile \u001b[39m\u001b[32m~/openmined/flwr/.venv/lib/python3.12/site-packages/flwr/server/client_manager.py:189\u001b[39m, in \u001b[36mSimpleClientManager.sample\u001b[39m\u001b[34m(self, num_clients, min_num_clients, criterion)\u001b[39m\n\u001b[32m    187\u001b[39m \u001b[38;5;28;01mif\u001b[39;00m min_num_clients \u001b[38;5;129;01mis\u001b[39;00m \u001b[38;5;28;01mNone\u001b[39;00m:\n\u001b[32m    188\u001b[39m     min_num_clients = num_clients\n\u001b[32m--> \u001b[39m\u001b[32m189\u001b[39m \u001b[38;5;28;43mself\u001b[39;49m\u001b[43m.\u001b[49m\u001b[43mwait_for\u001b[49m\u001b[43m(\u001b[49m\u001b[43mmin_num_clients\u001b[49m\u001b[43m)\u001b[49m\n\u001b[32m    190\u001b[39m \u001b[38;5;66;03m# Sample clients which meet the criterion\u001b[39;00m\n\u001b[32m    191\u001b[39m available_cids = \u001b[38;5;28mlist\u001b[39m(\u001b[38;5;28mself\u001b[39m.clients)\n",
      "\u001b[36mFile \u001b[39m\u001b[32m~/openmined/flwr/.venv/lib/python3.12/site-packages/flwr/server/client_manager.py:134\u001b[39m, in \u001b[36mSimpleClientManager.wait_for\u001b[39m\u001b[34m(self, num_clients, timeout)\u001b[39m\n\u001b[32m    117\u001b[39m \u001b[38;5;250m\u001b[39m\u001b[33;03m\"\"\"Wait until at least `num_clients` are available.\u001b[39;00m\n\u001b[32m    118\u001b[39m \n\u001b[32m    119\u001b[39m \u001b[33;03mBlocks until the requested number of clients is available or until a\u001b[39;00m\n\u001b[32m   (...)\u001b[39m\u001b[32m    131\u001b[39m \u001b[33;03msuccess : bool\u001b[39;00m\n\u001b[32m    132\u001b[39m \u001b[33;03m\"\"\"\u001b[39;00m\n\u001b[32m    133\u001b[39m \u001b[38;5;28;01mwith\u001b[39;00m \u001b[38;5;28mself\u001b[39m._cv:\n\u001b[32m--> \u001b[39m\u001b[32m134\u001b[39m     \u001b[38;5;28;01mreturn\u001b[39;00m \u001b[38;5;28;43mself\u001b[39;49m\u001b[43m.\u001b[49m\u001b[43m_cv\u001b[49m\u001b[43m.\u001b[49m\u001b[43mwait_for\u001b[49m\u001b[43m(\u001b[49m\n\u001b[32m    135\u001b[39m \u001b[43m        \u001b[49m\u001b[38;5;28;43;01mlambda\u001b[39;49;00m\u001b[43m:\u001b[49m\u001b[43m \u001b[49m\u001b[38;5;28;43mlen\u001b[39;49m\u001b[43m(\u001b[49m\u001b[38;5;28;43mself\u001b[39;49m\u001b[43m.\u001b[49m\u001b[43mclients\u001b[49m\u001b[43m)\u001b[49m\u001b[43m \u001b[49m\u001b[43m>\u001b[49m\u001b[43m=\u001b[49m\u001b[43m \u001b[49m\u001b[43mnum_clients\u001b[49m\u001b[43m,\u001b[49m\u001b[43m \u001b[49m\u001b[43mtimeout\u001b[49m\u001b[43m=\u001b[49m\u001b[43mtimeout\u001b[49m\n\u001b[32m    136\u001b[39m \u001b[43m    \u001b[49m\u001b[43m)\u001b[49m\n",
      "\u001b[36mFile \u001b[39m\u001b[32m~/.local/share/uv/python/cpython-3.12.8-macos-aarch64-none/lib/python3.12/threading.py:390\u001b[39m, in \u001b[36mCondition.wait_for\u001b[39m\u001b[34m(self, predicate, timeout)\u001b[39m\n\u001b[32m    388\u001b[39m             \u001b[38;5;28;01mif\u001b[39;00m waittime <= \u001b[32m0\u001b[39m:\n\u001b[32m    389\u001b[39m                 \u001b[38;5;28;01mbreak\u001b[39;00m\n\u001b[32m--> \u001b[39m\u001b[32m390\u001b[39m     \u001b[38;5;28;43mself\u001b[39;49m\u001b[43m.\u001b[49m\u001b[43mwait\u001b[49m\u001b[43m(\u001b[49m\u001b[43mwaittime\u001b[49m\u001b[43m)\u001b[49m\n\u001b[32m    391\u001b[39m     result = predicate()\n\u001b[32m    392\u001b[39m \u001b[38;5;28;01mreturn\u001b[39;00m result\n",
      "\u001b[36mFile \u001b[39m\u001b[32m~/.local/share/uv/python/cpython-3.12.8-macos-aarch64-none/lib/python3.12/threading.py:359\u001b[39m, in \u001b[36mCondition.wait\u001b[39m\u001b[34m(self, timeout)\u001b[39m\n\u001b[32m    357\u001b[39m \u001b[38;5;28;01melse\u001b[39;00m:\n\u001b[32m    358\u001b[39m     \u001b[38;5;28;01mif\u001b[39;00m timeout > \u001b[32m0\u001b[39m:\n\u001b[32m--> \u001b[39m\u001b[32m359\u001b[39m         gotit = \u001b[43mwaiter\u001b[49m\u001b[43m.\u001b[49m\u001b[43macquire\u001b[49m\u001b[43m(\u001b[49m\u001b[38;5;28;43;01mTrue\u001b[39;49;00m\u001b[43m,\u001b[49m\u001b[43m \u001b[49m\u001b[43mtimeout\u001b[49m\u001b[43m)\u001b[49m\n\u001b[32m    360\u001b[39m     \u001b[38;5;28;01melse\u001b[39;00m:\n\u001b[32m    361\u001b[39m         gotit = waiter.acquire(\u001b[38;5;28;01mFalse\u001b[39;00m)\n",
      "\u001b[31mKeyboardInterrupt\u001b[39m: "
     ]
    }
   ],
   "source": [
    "updated_context = run_server(\n",
    "    driver = syft_driver,\n",
    "    context = context,\n",
    "    loaded_server_app =app ,\n",
    "    server_app_dir=\"./examples/quickstart\"\n",
    ")"
   ]
  },
  {
   "cell_type": "code",
   "execution_count": null,
   "metadata": {},
   "outputs": [],
   "source": [
    "\n",
    "\n"
   ]
  }
 ],
 "metadata": {
  "kernelspec": {
   "display_name": ".venv",
   "language": "python",
   "name": "python3"
  },
  "language_info": {
   "codemirror_mode": {
    "name": "ipython",
    "version": 3
   },
   "file_extension": ".py",
   "mimetype": "text/x-python",
   "name": "python",
   "nbconvert_exporter": "python",
   "pygments_lexer": "ipython3",
   "version": "3.12.8"
  }
 },
 "nbformat": 4,
 "nbformat_minor": 2
}
