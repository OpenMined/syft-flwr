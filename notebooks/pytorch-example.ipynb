{
 "cells": [
  {
   "cell_type": "markdown",
   "metadata": {},
   "source": [
    "# Running pytorch quickstart example with syft\n",
    "\n",
    "Source: https://flower.ai/docs/framework/tutorial-quickstart-pytorch.html#\n",
    "\n",
    "First install `flwr` (with pip) and start a flower example with `flwr new`"
   ]
  },
  {
   "cell_type": "markdown",
   "metadata": {},
   "source": [
    "\n",
    "We have to modify a bit the `pyproject.toml`\n",
    "```\n",
    "[tool.flwr.app.config]\n",
    "num-server-rounds = 3\n",
    "fraction-fit = 0.5\n",
    "local-epochs = 1\n",
    "partition-id = 0    # we need to replace with actual syftbox datasets / data loader\n",
    "num-partitions = 1\n",
    "```\n",
    "\n",
    "and append at the end syft specific configs (the aggregator and the clients)\n",
    "\n",
    "```\n",
    "[tool.syft_flwr]\n",
    "datasites = [\"b@openmined.org\", \"c@openmined.org\" ]\n",
    "aggregator = \"a@openmined.org\"\n",
    "```"
   ]
  },
  {
   "cell_type": "markdown",
   "metadata": {},
   "source": [
    "1. Start Aggregator app\n",
    "```sh\n",
    "python -m src.syft_flwr.runner --flower-toml-path \"{{ flower-toml-path }}\" --sb-conf-path \"{{ sb-conf-path }}\" --aggregator\n",
    "```\n",
    "2. Start Client\n",
    "```sh\n",
    "python -m src.syft_flwr.runner --flower-toml-path \"{{ flower-toml-path }}\" --sb-conf-path \"{{ sb-conf-path }}\" --client\n",
    "```"
   ]
  },
  {
   "cell_type": "markdown",
   "metadata": {},
   "source": [
    "We also have `just` commands for brevity\n",
    "1. Start Aggregator app\n",
    "```sh\n",
    "just rss <flower-toml-path> <aggregator_syftbox_conf_path>\n",
    "```\n",
    "\n",
    "2. Start Client of B\n",
    "```sh\n",
    "just rcs <flower-toml-path> <fl_client_syftbox_conf_path>\n",
    "```\n",
    "\n",
    "3. Start Client of C:\n",
    "```sh\n",
    "just rcs <flower-toml-path> <fl_client_syftbox_conf_path>\n",
    "```\n",
    "\n",
    "Also make sure that the syftbox clients for the aggregator and fl clients are running (`just rs`, `just rc a`, `just rc b`, `just rc c` in `syftbox`)"
   ]
  },
  {
   "cell_type": "markdown",
   "metadata": {},
   "source": []
  }
 ],
 "metadata": {
  "kernelspec": {
   "display_name": ".venv",
   "language": "python",
   "name": "python3"
  },
  "language_info": {
   "name": "python",
   "version": "3.12.9"
  }
 },
 "nbformat": 4,
 "nbformat_minor": 2
}
