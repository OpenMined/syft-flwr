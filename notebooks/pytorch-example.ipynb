{
 "cells": [
  {
   "cell_type": "markdown",
   "metadata": {},
   "source": [
    "# Running pytorch quickstart example with syft\n",
    "\n",
    "Source: https://flower.ai/docs/framework/tutorial-quickstart-pytorch.html#\n",
    "\n",
    "First install `flwr` (with pip) and start a flower example with `flwr new`"
   ]
  },
  {
   "cell_type": "markdown",
   "metadata": {},
   "source": [
    "\n",
    "We have to modify a bit the `pyproject.toml`\n",
    "```\n",
    "[tool.flwr.app.config]\n",
    "num-server-rounds = 3\n",
    "fraction-fit = 0.5\n",
    "local-epochs = 1\n",
    "partition-id = 0    # quick hack for now\n",
    "num-partitions = 1\n",
    "```\n",
    "\n",
    "and append at the end\n",
    "\n",
    "```\n",
    "[tool.syft_flwr]\n",
    "datasites = [\"b@openmined.org\", \"c@openmined.org\" ]\n",
    "aggregator = \"a@openmined.org\"\n",
    "```"
   ]
  },
  {
   "cell_type": "markdown",
   "metadata": {},
   "source": []
  }
 ],
 "metadata": {
  "kernelspec": {
   "display_name": ".venv",
   "language": "python",
   "name": "python3"
  },
  "language_info": {
   "name": "python",
   "version": "3.12.9"
  }
 },
 "nbformat": 4,
 "nbformat_minor": 2
}
