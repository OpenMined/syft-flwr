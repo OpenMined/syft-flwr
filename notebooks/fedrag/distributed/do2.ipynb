{
 "cells": [
  {
   "cell_type": "markdown",
   "metadata": {},
   "source": [
    "# Data Owner 02\n",
    "\n",
    "Outline of what DO2 will do\n",
    "\n",
    "0. Run the `syftbox client` in a terminal or the SyftBox UI app\n",
    "1. DO logs into the datasite as an admin and creates a Syft dataset\n",
    "2. DO reviews and run jobs submitted by data scientists on DO's private data"
   ]
  },
  {
   "cell_type": "markdown",
   "metadata": {},
   "source": [
    "## 0. DO runs the `syftbox client` in a terminal or the SyftBox UI app\n",
    "The CLI syftbox client can be installed with a single command: `curl -fsSL https://syftbox.net/install.sh | sh`. The SyftUI app can be installed from `https://www.syftbox.net/`:\n",
    "\n",
    "<img src=\"../images/syftboxnet.png\" width=\"40%\" alt=\"syftbox.net\">\n",
    "\n",
    "This will set up a SyftBox directory, where by default, it's under the `~/SyftBox` folder\n",
    "\n",
    "<img src=\"../images/SyftBoxNetwork.png\" width=\"20%\" alt=\"SyftBox network\">"
   ]
  },
  {
   "cell_type": "markdown",
   "metadata": {},
   "source": [
    "## 1. DO logs into the datasite as admin and creates a corpus dataset"
   ]
  },
  {
   "cell_type": "markdown",
   "metadata": {},
   "source": [
    "<img src=\"../images/do2LogsInSyftBoxDatasite.png\" width=\"70%\" alt=\"DO1 logs into SyftBox datasite\">"
   ]
  },
  {
   "cell_type": "code",
   "execution_count": null,
   "metadata": {},
   "outputs": [],
   "source": [
    "import syft_rds as sy\n",
    "from loguru import logger\n",
    "from syft_core import Client\n",
    "\n",
    "do2_email = Client.load().email\n",
    "logger.info(f\"DO2 email: {do2_email}\")\n",
    "do2 = sy.init_session(host=do2_email, start_rds_server=True)\n",
    "\n",
    "logger.info(f\"{do2.is_admin = }\")"
   ]
  },
  {
   "cell_type": "markdown",
   "metadata": {},
   "source": [
    "First, DO2 also has a local dataset (`textbook`) with a mock (fake / synthetic) part and a real, private part  \n",
    "\n",
    "<img src=\"../images/do2PreparesDataset.png\" width=\"33%\" alt=\"do2 prepares a Syft dataset\">"
   ]
  },
  {
   "cell_type": "code",
   "execution_count": null,
   "metadata": {},
   "outputs": [],
   "source": [
    "from pathlib import Path\n",
    "\n",
    "from huggingface_hub import snapshot_download\n",
    "\n",
    "DATASET_DIR = Path.cwd().parent / \"datasets\"\n",
    "CORPUS_NAME = \"textbooks\"\n",
    "\n",
    "use_subset = True  # Set to False to download the full corpus (very slow)\n",
    "if use_subset:\n",
    "    DATASET_PATH = DATASET_DIR / \"subsets\" / CORPUS_NAME\n",
    "    allow_patterns = f\"subsets/{CORPUS_NAME}/*\"\n",
    "else:\n",
    "    DATASET_PATH = DATASET_DIR / CORPUS_NAME\n",
    "    allow_patterns = f\"{CORPUS_NAME}/*\"\n",
    "\n",
    "if not DATASET_PATH.exists():\n",
    "    snapshot_download(\n",
    "        repo_id=\"khoaguin/medical-corpus\",\n",
    "        repo_type=\"dataset\",\n",
    "        local_dir=DATASET_DIR,\n",
    "        allow_patterns=allow_patterns,\n",
    "    )"
   ]
  },
  {
   "cell_type": "code",
   "execution_count": null,
   "metadata": {},
   "outputs": [],
   "source": [
    "PRIVATE_PATH = DATASET_PATH / \"private\"\n",
    "MOCK_PATH = DATASET_PATH / \"mock\"\n",
    "README_PATH = MOCK_PATH / \"README.md\"\n",
    "\n",
    "assert PRIVATE_PATH.exists()\n",
    "assert MOCK_PATH.exists()\n",
    "assert README_PATH.exists()"
   ]
  },
  {
   "cell_type": "markdown",
   "metadata": {},
   "source": [
    "DO2 also creates a syft dataset, where the mock part is uploaded to the datasite and is public to the SyftBox network, and the private part stays local (never get shared)\n",
    "\n",
    "<img src=\"../images/do2CreatesSyftADataset.png\" width=\"45%\" alt=\"do2 creates a syft dataset\">"
   ]
  },
  {
   "cell_type": "code",
   "execution_count": null,
   "metadata": {},
   "outputs": [],
   "source": [
    "dataset = do2.dataset.create(\n",
    "    name=CORPUS_NAME,\n",
    "    path=PRIVATE_PATH,\n",
    "    mock_path=MOCK_PATH,\n",
    "    description_path=README_PATH,\n",
    ")\n",
    "dataset.describe()"
   ]
  },
  {
   "cell_type": "code",
   "execution_count": null,
   "metadata": {},
   "outputs": [],
   "source": [
    "# Optional: Clean up old jobs\n",
    "do2.job.delete_all()"
   ]
  },
  {
   "cell_type": "markdown",
   "metadata": {},
   "source": [
    "DO2 now waits for jobs from some data scienists\n",
    "\n",
    "<img src=\"../images/do2WaitsForJobs.png\" width=\"20%\" alt=\"do waiting for jobs\">"
   ]
  },
  {
   "cell_type": "markdown",
   "metadata": {},
   "source": [
    "## 2. Review and Run Jobs"
   ]
  },
  {
   "cell_type": "markdown",
   "metadata": {},
   "source": [
    "After the DS submits a job, the DO2 will also see that there is one job from the DS \n",
    "\n",
    "<img src=\"../images/do2ReviewsJob.png\" width=\"40%\" alt=\"do waiting for jobs\">"
   ]
  },
  {
   "cell_type": "code",
   "execution_count": null,
   "metadata": {},
   "outputs": [],
   "source": [
    "jobs = do2.job.get_all(status=\"pending_code_review\")\n",
    "jobs"
   ]
  },
  {
   "cell_type": "code",
   "execution_count": null,
   "metadata": {},
   "outputs": [],
   "source": [
    "job = jobs[0]\n",
    "job"
   ]
  },
  {
   "cell_type": "code",
   "execution_count": null,
   "metadata": {},
   "outputs": [],
   "source": [
    "# same as job.code.describe()\n",
    "job.show_user_code()"
   ]
  },
  {
   "cell_type": "markdown",
   "metadata": {},
   "source": [
    "By running `run_private(job)`, the DO1 runs the `syft_flwr` client code on the private dataset, retrieves the relevant documents and send them to the DS"
   ]
  },
  {
   "cell_type": "code",
   "execution_count": null,
   "metadata": {},
   "outputs": [],
   "source": [
    "res_job = do2.run_private(job)"
   ]
  },
  {
   "cell_type": "markdown",
   "metadata": {},
   "source": [
    "<video width=\"90%\" controls>\n",
    "  <source src=\"../images/fedrag-rds.mp4\" type=\"video/mp4\">\n",
    "  Your browser does not support the video tag.\n",
    "</video>"
   ]
  },
  {
   "cell_type": "markdown",
   "metadata": {},
   "source": []
  }
 ],
 "metadata": {
  "kernelspec": {
   "display_name": "fedrag",
   "language": "python",
   "name": "python3"
  },
  "language_info": {
   "codemirror_mode": {
    "name": "ipython",
    "version": 3
   },
   "file_extension": ".py",
   "mimetype": "text/x-python",
   "name": "python",
   "nbconvert_exporter": "python",
   "pygments_lexer": "ipython3",
   "version": "3.12.9"
  }
 },
 "nbformat": 4,
 "nbformat_minor": 2
}
