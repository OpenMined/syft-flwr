{
 "cells": [
  {
   "cell_type": "markdown",
   "metadata": {},
   "source": [
    "# Data Owner 01\n",
    "\n",
    "Outline of what DO1 will do\n",
    "\n",
    "0. Setup local syftbox network for local experimentations (only needed for the local testing case)\n",
    "1. DO logs into the datasite as an admin and creates a Syft dataset \n",
    "2. DO reviews and run jobs submitted by data scientists on DO's private data"
   ]
  },
  {
   "cell_type": "markdown",
   "metadata": {},
   "source": [
    "## 0. Setup local syftbox network for local experimentations\n",
    "\n",
    "This will set up a local syftbox directory structures to test the whole flow locally under `./local_syftbox_network`, where eventually when all 3 clients have setup their datasites, it will look like below\n",
    "<img src=\"../images/localSyftBoxNetwork.png\" width=\"20%\" alt=\"local SyftBox network\">"
   ]
  },
  {
   "cell_type": "code",
   "execution_count": null,
   "metadata": {},
   "outputs": [],
   "source": [
    "import os\n",
    "from pathlib import Path\n",
    "\n",
    "from syft_rds.orchestra import remove_rds_stack_dir, setup_rds_server\n",
    "\n",
    "remove_rds_stack_dir(root_dir=Path(\".\"), key=\"local_syftbox_network\")\n",
    "\n",
    "DO_EMAIL = \"do1@openmined.org\"\n",
    "do_stack = setup_rds_server(\n",
    "    email=DO_EMAIL, root_dir=Path(\".\"), key=\"local_syftbox_network\"\n",
    ")\n",
    "\n",
    "os.environ[\"SYFTBOX_CLIENT_CONFIG_PATH\"] = str(do_stack.client.config_path)"
   ]
  },
  {
   "cell_type": "markdown",
   "metadata": {},
   "source": [
    "## 1. DO logs into the datasite as admin and creates a corpus dataset"
   ]
  },
  {
   "cell_type": "markdown",
   "metadata": {},
   "source": [
    "First, DO1 prepares a local dataset (`statpearls`) with a mock (fake / synthetic) part and a real, private part  \n",
    "\n",
    "<img src=\"../images/do1PreparesDataset.png\" width=\"33%\" alt=\"do1 prepares a Syft dataset\">"
   ]
  },
  {
   "cell_type": "code",
   "execution_count": null,
   "metadata": {},
   "outputs": [],
   "source": [
    "from huggingface_hub import snapshot_download\n",
    "\n",
    "DATASET_DIR = Path(\"../datasets/\").expanduser().absolute()\n",
    "CORPUS_NAME = \"statpearls\"\n",
    "DATASET_PATH = DATASET_DIR / CORPUS_NAME\n",
    "\n",
    "if not DATASET_PATH.exists():\n",
    "    snapshot_download(\n",
    "        repo_id=\"khoaguin/medical-corpus\",\n",
    "        repo_type=\"dataset\",\n",
    "        local_dir=DATASET_DIR,\n",
    "        allow_patterns=f\"{CORPUS_NAME}/*\",\n",
    "    )"
   ]
  },
  {
   "cell_type": "code",
   "execution_count": null,
   "metadata": {},
   "outputs": [],
   "source": [
    "MOCK_PATH = DATASET_PATH / \"mock\"\n",
    "PRIVATE_PATH = DATASET_PATH / \"private\"\n",
    "README_PATH = DATASET_PATH / \"README.md\"\n",
    "\n",
    "assert MOCK_PATH.exists()\n",
    "assert PRIVATE_PATH.exists()\n",
    "assert README_PATH.exists()"
   ]
  },
  {
   "cell_type": "markdown",
   "metadata": {},
   "source": [
    "DO1 creates a Syft dataset, where the mock part is uploaded to the datasite and is public to the SyftBox network, and the private part stays local (never get shared)\n",
    "\n",
    "<img src=\"../images/do1UploadsDataset.png\" width=\"45%\" alt=\"do1 creates a Syft dataset\">"
   ]
  },
  {
   "cell_type": "code",
   "execution_count": null,
   "metadata": {},
   "outputs": [],
   "source": [
    "do1 = do_stack.init_session(host=DO_EMAIL)\n",
    "\n",
    "print(f\"DO1 is an admin to the datasite: {do1.is_admin}\")"
   ]
  },
  {
   "cell_type": "code",
   "execution_count": null,
   "metadata": {},
   "outputs": [],
   "source": [
    "dataset = do1.dataset.create(\n",
    "    name=CORPUS_NAME,\n",
    "    path=PRIVATE_PATH,\n",
    "    mock_path=PRIVATE_PATH,\n",
    "    description_path=README_PATH,\n",
    ")\n",
    "dataset.describe()"
   ]
  },
  {
   "cell_type": "markdown",
   "metadata": {},
   "source": [
    "DO1 now waits for jobs from some data scienists\n",
    "\n",
    "<img src=\"../images/do1WaitsForJobs.png\" width=\"20%\" alt=\"do waiting for jobs\">"
   ]
  },
  {
   "cell_type": "markdown",
   "metadata": {},
   "source": [
    "## 2. Review and Run Jobs"
   ]
  },
  {
   "cell_type": "markdown",
   "metadata": {},
   "source": [
    "After the DS submits a job, the DO sees that it has appeared on their datasite, and can review it\n",
    "\n",
    "<img src=\"../images/do1ReviewsJob.png\" width=\"40%\" alt=\"do1 gets and reviews jobs\">"
   ]
  },
  {
   "cell_type": "code",
   "execution_count": null,
   "metadata": {},
   "outputs": [],
   "source": [
    "jobs = do1.job.get_all(status=\"pending_code_review\")\n",
    "jobs"
   ]
  },
  {
   "cell_type": "code",
   "execution_count": null,
   "metadata": {},
   "outputs": [],
   "source": [
    "job = jobs[0]\n",
    "job"
   ]
  },
  {
   "cell_type": "code",
   "execution_count": null,
   "metadata": {},
   "outputs": [],
   "source": [
    "# same as job.code.describe()\n",
    "job.show_user_code()"
   ]
  },
  {
   "cell_type": "markdown",
   "metadata": {},
   "source": [
    "By running `run_private(job)`, the DO1 runs the `syft_flwr` client code on the private dataset, retrieves the relevant documents and send them to the DS"
   ]
  },
  {
   "cell_type": "code",
   "execution_count": null,
   "metadata": {},
   "outputs": [],
   "source": [
    "res_job = do1.run_private(job)"
   ]
  },
  {
   "cell_type": "markdown",
   "metadata": {},
   "source": [
    "<video width=\"90%\" controls>\n",
    "  <source src=\"../images/fedrag-rds.mp4\" type=\"video/mp4\">\n",
    "  Your browser does not support the video tag.\n",
    "</video>"
   ]
  }
 ],
 "metadata": {
  "kernelspec": {
   "display_name": "fedrag",
   "language": "python",
   "name": "python3"
  },
  "language_info": {
   "codemirror_mode": {
    "name": "ipython",
    "version": 3
   },
   "file_extension": ".py",
   "mimetype": "text/x-python",
   "name": "python",
   "nbconvert_exporter": "python",
   "pygments_lexer": "ipython3",
   "version": "3.12.9"
  }
 },
 "nbformat": 4,
 "nbformat_minor": 2
}
