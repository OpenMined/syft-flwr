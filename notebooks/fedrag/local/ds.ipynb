{
 "cells": [
  {
   "cell_type": "markdown",
   "metadata": {},
   "source": [
    "# Data Scientist (DS)\n",
    "\n",
    "Outline of what the DS will do\n",
    "\n",
    "1. DS logs into DO1 and DO2's datasites as guest and explores the mock datasets  \n",
    "2. DS prepares `syft_flwr` code and the `MirageQA` dataset\n",
    "3. DS runs `flwr` and `syft_flwr` simulations (optional)   \n",
    "4. DS submits jobs to the DOs' datasites  \n",
    "5. DS starts the FL server code  \n",
    "6. DS observes the results"
   ]
  },
  {
   "cell_type": "markdown",
   "metadata": {},
   "source": [
    "## 1. DS logs into DO1 and DO2's datasites as guest and explores the mock datasets"
   ]
  },
  {
   "cell_type": "code",
   "execution_count": null,
   "metadata": {},
   "outputs": [],
   "source": [
    "import os\n",
    "from pathlib import Path\n",
    "\n",
    "from loguru import logger\n",
    "from syft_rds.orchestra import setup_rds_server\n",
    "\n",
    "DS = \"ds@openmined.org\"\n",
    "DO1 = \"do1@openmined.org\"\n",
    "DO2 = \"do2@openmined.org\"\n",
    "\n",
    "ds_stack = setup_rds_server(email=DS, root_dir=Path(\".\"), key=\"local_syftbox_network\")\n",
    "do1_guest = ds_stack.init_session(host=DO1)\n",
    "do2_guest = ds_stack.init_session(host=DO2)\n",
    "\n",
    "# Set some constants and variables\n",
    "os.environ[\"SYFTBOX_CLIENT_CONFIG_PATH\"] = str(ds_stack.client.config_path)\n",
    "os.environ[\"LOGURU_LEVEL\"] = \"DEBUG\"\n",
    "os.environ[\"SYFT_FLWR_MSG_TIMEOUT\"] = \"60\"\n",
    "\n",
    "do_clients = [do1_guest, do2_guest]\n",
    "do_emails = [DO1, DO2]"
   ]
  },
  {
   "cell_type": "code",
   "execution_count": null,
   "metadata": {},
   "outputs": [],
   "source": [
    "ds = ds_stack.client"
   ]
  },
  {
   "cell_type": "code",
   "execution_count": null,
   "metadata": {},
   "outputs": [],
   "source": [
    "do1_guest.is_admin"
   ]
  },
  {
   "cell_type": "code",
   "execution_count": null,
   "metadata": {},
   "outputs": [],
   "source": [
    "do2_guest.is_admin"
   ]
  },
  {
   "cell_type": "markdown",
   "metadata": {},
   "source": [
    "DS can access the DOs' mock data, but can't access the private data\n",
    "\n",
    "<img src=\"../images/dsExploresDOsDatasets.png\" width=\"50%\" alt=\"DS explores datasets\">"
   ]
  },
  {
   "cell_type": "code",
   "execution_count": null,
   "metadata": {},
   "outputs": [],
   "source": [
    "mock_paths = []\n",
    "for client in do_clients:\n",
    "    dataset = client.dataset.get_all()[0]\n",
    "    logger.info(f\"Client {client.host}'s dataset name: {dataset.name}\")\n",
    "    mock_paths.append(dataset.get_mock_path())"
   ]
  },
  {
   "cell_type": "markdown",
   "metadata": {},
   "source": [
    "Check that the DS can't access the private datasets"
   ]
  },
  {
   "cell_type": "code",
   "execution_count": null,
   "metadata": {},
   "outputs": [],
   "source": [
    "try:\n",
    "    dataset.get_private_path()\n",
    "except Exception as e:\n",
    "    logger.error(e)"
   ]
  },
  {
   "cell_type": "markdown",
   "metadata": {},
   "source": [
    "## 2. DS prepares `syft_flwr` code and the `MirageQA` dataset\n",
    "\n",
    "A `syft_flwr` project requires minimal changes to a Flower project:\n",
    "\n",
    "1. The `syft_flwr` fedrag project has the same structure as an [Flower fedrag project](https://flower.ai/docs/examples/fedrag.html/):\n",
    "```\n",
    "fedrag_v1\n",
    "├── fedrag/\n",
    "│   ├── __init__.py\n",
    "│   ├── client_app.py   # DO runs this\n",
    "│   ├── llm_querier.py  # DS runs this\n",
    "│   ├── mirage_qa.py    # DS runs this\n",
    "│   ├── retriever.py    # DO runs this\n",
    "│   ├── retriever.yaml\n",
    "│   ├── server_app.py   # DS runs this\n",
    "│   └── task.py         # Common code\n",
    "├── pyproject.toml\n",
    "└── README.md\n",
    "``` "
   ]
  },
  {
   "cell_type": "code",
   "execution_count": null,
   "metadata": {},
   "outputs": [],
   "source": [
    "SYFT_FLWR_PROJECT_PATH = Path(\"../fedrag_v1\")\n",
    "assert SYFT_FLWR_PROJECT_PATH.exists()"
   ]
  },
  {
   "cell_type": "markdown",
   "metadata": {},
   "source": [
    "#### DS bootstraps the `syft_flwr` project\n",
    "\n",
    "After the DS has prepared the `syft_flwr` project code, they can run the `syft_flwr.bootstrap` command to modify the project's metadata in `pyproject.toml` that specifies the unique name of the FL run, who are the data owners and who is the aggregator\n",
    "```\n",
    "[tool.syft_flwr]\n",
    "app_name = \"ds@openmined.org_fed-analytics-diabetes_1753435643\"\n",
    "datasites = [\n",
    "    \"do1@openmined.org\",\n",
    "    \"do2@openmined.org\",\n",
    "]\n",
    "aggregator = \"ds@openmined.org\"\n",
    "```\n",
    "and creates the `main.py` to specifies who runs what based on the new metatdata information"
   ]
  },
  {
   "cell_type": "code",
   "execution_count": null,
   "metadata": {},
   "outputs": [],
   "source": [
    "import syft_flwr\n",
    "\n",
    "try:\n",
    "    !rm -rf {SYFT_FLWR_PROJECT_PATH / \"main.py\"}\n",
    "    syft_flwr.bootstrap(SYFT_FLWR_PROJECT_PATH, aggregator=DS, datasites=do_emails)\n",
    "    logger.info(\"Bootstrapped project successfully ✅\")\n",
    "except Exception as e:\n",
    "    logger.error(e)"
   ]
  },
  {
   "cell_type": "markdown",
   "metadata": {},
   "source": [
    "Finally, the `fedrag` job's code will look like below \n",
    "\n",
    "<img src=\"../images/dsFedRagJob.png\" width=\"40%\" alt=\"DS explores datasets\">"
   ]
  },
  {
   "cell_type": "markdown",
   "metadata": {},
   "source": [
    "#### DS prepares the MirageQA dataset"
   ]
  },
  {
   "cell_type": "code",
   "execution_count": null,
   "metadata": {},
   "outputs": [],
   "source": [
    "import sys\n",
    "from pathlib import Path\n",
    "from pprint import pprint\n",
    "\n",
    "SYFT_FLWR_PROJECT_PATH = Path(\"../fedrag_v1\")\n",
    "sys.path.append(str(SYFT_FLWR_PROJECT_PATH))\n",
    "\n",
    "from fedrag.mirage_qa import MirageQA\n",
    "\n",
    "MIRAGE_PATH = Path(\"../datasets/\") / \"mirage.json\"\n",
    "if not MIRAGE_PATH.exists():\n",
    "    MirageQA.download(MIRAGE_PATH)\n",
    "\n",
    "with open(MIRAGE_PATH, \"r\") as f:\n",
    "    lines = f.readlines()[:12]\n",
    "    for line in lines:\n",
    "        pprint(line.strip())"
   ]
  },
  {
   "cell_type": "markdown",
   "metadata": {},
   "source": [
    "## 3. (Optional) DS runs `flwr` and `syft_flwr` simulations"
   ]
  },
  {
   "cell_type": "code",
   "execution_count": null,
   "metadata": {},
   "outputs": [],
   "source": [
    "RUN_SIMULATION = False"
   ]
  },
  {
   "cell_type": "markdown",
   "metadata": {},
   "source": [
    "First we run normal Flower simulation with `flwr run`"
   ]
  },
  {
   "cell_type": "code",
   "execution_count": null,
   "metadata": {},
   "outputs": [],
   "source": [
    "if RUN_SIMULATION:\n",
    "    !flwr run {SYFT_FLWR_PROJECT_PATH}"
   ]
  },
  {
   "cell_type": "code",
   "execution_count": null,
   "metadata": {},
   "outputs": [],
   "source": [
    "# clean up\n",
    "!rm -rf {SYFT_FLWR_PROJECT_PATH / \"fedrag\" / \"**/__pycache__\"}  # clean before submitting"
   ]
  },
  {
   "cell_type": "markdown",
   "metadata": {},
   "source": [
    "Now the DS can run `syft_flwr` simulation on DO's mock data by launching 2 threads that run DOs code and a thread that runs the DS code \n",
    "\n",
    "<img src=\"../images/dsRunsSyftFLWRSimulation.png\" width=\"50%\" alt=\"ds runs simulation with syft_flwr.run\">"
   ]
  },
  {
   "cell_type": "code",
   "execution_count": null,
   "metadata": {},
   "outputs": [],
   "source": [
    "if RUN_SIMULATION:\n",
    "    logger.info(f\"running syft_flwr simulation with mock paths: {mock_paths}\")\n",
    "    syft_flwr.run(SYFT_FLWR_PROJECT_PATH, mock_paths)"
   ]
  },
  {
   "cell_type": "markdown",
   "metadata": {},
   "source": [
    "Please look into the dir pointed to by `📝 Log directory` to see the logs of different simulated clients, by default it stays in the `fed-analytics-diabetes/simulation_logs`\n",
    "\n",
    "<img src=\"../images/dsSimulationLogs.png\" width=\"20%\" alt=\"DS simulation logs folder\">"
   ]
  },
  {
   "cell_type": "markdown",
   "metadata": {},
   "source": [
    "## 4. DS submits jobs to the DOs' datasites"
   ]
  },
  {
   "cell_type": "markdown",
   "metadata": {},
   "source": [
    "The DS submits the code in `fed-analytics-diabetes` to the DO's datasites\n",
    "\n",
    "<img src=\"../images/dsSubmitsJobs.png\" width=\"50%\" alt=\"DS submits jobs\">"
   ]
  },
  {
   "cell_type": "code",
   "execution_count": null,
   "metadata": {},
   "outputs": [],
   "source": [
    "# clean up before submitting jobs\n",
    "!rm -rf {SYFT_FLWR_PROJECT_PATH / \"fedrag\" / \"__pycache__\"}\n",
    "!rm -rf {SYFT_FLWR_PROJECT_PATH / \"simulation_logs\"}"
   ]
  },
  {
   "cell_type": "code",
   "execution_count": null,
   "metadata": {},
   "outputs": [],
   "source": [
    "logger.info(f\"sending job to {do1_guest.host}\")\n",
    "job = do1_guest.job.submit(\n",
    "    name=\"fedrag\",\n",
    "    user_code_path=SYFT_FLWR_PROJECT_PATH,\n",
    "    dataset_name=\"statpearls\",\n",
    "    entrypoint=\"main.py\",\n",
    ")\n",
    "logger.success(job)"
   ]
  },
  {
   "cell_type": "code",
   "execution_count": null,
   "metadata": {},
   "outputs": [],
   "source": [
    "logger.info(f\"sending job to {do2_guest.host}\")\n",
    "job = do2_guest.job.submit(\n",
    "    name=\"fedrag\",\n",
    "    user_code_path=SYFT_FLWR_PROJECT_PATH,\n",
    "    dataset_name=\"textbooks\",\n",
    "    entrypoint=\"main.py\",\n",
    ")\n",
    "logger.success(job)"
   ]
  },
  {
   "cell_type": "markdown",
   "metadata": {},
   "source": [
    "<img src=\"../images/dsWaitsForJobsToBeApproved.png\" width=\"20%\" alt=\"DS waits for jobs to be approved\">"
   ]
  },
  {
   "cell_type": "markdown",
   "metadata": {},
   "source": [
    "## 5. DS starts the FL server code\n",
    "\n",
    "By running the FL server code, the DS merges the documents received from the DOs, and then put those documents as context for the query to the LLM "
   ]
  },
  {
   "cell_type": "code",
   "execution_count": null,
   "metadata": {},
   "outputs": [],
   "source": [
    "!uv run {str(SYFT_FLWR_PROJECT_PATH / \"main.py\")} --active"
   ]
  },
  {
   "cell_type": "markdown",
   "metadata": {},
   "source": [
    "<video width=\"90%\" controls>\n",
    "  <source src=\"../images/fedrag-rds.mp4\" type=\"video/mp4\">\n",
    "  Your browser does not support the video tag.\n",
    "</video>"
   ]
  },
  {
   "cell_type": "code",
   "execution_count": null,
   "metadata": {},
   "outputs": [],
   "source": [
    "# Clean up\n",
    "!rm -rf .server .syftbox local_syftbox_network"
   ]
  },
  {
   "cell_type": "markdown",
   "metadata": {},
   "source": [
    "## 6. DS Observes the Results"
   ]
  }
 ],
 "metadata": {
  "kernelspec": {
   "display_name": "fedrag",
   "language": "python",
   "name": "python3"
  },
  "language_info": {
   "codemirror_mode": {
    "name": "ipython",
    "version": 3
   },
   "file_extension": ".py",
   "mimetype": "text/x-python",
   "name": "python",
   "nbconvert_exporter": "python",
   "pygments_lexer": "ipython3",
   "version": "3.12.9"
  }
 },
 "nbformat": 4,
 "nbformat_minor": 2
}
