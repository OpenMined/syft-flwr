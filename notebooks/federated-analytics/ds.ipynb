{
 "cells": [
  {
   "cell_type": "markdown",
   "metadata": {},
   "source": [
    "# Data Scientist"
   ]
  },
  {
   "cell_type": "code",
   "execution_count": null,
   "metadata": {},
   "outputs": [],
   "source": [
    "import flwr\n",
    "\n",
    "import syft_flwr\n",
    "\n",
    "print(f\"{syft_flwr.__version__=}\")\n",
    "print(f\"{flwr.__version__=}\")"
   ]
  },
  {
   "cell_type": "code",
   "execution_count": null,
   "metadata": {},
   "outputs": [],
   "source": [
    "from pathlib import Path\n",
    "\n",
    "SYFT_FLWR_PROJECT_DIR = Path(\"./quickstart-pandas\")\n",
    "\n",
    "assert SYFT_FLWR_PROJECT_DIR.exists()"
   ]
  },
  {
   "cell_type": "code",
   "execution_count": null,
   "metadata": {},
   "outputs": [],
   "source": [
    "!flwr run {SYFT_FLWR_PROJECT_DIR}"
   ]
  },
  {
   "cell_type": "code",
   "execution_count": null,
   "metadata": {},
   "outputs": [],
   "source": [
    "from flwr_datasets import FederatedDataset\n",
    "from flwr_datasets.partitioner import IidPartitioner\n",
    "\n",
    "\n",
    "def get_clientapp_dataset(partition_id: int, num_partitions: int):\n",
    "    # Only initialize `FederatedDataset` once\n",
    "    global fds\n",
    "    if fds is None:\n",
    "        partitioner = IidPartitioner(num_partitions=num_partitions)\n",
    "        fds = FederatedDataset(\n",
    "            dataset=\"scikit-learn/iris\",\n",
    "            partitioners={\"train\": partitioner},\n",
    "        )\n",
    "\n",
    "    dataset = fds.load_partition(partition_id, \"train\").with_format(\"pandas\")[:]\n",
    "    # Use just the specified columns\n",
    "    return dataset[[\"SepalLengthCm\", \"SepalWidthCm\"]]"
   ]
  }
 ],
 "metadata": {
  "kernelspec": {
   "display_name": ".venv",
   "language": "python",
   "name": "python3"
  },
  "language_info": {
   "codemirror_mode": {
    "name": "ipython",
    "version": 3
   },
   "file_extension": ".py",
   "mimetype": "text/x-python",
   "name": "python",
   "nbconvert_exporter": "python",
   "pygments_lexer": "ipython3",
   "version": "3.12.9"
  }
 },
 "nbformat": 4,
 "nbformat_minor": 2
}
