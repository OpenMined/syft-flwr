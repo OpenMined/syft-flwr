{
 "cells": [
  {
   "cell_type": "markdown",
   "metadata": {},
   "source": [
    "# Data Scientist"
   ]
  },
  {
   "cell_type": "code",
   "execution_count": null,
   "metadata": {},
   "outputs": [],
   "source": [
    "import flwr\n",
    "\n",
    "import syft_flwr\n",
    "\n",
    "print(f\"{syft_flwr.__version__=}\")\n",
    "print(f\"{flwr.__version__=}\")"
   ]
  },
  {
   "cell_type": "code",
   "execution_count": null,
   "metadata": {},
   "outputs": [],
   "source": [
    "from pathlib import Path\n",
    "\n",
    "SYFT_FLWR_PROJECT_DIR = Path(\"./quickstart-pandas\")\n",
    "\n",
    "assert SYFT_FLWR_PROJECT_DIR.exists()"
   ]
  },
  {
   "cell_type": "code",
   "execution_count": null,
   "metadata": {},
   "outputs": [],
   "source": [
    "from pathlib import Path\n",
    "\n",
    "from syft_rds.orchestra import setup_rds_server\n",
    "\n",
    "DS = \"ds@openmined.org\"\n",
    "DO1 = \"do1@openmined.org\"\n",
    "DO2 = \"do2@openmined.org\"\n",
    "\n",
    "ds_stack = setup_rds_server(email=DS, key=\"flwr\", root_dir=Path(\".\"))"
   ]
  },
  {
   "cell_type": "code",
   "execution_count": null,
   "metadata": {},
   "outputs": [],
   "source": [
    "RUN_SIMULATION = 1\n",
    "\n",
    "if RUN_SIMULATION:\n",
    "    !flwr run {SYFT_FLWR_PROJECT_DIR}"
   ]
  },
  {
   "cell_type": "code",
   "execution_count": null,
   "metadata": {},
   "outputs": [],
   "source": [
    "do_client_1 = ds_stack.init_session(host=DO1)\n",
    "print(\"Logged into: \", do_client_1.host)\n",
    "\n",
    "do_client_2 = ds_stack.init_session(host=DO2)\n",
    "print(\"Logged into: \", do_client_2.host)"
   ]
  },
  {
   "cell_type": "code",
   "execution_count": null,
   "metadata": {},
   "outputs": [],
   "source": [
    "SYFTBOX_DATASET_NAME = \"iris\"\n",
    "\n",
    "dataset1 = do_client_1.dataset.get(name=SYFTBOX_DATASET_NAME)\n",
    "dataset1.describe()"
   ]
  },
  {
   "cell_type": "code",
   "execution_count": null,
   "metadata": {},
   "outputs": [],
   "source": [
    "SYFTBOX_DATASET_NAME = \"iris\"\n",
    "\n",
    "dataset2 = do_client_2.dataset.get(name=SYFTBOX_DATASET_NAME)\n",
    "dataset2.describe()"
   ]
  },
  {
   "cell_type": "code",
   "execution_count": null,
   "metadata": {},
   "outputs": [],
   "source": [
    "import syft_flwr\n",
    "\n",
    "try:\n",
    "    !rm -rf {SYFT_FLWR_PROJECT_DIR / \"main.py\"}\n",
    "    syft_flwr.bootstrap(SYFT_FLWR_PROJECT_DIR, aggregator=DS, datasites=[DO1, DO2])\n",
    "    print(\"Bootstrapped project successfully ✅\")\n",
    "except Exception as e:\n",
    "    print(f\"Bootstrapped project failed with error: '{e}' ❌\")"
   ]
  },
  {
   "cell_type": "code",
   "execution_count": null,
   "metadata": {},
   "outputs": [],
   "source": [
    "if RUN_SIMULATION:\n",
    "    syft_flwr.run(\n",
    "        SYFT_FLWR_PROJECT_DIR, [dataset1.get_mock_path(), dataset2.get_mock_path()]\n",
    "    )"
   ]
  },
  {
   "cell_type": "code",
   "execution_count": null,
   "metadata": {},
   "outputs": [],
   "source": [
    "!rm -rf {SYFT_FLWR_PROJECT_DIR / \"pandas_example\" / \"__pycache__/\"}\n",
    "!rm -rf {SYFT_FLWR_PROJECT_DIR / \"simulation_logs\"}"
   ]
  },
  {
   "cell_type": "code",
   "execution_count": null,
   "metadata": {},
   "outputs": [],
   "source": [
    "# Job submission\n",
    "datasites = [do_client_1, do_client_2]\n",
    "\n",
    "for client in datasites:\n",
    "    job = client.jobs.submit(\n",
    "        name=\"iris_fed_analytics\",\n",
    "        description=\"Syft Flower Federated Analytics on the Iris Dataset\",\n",
    "        user_code_path=SYFT_FLWR_PROJECT_DIR,\n",
    "        dataset_name=SYFTBOX_DATASET_NAME,\n",
    "        tags=[\"federated\", \"analytics\", \"syft_flwr\", \"flwr\"],\n",
    "        entrypoint=\"main.py\",\n",
    "    )\n",
    "    print(job)"
   ]
  },
  {
   "cell_type": "code",
   "execution_count": null,
   "metadata": {},
   "outputs": [],
   "source": [
    "import os\n",
    "\n",
    "os.environ[\"SYFTBOX_CLIENT_CONFIG_PATH\"] = str(ds_stack.client.config_path)\n",
    "os.environ[\"LOGURU_LEVEL\"] = \"DEBUG\"\n",
    "\n",
    "!uv run {str(SYFT_FLWR_PROJECT_DIR / \"main.py\")} --active"
   ]
  },
  {
   "cell_type": "code",
   "execution_count": null,
   "metadata": {},
   "outputs": [],
   "source": []
  }
 ],
 "metadata": {
  "kernelspec": {
   "display_name": ".venv",
   "language": "python",
   "name": "python3"
  },
  "language_info": {
   "codemirror_mode": {
    "name": "ipython",
    "version": 3
   },
   "file_extension": ".py",
   "mimetype": "text/x-python",
   "name": "python",
   "nbconvert_exporter": "python",
   "pygments_lexer": "ipython3",
   "version": "3.12.9"
  }
 },
 "nbformat": 4,
 "nbformat_minor": 2
}
