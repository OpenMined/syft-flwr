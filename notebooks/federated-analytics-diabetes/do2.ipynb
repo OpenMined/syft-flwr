{
 "cells": [
  {
   "cell_type": "markdown",
   "metadata": {},
   "source": [
    "# Data Owner\n",
    "\n",
    "\n",
    "## Upload Dataset"
   ]
  },
  {
   "cell_type": "code",
   "execution_count": null,
   "metadata": {},
   "outputs": [],
   "source": [
    "from pathlib import Path\n",
    "\n",
    "from huggingface_hub import snapshot_download\n",
    "\n",
    "DATASET_DIR = Path(\"./dataset/\").expanduser().absolute()\n",
    "\n",
    "if not DATASET_DIR.exists():\n",
    "    snapshot_download(\n",
    "        repo_id=\"khoaguin/pima-indians-diabetes-database-partitions\",\n",
    "        repo_type=\"dataset\",\n",
    "        local_dir=\"./dataset/\",\n",
    "    )"
   ]
  },
  {
   "cell_type": "code",
   "execution_count": null,
   "metadata": {},
   "outputs": [],
   "source": [
    "LOCAL_TEST = True\n",
    "DO_EMAIL = \"flower-test-group-2@openmined.org\"\n",
    "\n",
    "if LOCAL_TEST:\n",
    "    from syft_rds.orchestra import setup_rds_server\n",
    "\n",
    "    do_stack = setup_rds_server(email=DO_EMAIL, root_dir=Path(\".\"), key=\"flwr\")\n",
    "    do_client = do_stack.init_session(host=DO_EMAIL)\n",
    "else:\n",
    "    import syft_rds as sy\n",
    "\n",
    "    do_client = sy.init_session(host=DO_EMAIL)"
   ]
  },
  {
   "cell_type": "code",
   "execution_count": null,
   "metadata": {},
   "outputs": [],
   "source": [
    "assert do_client.is_admin"
   ]
  },
  {
   "cell_type": "code",
   "execution_count": null,
   "metadata": {},
   "outputs": [],
   "source": [
    "do_client.datasets"
   ]
  },
  {
   "cell_type": "code",
   "execution_count": null,
   "metadata": {},
   "outputs": [],
   "source": [
    "FLWR_PROJECT = \"fed-analytics-diabetes\"\n",
    "SYFTBOX_DATASET_NAME = \"pima-indians-diabetes-database\"\n",
    "PARTITION_ID = 2\n",
    "\n",
    "DATASET_DIR = Path(\"./dataset/\").expanduser().absolute()\n",
    "FLWR_PROJECT_PATH = Path(f\"{FLWR_PROJECT}\")\n",
    "\n",
    "DATASET_PRIVATE_PATH = (\n",
    "    DATASET_DIR / f\"{SYFTBOX_DATASET_NAME}-{PARTITION_ID}\" / \"private\"\n",
    ")\n",
    "DATASET_MOCK_PATH = DATASET_DIR / f\"{SYFTBOX_DATASET_NAME}-{PARTITION_ID}\" / \"mock\"\n",
    "README_PATH = DATASET_DIR / f\"{SYFTBOX_DATASET_NAME}-{PARTITION_ID}\" / \"README.md\""
   ]
  },
  {
   "cell_type": "code",
   "execution_count": null,
   "metadata": {},
   "outputs": [],
   "source": [
    "try:\n",
    "    dataset = do_client.dataset.create(\n",
    "        name=SYFTBOX_DATASET_NAME,\n",
    "        summary=f\"Partitioned {SYFTBOX_DATASET_NAME} dataset.\",\n",
    "        description_path=README_PATH,\n",
    "        path=DATASET_PRIVATE_PATH,\n",
    "        mock_path=DATASET_MOCK_PATH,\n",
    "    )\n",
    "    dataset.describe()\n",
    "except Exception as e:\n",
    "    print(f\"Error: {e}\")"
   ]
  },
  {
   "cell_type": "code",
   "execution_count": null,
   "metadata": {},
   "outputs": [],
   "source": [
    "do_client.datasets"
   ]
  },
  {
   "cell_type": "markdown",
   "metadata": {},
   "source": [
    "## Check and Run Jobs"
   ]
  },
  {
   "cell_type": "code",
   "execution_count": null,
   "metadata": {},
   "outputs": [],
   "source": [
    "jobs = do_client.jobs.get_all()\n",
    "jobs"
   ]
  },
  {
   "cell_type": "code",
   "execution_count": null,
   "metadata": {},
   "outputs": [],
   "source": [
    "import os\n",
    "\n",
    "if LOCAL_TEST:\n",
    "    os.environ[\"SYFTBOX_CLIENT_CONFIG_PATH\"] = str(do_stack.client.config_path)\n",
    "\n",
    "do_client.run_private(jobs[0])"
   ]
  },
  {
   "cell_type": "code",
   "execution_count": null,
   "metadata": {},
   "outputs": [],
   "source": []
  }
 ],
 "metadata": {
  "kernelspec": {
   "display_name": ".venv",
   "language": "python",
   "name": "python3"
  },
  "language_info": {
   "codemirror_mode": {
    "name": "ipython",
    "version": 3
   },
   "file_extension": ".py",
   "mimetype": "text/x-python",
   "name": "python",
   "nbconvert_exporter": "python",
   "pygments_lexer": "ipython3",
   "version": "3.12.9"
  }
 },
 "nbformat": 4,
 "nbformat_minor": 2
}
