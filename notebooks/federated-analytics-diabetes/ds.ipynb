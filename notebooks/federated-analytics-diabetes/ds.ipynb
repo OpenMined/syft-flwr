{
 "cells": [
  {
   "cell_type": "markdown",
   "metadata": {},
   "source": [
    "# Data Scientist"
   ]
  },
  {
   "cell_type": "markdown",
   "metadata": {},
   "source": [
    "### Install dependencies"
   ]
  },
  {
   "cell_type": "code",
   "execution_count": null,
   "metadata": {},
   "outputs": [],
   "source": [
    "!uv pip install syft_flwr numpy pandas matplotlib seaborn"
   ]
  },
  {
   "cell_type": "markdown",
   "metadata": {},
   "source": [
    "## Log into DOs' datasites"
   ]
  },
  {
   "cell_type": "code",
   "execution_count": null,
   "metadata": {},
   "outputs": [],
   "source": [
    "from pathlib import Path\n",
    "\n",
    "from syft_core import Client\n",
    "\n",
    "DO1 = \"flower-test-group-1@openmined.org\"\n",
    "DO2 = \"flower-test-group-2@openmined.org\"\n",
    "DS = Client.load().email\n",
    "DS"
   ]
  },
  {
   "cell_type": "code",
   "execution_count": null,
   "metadata": {},
   "outputs": [],
   "source": [
    "LOCAL_TEST = False\n",
    "\n",
    "if LOCAL_TEST:\n",
    "    from syft_rds.orchestra import setup_rds_server\n",
    "\n",
    "    ds_stack = setup_rds_server(email=DS, key=\"flwr\", root_dir=Path(\".\"))\n",
    "    do_client_1 = ds_stack.init_session(host=DO1)\n",
    "    do_client_2 = ds_stack.init_session(host=DO2)\n",
    "else:\n",
    "    import syft_rds as sy\n",
    "\n",
    "    do_client_1 = sy.init_session(host=DO1)\n",
    "    do_client_2 = sy.init_session(host=DO2)\n",
    "\n",
    "print(\"Logged into: \", do_client_1.host)\n",
    "print(\"Logged into: \", do_client_2.host)"
   ]
  },
  {
   "cell_type": "markdown",
   "metadata": {},
   "source": [
    "### Inspect DOs' Mock Datasets"
   ]
  },
  {
   "cell_type": "code",
   "execution_count": null,
   "metadata": {},
   "outputs": [],
   "source": [
    "SYFTBOX_DATASET_NAME = \"pima-indians-diabetes-database\"\n",
    "\n",
    "dataset1 = do_client_1.dataset.get(name=SYFTBOX_DATASET_NAME)\n",
    "dataset1.describe()"
   ]
  },
  {
   "cell_type": "code",
   "execution_count": null,
   "metadata": {},
   "outputs": [],
   "source": [
    "dataset2 = do_client_2.dataset.get(name=SYFTBOX_DATASET_NAME)\n",
    "dataset2.describe()"
   ]
  },
  {
   "cell_type": "markdown",
   "metadata": {},
   "source": [
    "## DS does some data analytics on mock datasets\n",
    "\n",
    "For each client:\n",
    "1. Concat the dataframes in `train.csv` and `mock.csv`\n",
    "2. Calculating key statistical moments (count, sum, mean) and frequency distributions (histograms) for important features ('Glucose', 'BMI', 'Age'). Also visualize the historgrams"
   ]
  },
  {
   "cell_type": "code",
   "execution_count": null,
   "metadata": {},
   "outputs": [],
   "source": [
    "import pandas as pd\n",
    "\n",
    "df1_train = pd.read_csv(dataset1.get_mock_path() / \"train.csv\")\n",
    "df1_test = pd.read_csv(dataset1.get_mock_path() / \"test.csv\")\n",
    "\n",
    "df2_train = pd.read_csv(dataset2.get_mock_path() / \"train.csv\")\n",
    "df2_test = pd.read_csv(dataset2.get_mock_path() / \"test.csv\")\n",
    "\n",
    "df = pd.concat([df1_train, df1_test, df2_train, df2_test], ignore_index=True)\n",
    "df.info()"
   ]
  },
  {
   "cell_type": "code",
   "execution_count": null,
   "metadata": {},
   "outputs": [],
   "source": [
    "from pathlib import Path\n",
    "\n",
    "import matplotlib.pyplot as plt\n",
    "import numpy as np\n",
    "import pandas as pd\n",
    "import seaborn as sns\n",
    "from loguru import logger\n",
    "\n",
    "\n",
    "# --- Plotting Function (adapted to take feature-specific metrics) ---\n",
    "def plot_feature_histogram_from_metrics_plt(\n",
    "    feature_name: str, metrics_dict: dict, feature_bins_config: dict\n",
    "):\n",
    "    \"\"\"Plots a combined histogram for a single feature using plt.bar.\"\"\"\n",
    "    print(f\"\\nPlotting histogram for: {feature_name} using plt.bar\")\n",
    "    sns.set_theme(style=\"whitegrid\")  # Apply Seaborn style\n",
    "\n",
    "    hist_outcome0 = metrics_dict.get(f\"{feature_name}_hist_outcome0\")\n",
    "    count_outcome0 = metrics_dict.get(f\"{feature_name}_count_outcome0\", 0)\n",
    "    hist_outcome1 = metrics_dict.get(f\"{feature_name}_hist_outcome1\")\n",
    "    count_outcome1 = metrics_dict.get(f\"{feature_name}_count_outcome1\", 0)\n",
    "    bin_edges = feature_bins_config.get(feature_name)\n",
    "\n",
    "    if bin_edges is None:\n",
    "        print(\n",
    "            f\"Error: Bin edges not defined for feature '{feature_name}'. Cannot plot.\"\n",
    "        )\n",
    "        return\n",
    "\n",
    "    # Ensure bin_edges is a numpy array for np.diff\n",
    "    if not isinstance(bin_edges, np.ndarray):\n",
    "        bin_edges = np.array(bin_edges)\n",
    "\n",
    "    bin_widths = np.diff(bin_edges)\n",
    "\n",
    "    plt.figure(figsize=(10, 6))\n",
    "    has_plotted_anything = False\n",
    "\n",
    "    # Plot outcome 0\n",
    "    if hist_outcome0 is not None and count_outcome0 > 0:\n",
    "        frequencies0 = np.array(hist_outcome0)\n",
    "        if len(frequencies0) == len(bin_edges) - 1:\n",
    "            plt.bar(\n",
    "                bin_edges[:-1],\n",
    "                frequencies0,\n",
    "                width=bin_widths,\n",
    "                align=\"edge\",\n",
    "                alpha=0.6,\n",
    "                label=\"No Diabetes (0)\",\n",
    "                color=\"skyblue\",\n",
    "            )\n",
    "            has_plotted_anything = True\n",
    "        else:\n",
    "            print(\n",
    "                f\"Warning: Mismatch for {feature_name} Outcome 0. Frequencies length {len(frequencies0)}, Expected bins {len(bin_edges)-1}.\"\n",
    "            )\n",
    "\n",
    "    # Plot outcome 1\n",
    "    if hist_outcome1 is not None and count_outcome1 > 0:\n",
    "        frequencies1 = np.array(hist_outcome1)\n",
    "        if len(frequencies1) == len(bin_edges) - 1:\n",
    "            plt.bar(\n",
    "                bin_edges[:-1],\n",
    "                frequencies1,\n",
    "                width=bin_widths,\n",
    "                align=\"edge\",\n",
    "                alpha=0.6,\n",
    "                label=\"Diabetes (1)\",\n",
    "                color=\"salmon\",\n",
    "            )\n",
    "            has_plotted_anything = True\n",
    "        else:\n",
    "            print(\n",
    "                f\"Warning: Mismatch for {feature_name} Outcome 1. Frequencies length {len(frequencies1)}, Expected bins {len(bin_edges)-1}.\"\n",
    "            )\n",
    "\n",
    "    if not has_plotted_anything:\n",
    "        print(f\"Info: No valid histogram data to plot for feature '{feature_name}'.\")\n",
    "        plt.close()  # Close the empty figure\n",
    "        return\n",
    "\n",
    "    plt.title(f\"Local Histogram: {feature_name}\")\n",
    "    plt.xlabel(feature_name)\n",
    "    plt.ylabel(\"Local Frequency\")\n",
    "    plt.xticks(bin_edges, rotation=45, ha=\"right\")\n",
    "    plt.legend(title=\"Diabetes Status\")\n",
    "    plt.grid(axis=\"y\", linestyle=\"--\")\n",
    "    plt.tight_layout()\n",
    "\n",
    "    # Save plots\n",
    "    save_dir = Path(\"./mock_figures\")\n",
    "    if not save_dir.exists():\n",
    "        save_dir.mkdir(parents=True, exist_ok=True)  # Using pathlib.Path.mkdir\n",
    "        print(f\"Created directory: {save_dir}\")\n",
    "\n",
    "    # Save the plot\n",
    "    file_path = save_dir / f\"{feature_name}_histogram.png\"  # Using pathlib operator\n",
    "    try:\n",
    "        plt.savefig(file_path)\n",
    "        print(f\"Plot saved to {file_path}\")\n",
    "    except Exception as e:\n",
    "        print(f\"Error saving plot for {feature_name}: {e}\")\n",
    "\n",
    "    plt.show()\n",
    "    plt.close()"
   ]
  },
  {
   "cell_type": "code",
   "execution_count": null,
   "metadata": {},
   "outputs": [],
   "source": [
    "KEY_DIABETES_FEATURES = [\"Glucose\", \"BMI\", \"Age\"]\n",
    "DIABETES_OUTCOME_COLUMN = \"y\"\n",
    "FEATURE_BINS = {\n",
    "    \"Glucose\": np.linspace(40, 250, 11),  # 10 bins from 40 to 250\n",
    "    \"BMI\": np.linspace(15, 60, 10),  # 9 bins from 15 to 60\n",
    "    \"Age\": np.linspace(20, 90, 15),  # 14 bins from 20 to 90\n",
    "}\n",
    "\n",
    "# Ensure Glucose, BMI, Age are numeric and handle potential issues if necessary\n",
    "df[\"Glucose\"] = pd.to_numeric(df[\"Glucose\"], errors=\"coerce\")\n",
    "df[\"BMI\"] = pd.to_numeric(df[\"BMI\"], errors=\"coerce\")\n",
    "df[\"Age\"] = pd.to_numeric(df[\"Age\"], errors=\"coerce\")\n",
    "\n",
    "metrics = {}\n",
    "\n",
    "for feature_name in KEY_DIABETES_FEATURES:\n",
    "    logger.info(f\"Calculating metrics for feature: {feature_name}\")\n",
    "\n",
    "    if feature_name not in df.columns:\n",
    "        logger.warning(f\"Feature '{feature_name}' not found in DataFrame. Skipping.\")\n",
    "        continue\n",
    "\n",
    "    current_bin_edges = FEATURE_BINS[feature_name]\n",
    "\n",
    "    # Metrics for y=0\n",
    "    subset_no_diabetes = df[df[DIABETES_OUTCOME_COLUMN] == 0]\n",
    "    feature_data_outcome0 = subset_no_diabetes[feature_name].dropna()\n",
    "\n",
    "    if not feature_data_outcome0.empty:\n",
    "        freqs_0, _ = np.histogram(feature_data_outcome0, bins=current_bin_edges)\n",
    "        metrics[f\"{feature_name}_hist_outcome0\"] = freqs_0.tolist()\n",
    "        metrics[f\"{feature_name}_mean_outcome0\"] = feature_data_outcome0.mean()\n",
    "        metrics[f\"{feature_name}_sum_outcome0\"] = feature_data_outcome0.sum()\n",
    "        metrics[f\"{feature_name}_count_outcome0\"] = len(feature_data_outcome0)\n",
    "    else:  # Handle case where feature_data_outcome0 is empty\n",
    "        metrics[f\"{feature_name}_hist_outcome0\"] = [0] * (len(current_bin_edges) - 1)\n",
    "        metrics[f\"{feature_name}_mean_outcome0\"] = np.nan\n",
    "        metrics[f\"{feature_name}_sum_outcome0\"] = np.nan\n",
    "        metrics[f\"{feature_name}_count_outcome0\"] = 0\n",
    "\n",
    "    # Metrics for y=1\n",
    "    subset_diabetes = df[df[DIABETES_OUTCOME_COLUMN] == 1]\n",
    "    feature_data_outcome1 = subset_diabetes[feature_name].dropna()\n",
    "\n",
    "    if not feature_data_outcome1.empty:\n",
    "        freqs_1, _ = np.histogram(feature_data_outcome1, bins=current_bin_edges)\n",
    "        metrics[f\"{feature_name}_hist_outcome1\"] = freqs_1.tolist()\n",
    "        metrics[f\"{feature_name}_mean_outcome1\"] = feature_data_outcome1.mean()\n",
    "        metrics[f\"{feature_name}_sum_outcome1\"] = feature_data_outcome1.sum()\n",
    "        metrics[f\"{feature_name}_count_outcome1\"] = len(feature_data_outcome1)\n",
    "    else:  # Handle case where feature_data_outcome1 is empty\n",
    "        metrics[f\"{feature_name}_hist_outcome1\"] = [0] * (len(current_bin_edges) - 1)\n",
    "        metrics[f\"{feature_name}_mean_outcome1\"] = np.nan\n",
    "        metrics[f\"{feature_name}_sum_outcome1\"] = np.nan\n",
    "        metrics[f\"{feature_name}_count_outcome1\"] = 0\n",
    "\n",
    "    plot_feature_histogram_from_metrics_plt(\n",
    "        feature_name=feature_name,\n",
    "        metrics_dict=metrics,  # Use the metrics from image or calculation\n",
    "        feature_bins_config=FEATURE_BINS,\n",
    "    )\n",
    "\n",
    "logger.info(\"--- Calculated Metrics ---\")\n",
    "# This will print the 'metrics' dictionary like in your example\n",
    "for k, v in metrics.items():\n",
    "    if isinstance(v, list) and len(v) > 5:\n",
    "        logger.info(f\"  {k}: {str(v)[:30]}... (length {len(v)})\")\n",
    "    elif isinstance(v, (np.float64, float)):\n",
    "        logger.info(f\"  {k}: {v:.2f}\")\n",
    "    else:\n",
    "        logger.info(f\"  {k}: {v}\")\n",
    "logger.info(\"------------------------\")"
   ]
  },
  {
   "cell_type": "markdown",
   "metadata": {},
   "source": [
    "## Preparing `syft_flwr` project code\n",
    "\n",
    "```bash\n",
    "fed-analytics-diabetes/\n",
    "├── fed_analytics_diabetes/\n",
    "│   ├── __init__.py\n",
    "│   ├── client_app.py\n",
    "│   └── server_app.py\n",
    "├── pyproject.toml\n",
    "└── README.md\n",
    "```"
   ]
  },
  {
   "cell_type": "code",
   "execution_count": null,
   "metadata": {},
   "outputs": [],
   "source": [
    "from pathlib import Path\n",
    "\n",
    "SYFT_FLWR_PROJECT_DIR = Path(\"./fed-analytics-diabetes\")\n",
    "assert SYFT_FLWR_PROJECT_DIR.exists()"
   ]
  },
  {
   "cell_type": "markdown",
   "metadata": {},
   "source": [
    "## Run `flwr` simulation\n",
    "\n",
    "After preparing `syft_flwr` code, DS runs `flwr run` to make sure that it's compatible with Flower"
   ]
  },
  {
   "cell_type": "code",
   "execution_count": null,
   "metadata": {},
   "outputs": [],
   "source": [
    "RUN_SIMULATION = 1\n",
    "\n",
    "if RUN_SIMULATION:\n",
    "    !flwr run {SYFT_FLWR_PROJECT_DIR}"
   ]
  },
  {
   "cell_type": "markdown",
   "metadata": {},
   "source": [
    "### Bootstrapping the `flwr` project\n",
    "DS runs `syft_flwr.boostrap` to turn a `flwr` project into a `syft_flwr` project"
   ]
  },
  {
   "cell_type": "code",
   "execution_count": null,
   "metadata": {},
   "outputs": [],
   "source": [
    "import syft_flwr\n",
    "\n",
    "try:\n",
    "    !rm -rf {SYFT_FLWR_PROJECT_DIR / \"main.py\"}\n",
    "    !rm -rf {SYFT_FLWR_PROJECT_DIR / \"**/__pycache__/\"}\n",
    "    !rm -rf {SYFT_FLWR_PROJECT_DIR / \"simulation_logs\"}\n",
    "    !rm -rf figures/\n",
    "    syft_flwr.bootstrap(SYFT_FLWR_PROJECT_DIR, aggregator=DS, datasites=[DO1, DO2])\n",
    "    print(\"Bootstrapped project successfully ✅\")\n",
    "except Exception as e:\n",
    "    print(f\"Bootstrapped project failed with error: '{e}' ❌\")"
   ]
  },
  {
   "cell_type": "markdown",
   "metadata": {},
   "source": [
    "### DS runs `syft_flwr` simulation"
   ]
  },
  {
   "cell_type": "code",
   "execution_count": null,
   "metadata": {},
   "outputs": [],
   "source": [
    "if RUN_SIMULATION:\n",
    "    syft_flwr.run(\n",
    "        SYFT_FLWR_PROJECT_DIR, [dataset1.get_mock_path(), dataset2.get_mock_path()]\n",
    "    )"
   ]
  },
  {
   "cell_type": "markdown",
   "metadata": {},
   "source": [
    "## DS submits jobs to DOs"
   ]
  },
  {
   "cell_type": "code",
   "execution_count": null,
   "metadata": {},
   "outputs": [],
   "source": [
    "!rm -rf {SYFT_FLWR_PROJECT_DIR / \"**/__pycache__/\"}\n",
    "!rm -rf {SYFT_FLWR_PROJECT_DIR / \"simulation_logs\"}\n",
    "!rm -rf figures/"
   ]
  },
  {
   "cell_type": "code",
   "execution_count": null,
   "metadata": {},
   "outputs": [],
   "source": [
    "# Jobs submission\n",
    "datasites = [do_client_1, do_client_2]\n",
    "\n",
    "for client in datasites:\n",
    "    job = client.jobs.submit(\n",
    "        name=\"iris_fed_analytics\",\n",
    "        description=\"Syft Flower Federated Analytics on the Iris Dataset\",\n",
    "        user_code_path=SYFT_FLWR_PROJECT_DIR,\n",
    "        dataset_name=SYFTBOX_DATASET_NAME,\n",
    "        tags=[\"federated\", \"analytics\", \"syft_flwr\", \"flwr\"],\n",
    "        entrypoint=\"main.py\",\n",
    "    )\n",
    "    print(job)"
   ]
  },
  {
   "cell_type": "markdown",
   "metadata": {},
   "source": [
    "## DS runs FL server code"
   ]
  },
  {
   "cell_type": "code",
   "execution_count": null,
   "metadata": {},
   "outputs": [],
   "source": [
    "import os\n",
    "\n",
    "if LOCAL_TEST:\n",
    "    os.environ[\"SYFTBOX_CLIENT_CONFIG_PATH\"] = str(ds_stack.client.config_path)\n",
    "\n",
    "os.environ[\"LOGURU_LEVEL\"] = \"DEBUG\"\n",
    "os.environ[\"SYFT_FLWR_MSG_TIMEOUT\"] = \"60\"\n",
    "\n",
    "!uv run {str(SYFT_FLWR_PROJECT_DIR / \"main.py\")} --active"
   ]
  },
  {
   "cell_type": "code",
   "execution_count": null,
   "metadata": {},
   "outputs": [],
   "source": []
  }
 ],
 "metadata": {
  "kernelspec": {
   "display_name": ".venv",
   "language": "python",
   "name": "python3"
  },
  "language_info": {
   "codemirror_mode": {
    "name": "ipython",
    "version": 3
   },
   "file_extension": ".py",
   "mimetype": "text/x-python",
   "name": "python",
   "nbconvert_exporter": "python",
   "pygments_lexer": "ipython3",
   "version": "3.12.9"
  }
 },
 "nbformat": 4,
 "nbformat_minor": 2
}
