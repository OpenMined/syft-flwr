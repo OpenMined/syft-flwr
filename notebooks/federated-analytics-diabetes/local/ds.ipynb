{
 "cells": [
  {
   "cell_type": "markdown",
   "metadata": {},
   "source": [
    "# Data Scientist (DS)\n",
    "\n",
    "Outline of what the DS will do\n",
    "\n",
    "1. DS logs into DO1 and DO2's datasites as guest  \n",
    "2. DS explores the datasets  \n",
    "3. DS prepares syft_flwr code  \n",
    "4. DS bootstraps the syft_flwr project  \n",
    "5. DS runs flwr and syft_flwr simulations (optional)   \n",
    "6. DS submits jobs to the DOs' datasites  \n",
    "7. DS starts the FL server code  \n",
    "8. DS Observes the Results"
   ]
  },
  {
   "cell_type": "markdown",
   "metadata": {},
   "source": [
    "## 1. DS logs into DO1 and DO2's datasites as guest\n",
    "\n",
    "\n",
    "DO will also have their own datasite where they can log in as an admin, but it's not needed in this workflow\n",
    "\n",
    "<img src=\"../images/dsLogsInAsGuests.png\" width=\"55%\" alt=\"DS logs into DOs' datasites as guests\">"
   ]
  },
  {
   "cell_type": "code",
   "execution_count": null,
   "metadata": {},
   "outputs": [],
   "source": [
    "import os\n",
    "from pathlib import Path\n",
    "\n",
    "from loguru import logger\n",
    "from syft_rds.orchestra import setup_rds_server\n",
    "\n",
    "DS = \"ds@openmined.org\"\n",
    "DO1 = \"do1@openmined.org\"\n",
    "DO2 = \"do2@openmined.org\"\n",
    "\n",
    "ds_stack = setup_rds_server(email=DS, root_dir=Path(\".\"), key=\"local_syftbox_network\")\n",
    "do1_guest = ds_stack.init_session(host=DO1)\n",
    "do2_guest = ds_stack.init_session(host=DO2)"
   ]
  },
  {
   "cell_type": "code",
   "execution_count": null,
   "metadata": {},
   "outputs": [],
   "source": [
    "ds = ds_stack.client"
   ]
  },
  {
   "cell_type": "code",
   "execution_count": null,
   "metadata": {},
   "outputs": [],
   "source": [
    "do1_guest.is_admin"
   ]
  },
  {
   "cell_type": "code",
   "execution_count": null,
   "metadata": {},
   "outputs": [],
   "source": [
    "do2_guest.is_admin"
   ]
  },
  {
   "cell_type": "markdown",
   "metadata": {},
   "source": [
    "Set some constants and variables"
   ]
  },
  {
   "cell_type": "code",
   "execution_count": null,
   "metadata": {},
   "outputs": [],
   "source": [
    "SYFTBOX_DATASET_NAME = \"pima-indians-diabetes-database\"\n",
    "\n",
    "os.environ[\"SYFTBOX_CLIENT_CONFIG_PATH\"] = str(ds_stack.client.config_path)\n",
    "os.environ[\"LOGURU_LEVEL\"] = \"DEBUG\"\n",
    "os.environ[\"SYFT_FLWR_MSG_TIMEOUT\"] = \"60\"\n",
    "\n",
    "do_clients = [do1_guest, do2_guest]\n",
    "do_emails = [DO1, DO2]"
   ]
  },
  {
   "cell_type": "markdown",
   "metadata": {},
   "source": [
    "## 2. DS explores the datasets\n",
    "\n",
    "DS can access the DOs' mock data, but can't access the private data\n",
    "\n",
    "<img src=\"../images/dsExploresDOsDatasets.png\" width=\"71%\" alt=\"DS explores datasets\">"
   ]
  },
  {
   "cell_type": "code",
   "execution_count": null,
   "metadata": {},
   "outputs": [],
   "source": [
    "SYFTBOX_DATASET_NAME\n",
    "\n",
    "mock_paths = []\n",
    "for client in do_clients:\n",
    "    dataset = client.dataset.get(name=SYFTBOX_DATASET_NAME)\n",
    "    mock_paths.append(dataset.get_mock_path())\n",
    "    print(\n",
    "        f\"Client {client.host}'s dataset name: \\n{dataset.name}\\n. Mock path: \\n{dataset.get_mock_path()}\"\n",
    "    )\n",
    "    print()"
   ]
  },
  {
   "cell_type": "markdown",
   "metadata": {},
   "source": [
    "Check that the DS can't access the private datasets, even with local test"
   ]
  },
  {
   "cell_type": "code",
   "execution_count": null,
   "metadata": {},
   "outputs": [],
   "source": [
    "try:\n",
    "    dataset.get_private_path()\n",
    "except Exception as e:\n",
    "    logger.error(e)"
   ]
  },
  {
   "cell_type": "markdown",
   "metadata": {},
   "source": [
    "## 3. DS prepares `syft_flwr` code\n",
    "\n",
    "A `syft_flwr` project requires minimal changes to a Flower project:\n",
    "\n",
    "1. A `syft_flwr` project has the same structure as an [example federated analytics Flower project](https://flower.ai/blog/2023-01-24-federated-analytics-pandas/):\n",
    "```\n",
    "fed-analytics-diabetes\n",
    "├── fed-analytics-diabetes\n",
    "│   ├── __init__.py\n",
    "│   ├── client_app.py   # Defines your ClientApp\n",
    "│   ├── server_app.py   # Defines your ServerApp\n",
    "├── pyproject.toml      # Project metadata like dependencies and configs\n",
    "└── README.md\n",
    "``` "
   ]
  },
  {
   "cell_type": "markdown",
   "metadata": {},
   "source": [
    "\n",
    "Concretely, for diabetes prediction, we have the project code under the path `../fed-analytics-diabetes`\n",
    "\n",
    "<img src=\"../images/dsPreparesSyftFlwrProject.png\" width=\"20%\" alt=\"DS prepares code\">\n"
   ]
  },
  {
   "cell_type": "markdown",
   "metadata": {},
   "source": [
    "where the DS will run the `ServerApp` (defined in `server_app.py`), and the `ClientApp` (in `client_app.py`)\n",
    "\n",
    "<img src=\"../images/dsSyftFlwrProjectArch.png\" width=\"69%\" alt=\"syft_flwr project architecture\">\n"
   ]
  },
  {
   "cell_type": "code",
   "execution_count": null,
   "metadata": {},
   "outputs": [],
   "source": [
    "SYFT_FLWR_PROJECT_PATH = Path(\"../fed-analytics-diabetes\")\n",
    "assert SYFT_FLWR_PROJECT_PATH.exists()"
   ]
  },
  {
   "cell_type": "markdown",
   "metadata": {},
   "source": [
    "2. Compared to a Flower project, the DS only needs to change a bit of how the `client_app.py`, which runs on the data owners' datasites, loads the data:\n",
    "\n",
    "<img src=\"../images/dsCodeLoadsClientData.png\" width=\"70%\" alt=\"load datasets comparison\">\n"
   ]
  },
  {
   "cell_type": "markdown",
   "metadata": {},
   "source": [
    "## 4. DS bootstraps the `syft_flwr` project\n",
    "\n",
    "After the DS has prepared the `syft_flwr` project code, they can run the `syft_flwr.bootstrap` command to modify the project's metadata in `pyproject.toml` that specifies the unique name of the FL run, who are the data owners and who is the aggregator\n",
    "```\n",
    "[tool.syft_flwr]\n",
    "app_name = \"ds@openmined.org_fed-analytics-diabetes_1753435643\"\n",
    "datasites = [\n",
    "    \"do1@openmined.org\",\n",
    "    \"do2@openmined.org\",\n",
    "]\n",
    "aggregator = \"ds@openmined.org\"\n",
    "```\n",
    "and creates the `main.py` to specifies who runs what based on the new metatdata information"
   ]
  },
  {
   "cell_type": "code",
   "execution_count": null,
   "metadata": {},
   "outputs": [],
   "source": [
    "import syft_flwr\n",
    "\n",
    "try:\n",
    "    !rm -rf {SYFT_FLWR_PROJECT_PATH / \"main.py\"}\n",
    "    syft_flwr.bootstrap(SYFT_FLWR_PROJECT_PATH, aggregator=DS, datasites=do_emails)\n",
    "    print(\"Bootstrapped project successfully ✅\")\n",
    "except Exception as e:\n",
    "    print(e)"
   ]
  },
  {
   "cell_type": "markdown",
   "metadata": {},
   "source": [
    "## 5. DS runs `flwr` and `syft_flwr` simulations (optional)"
   ]
  },
  {
   "cell_type": "code",
   "execution_count": null,
   "metadata": {},
   "outputs": [],
   "source": [
    "RUN_SIMULATION = True"
   ]
  },
  {
   "cell_type": "markdown",
   "metadata": {},
   "source": [
    "First we run normal Flower simulation with `flwr run`"
   ]
  },
  {
   "cell_type": "code",
   "execution_count": null,
   "metadata": {},
   "outputs": [],
   "source": [
    "if RUN_SIMULATION:\n",
    "    !flwr run {SYFT_FLWR_PROJECT_PATH}"
   ]
  },
  {
   "cell_type": "code",
   "execution_count": null,
   "metadata": {},
   "outputs": [],
   "source": [
    "# clean up\n",
    "!rm -rf {SYFT_FLWR_PROJECT_PATH / \"fl_diabetes_prediction\" / \"__pycache__\"}  # clean before submitting\n",
    "!rm -rf {\"../weights/\"}"
   ]
  },
  {
   "cell_type": "markdown",
   "metadata": {},
   "source": [
    "Now the DS can run `syft_flwr` simulation on DO's mock data by launching 2 threads that run DOs code and a thread that runs the DS code \n",
    "\n",
    "<img src=\"../images/dsRunsSyftFLWRSimulation.png\" width=\"53%\" alt=\"ds runs simulation with syft_flwr.run\">"
   ]
  },
  {
   "cell_type": "code",
   "execution_count": null,
   "metadata": {},
   "outputs": [],
   "source": [
    "if RUN_SIMULATION:\n",
    "    print(f\"running syft_flwr simulation with mock paths: {mock_paths}\")\n",
    "    syft_flwr.run(SYFT_FLWR_PROJECT_PATH, mock_paths)"
   ]
  },
  {
   "cell_type": "markdown",
   "metadata": {},
   "source": [
    "Please look into the dir pointed to by `📝 Log directory` to see the logs of different simulated clients, by default it stays in the `fed-analytics-diabetes/simulation_logs`\n",
    "\n",
    "<img src=\"../images/dsSimulationLogs.png\" width=\"20%\" alt=\"DS simulation logs folder\">\n",
    "\n",
    "We will also see that the aggregated historgrams are saved under `figures/` dir \n",
    "\n",
    "<img src=\"../images/dsAggregatedFiguresFolder.png\" width=\"20%\" alt=\"DS aggregated figures folder\">\n",
    "\n",
    "However, since running simulation is done on mock data, the local frequency is very low (only 7 as maximum for age)\n",
    "\n",
    "<img src=\"../images/dsLocalFrequencyMock.png\" width=\"50%\" alt=\"local frequency mock data\">"
   ]
  },
  {
   "cell_type": "markdown",
   "metadata": {},
   "source": [
    "## 6. DS submits jobs to the DOs' datasites"
   ]
  },
  {
   "cell_type": "markdown",
   "metadata": {},
   "source": [
    "The DS submits the code in `fl-diabetes-prediction` to the DO's datasites\n",
    "\n",
    "<img src=\"../images/dsSubmitsJobs.png\" width=\"50%\" alt=\"DS submits jobs\">"
   ]
  },
  {
   "cell_type": "code",
   "execution_count": null,
   "metadata": {},
   "outputs": [],
   "source": [
    "# clean up before submitting jobs\n",
    "!rm -rf {SYFT_FLWR_PROJECT_PATH / \"fl_diabetes_prediction\" / \"__pycache__\"}\n",
    "!rm -rf {SYFT_FLWR_PROJECT_PATH / \"simulation_logs\"}\n",
    "!rm -rf {\"./figures/\"}"
   ]
  },
  {
   "cell_type": "code",
   "execution_count": null,
   "metadata": {},
   "outputs": [],
   "source": [
    "for client in do_clients:\n",
    "    print(f\"sending job to {client.host}\")\n",
    "    job = client.jobs.submit(\n",
    "        name=\"fl-diabetes-prediction\",\n",
    "        user_code_path=SYFT_FLWR_PROJECT_PATH,\n",
    "        dataset_name=SYFTBOX_DATASET_NAME,\n",
    "        entrypoint=\"main.py\",\n",
    "    )\n",
    "    print(job)"
   ]
  },
  {
   "cell_type": "markdown",
   "metadata": {},
   "source": [
    "<img src=\"../images/dsWaitsForJobsToBeApproved.png\" width=\"30%\" alt=\"DS waits for jobs to be approved\">"
   ]
  },
  {
   "cell_type": "markdown",
   "metadata": {},
   "source": [
    "## 7. DS starts the FL server code\n",
    "\n",
    "By running the FL server code, the DS aggregates the models trained on DOs' private local data into an improved global model in multiple rounds\n",
    "\n",
    "<video width=\"90%\" controls>\n",
    "  <source src=\"../images/fed-analytics.mp4\" type=\"video/mp4\">\n",
    "  Your browser does not support the video tag.\n",
    "</video>"
   ]
  },
  {
   "cell_type": "code",
   "execution_count": null,
   "metadata": {},
   "outputs": [],
   "source": [
    "!uv run {str(SYFT_FLWR_PROJECT_PATH / \"main.py\")} --active"
   ]
  },
  {
   "cell_type": "markdown",
   "metadata": {},
   "source": [
    "## 8. DS Observes the Results"
   ]
  },
  {
   "cell_type": "markdown",
   "metadata": {},
   "source": [
    "Now the DS can monitor the aggregated figures trained on DO's private datasets in the `figures` folder\n",
    "\n",
    "<img src=\"../images/dsAggregatedFiguresFolder.png\" width=\"20%\" alt=\"DS aggregated figures folder\">\n",
    "\n",
    "Now, the local frequency when running job on private data is much higher compared to running simulation on mock data\n",
    "\n",
    "<img src=\"../images/dsLocalFrequencyReal.png\" width=\"50%\" alt=\"DS aggregated frequency real\">"
   ]
  },
  {
   "cell_type": "markdown",
   "metadata": {},
   "source": []
  }
 ],
 "metadata": {
  "kernelspec": {
   "display_name": ".venv",
   "language": "python",
   "name": "python3"
  },
  "language_info": {
   "codemirror_mode": {
    "name": "ipython",
    "version": 3
   },
   "file_extension": ".py",
   "mimetype": "text/x-python",
   "name": "python",
   "nbconvert_exporter": "python",
   "pygments_lexer": "ipython3",
   "version": "3.12.9"
  }
 },
 "nbformat": 4,
 "nbformat_minor": 2
}
