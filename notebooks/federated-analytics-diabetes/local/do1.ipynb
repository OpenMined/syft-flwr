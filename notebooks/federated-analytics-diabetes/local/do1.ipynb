{
 "cells": [
  {
   "cell_type": "markdown",
   "metadata": {},
   "source": [
    "# Data Owner 01\n",
    "\n",
    "Outline of what DO1 will do\n",
    "\n",
    "0. Setup local syftbox network for local experimentations (only needed for the local testing case)\n",
    "1. DO logs into the datasite as an admin\n",
    "2. DO creates a Syft dataset \n",
    "3. DO reviews and run jobs submitted by data scientists on DO's private data"
   ]
  },
  {
   "cell_type": "markdown",
   "metadata": {},
   "source": [
    "## 0. Setup local syftbox network for local experimentations\n",
    "\n",
    "This will set up a local syftbox directory structures to test the whole flow locally under `./local_syftbox_network`, where eventually when all 3 clients have setup their datasites, it will look like below\n",
    "\n",
    "<img src=\"../images/localSyftBoxNetwork.png\" width=\"20%\" alt=\"local SyftBox network\">"
   ]
  },
  {
   "cell_type": "code",
   "execution_count": null,
   "metadata": {},
   "outputs": [],
   "source": [
    "import os\n",
    "from pathlib import Path\n",
    "\n",
    "from syft_rds.orchestra import remove_rds_stack_dir, setup_rds_server\n",
    "\n",
    "remove_rds_stack_dir(root_dir=Path(\".\"), key=\"local_syftbox_network\")\n",
    "\n",
    "DO_EMAIL = \"do1@openmined.org\"\n",
    "do_stack = setup_rds_server(\n",
    "    email=DO_EMAIL, root_dir=Path(\".\"), key=\"local_syftbox_network\"\n",
    ")\n",
    "\n",
    "os.environ[\"SYFTBOX_CLIENT_CONFIG_PATH\"] = str(do_stack.client.config_path)"
   ]
  },
  {
   "cell_type": "markdown",
   "metadata": {},
   "source": [
    "## 1. DO logs into the datasite as admin"
   ]
  },
  {
   "cell_type": "markdown",
   "metadata": {},
   "source": [
    "<img src=\"../images/do1LogsInDatasite.png\" width=\"61%\" alt=\"DO1 logs into local datasite\">"
   ]
  },
  {
   "cell_type": "code",
   "execution_count": null,
   "metadata": {},
   "outputs": [],
   "source": [
    "do1 = do_stack.init_session(host=DO_EMAIL)"
   ]
  },
  {
   "cell_type": "code",
   "execution_count": null,
   "metadata": {},
   "outputs": [],
   "source": [
    "do1.is_admin"
   ]
  },
  {
   "cell_type": "markdown",
   "metadata": {},
   "source": [
    "## 2. DO1 creates a dataset"
   ]
  },
  {
   "cell_type": "markdown",
   "metadata": {},
   "source": [
    "First, DO1 prepares a diabetes dataset with mock (fake / synthetic) part and real, private part  \n",
    "\n",
    "<img src=\"../images/datasetPartition0.png\" width=\"20%\" alt=\"partitioned dataset 0\">"
   ]
  },
  {
   "cell_type": "code",
   "execution_count": null,
   "metadata": {},
   "outputs": [],
   "source": [
    "from pathlib import Path\n",
    "\n",
    "from huggingface_hub import snapshot_download\n",
    "\n",
    "DATASET_DIR = Path(\"../dataset/\").expanduser().absolute()\n",
    "\n",
    "if not DATASET_DIR.exists():\n",
    "    snapshot_download(\n",
    "        repo_id=\"khoaguin/pima-indians-diabetes-database-partitions\",\n",
    "        repo_type=\"dataset\",\n",
    "        local_dir=DATASET_DIR,\n",
    "    )\n",
    "\n",
    "partition_number = 0\n",
    "DATASET_PATH = DATASET_DIR / f\"pima-indians-diabetes-database-{partition_number}\"\n",
    "DATASET_PATH"
   ]
  },
  {
   "cell_type": "markdown",
   "metadata": {},
   "source": [
    "DO1 creates a syft dataset, where the mock part is uploaded to the datasite and is public to the SyftBox network, and the private part stays local (never get shared)\n",
    "\n",
    "\n",
    "<img src=\"../images/do1CreatesSyftDataset.png\" width=\"53%\" alt=\"do1 creates a Syft dataset\">"
   ]
  },
  {
   "cell_type": "code",
   "execution_count": null,
   "metadata": {},
   "outputs": [],
   "source": [
    "dataset = do1.dataset.create(\n",
    "    name=\"pima-indians-diabetes-database\",\n",
    "    path=DATASET_PATH / \"private\",\n",
    "    mock_path=DATASET_PATH / \"mock\",\n",
    "    description_path=DATASET_PATH / \"README.md\",\n",
    ")\n",
    "dataset.describe()"
   ]
  },
  {
   "cell_type": "markdown",
   "metadata": {},
   "source": [
    "<img src=\"../images/doWaitsForJobs.png\" width=\"41%\" alt=\"do waiting for jobs\">"
   ]
  },
  {
   "cell_type": "markdown",
   "metadata": {},
   "source": [
    "## 3. Review and Run Jobs"
   ]
  },
  {
   "cell_type": "markdown",
   "metadata": {},
   "source": [
    "After the DS submits a job, the DO sees that it has appeared on their datasite, and can review it\n",
    "\n",
    "<img src=\"../images/do1ReviewsJob.png\" width=\"60%\" alt=\"do1 gets and reviews jobs\">"
   ]
  },
  {
   "cell_type": "code",
   "execution_count": null,
   "metadata": {},
   "outputs": [],
   "source": [
    "jobs = do1.job.get_all()\n",
    "jobs"
   ]
  },
  {
   "cell_type": "code",
   "execution_count": null,
   "metadata": {},
   "outputs": [],
   "source": [
    "job = jobs[0]\n",
    "job"
   ]
  },
  {
   "cell_type": "code",
   "execution_count": null,
   "metadata": {},
   "outputs": [],
   "source": [
    "# same as job.code.describe()\n",
    "job.show_user_code()"
   ]
  },
  {
   "cell_type": "code",
   "execution_count": null,
   "metadata": {},
   "outputs": [],
   "source": [
    "res_job = do1.run_private(job)"
   ]
  },
  {
   "cell_type": "code",
   "execution_count": null,
   "metadata": {},
   "outputs": [],
   "source": []
  },
  {
   "cell_type": "markdown",
   "metadata": {},
   "source": [
    "By running `run_private(job)`, the DO1 runs the `syft_flwr` client code that trains the model received from the aggregator on their private data and then sends the updated model back to the aggregator. This happens for multiple rounds\n",
    "\n",
    "<video width=\"90%\" controls>\n",
    "  <source src=\"../images/fed-analytics.mp4\" type=\"video/mp4\">\n",
    "  Your browser does not support the video tag.\n",
    "</video>"
   ]
  }
 ],
 "metadata": {
  "kernelspec": {
   "display_name": ".venv",
   "language": "python",
   "name": "python3"
  },
  "language_info": {
   "codemirror_mode": {
    "name": "ipython",
    "version": 3
   },
   "file_extension": ".py",
   "mimetype": "text/x-python",
   "name": "python",
   "nbconvert_exporter": "python",
   "pygments_lexer": "ipython3",
   "version": "3.12.9"
  }
 },
 "nbformat": 4,
 "nbformat_minor": 2
}
