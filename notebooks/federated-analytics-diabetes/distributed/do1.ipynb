{
 "cells": [
  {
   "cell_type": "markdown",
   "metadata": {},
   "source": [
    "# Data Owner 01\n",
    "\n",
    "Outline of what DO1 will do\n",
    "\n",
    "0. Run the `syftbox client` in a terminal (or the SyftBox UI app)\n",
    "1. DO logs into the datasite as an admin\n",
    "2. DO creates a Syft dataset \n",
    "3. DO reviews and run jobs submitted by data scientists on DO's private data"
   ]
  },
  {
   "cell_type": "markdown",
   "metadata": {},
   "source": [
    "## 0. DO runs the `syftbox client` in a terminal or the SyftBox UI app \n",
    "The CLI syftbox client can be installed with a single command: `curl -fsSL https://syftbox.net/install.sh | sh`. The SyftUI app can be installed from `https://www.syftbox.net/`:\n",
    "\n",
    "<img src=\"../images/syftboxnet.png\" width=\"41%\" alt=\"syftbox.net\">\n",
    "\n",
    "This will set up a SyftBox directory, where by default, it's under the `~/SyftBox` folder \n",
    "\n",
    "<img src=\"../images/SyftBoxNetwork.png\" width=\"20%\" alt=\"SyftBox network\">"
   ]
  },
  {
   "cell_type": "markdown",
   "metadata": {},
   "source": [
    "## 1. DO logs into the datasite as admin"
   ]
  },
  {
   "cell_type": "markdown",
   "metadata": {},
   "source": [
    "<img src=\"../images/do1LogsInSyftBoxDatasite.png\" width=\"67%\" alt=\"DO1 logs into SyftBox datasite\">"
   ]
  },
  {
   "cell_type": "code",
   "execution_count": null,
   "metadata": {},
   "outputs": [],
   "source": [
    "import syft_rds as sy\n",
    "from loguru import logger\n",
    "from syft_core import Client\n",
    "\n",
    "do1_email = Client.load().email\n",
    "logger.info(f\"DO1 email: {do1_email}\")\n",
    "do1 = sy.init_session(host=do1_email, start_rds_server=True)"
   ]
  },
  {
   "cell_type": "code",
   "execution_count": null,
   "metadata": {},
   "outputs": [],
   "source": [
    "do1.is_admin"
   ]
  },
  {
   "cell_type": "markdown",
   "metadata": {},
   "source": [
    "## 2. DO1 creates a dataset"
   ]
  },
  {
   "cell_type": "markdown",
   "metadata": {},
   "source": [
    "First, DO1 prepares a diabetes dataset with mock (fake / synthetic) part and real, private part  \n",
    "\n",
    "<img src=\"../images/datasetPartition0.png\" width=\"30%\" alt=\"partitioned dataset 0\">"
   ]
  },
  {
   "cell_type": "code",
   "execution_count": null,
   "metadata": {},
   "outputs": [],
   "source": [
    "from pathlib import Path\n",
    "\n",
    "from huggingface_hub import snapshot_download\n",
    "\n",
    "DATASET_DIR = Path(\"../dataset/\").expanduser().absolute()\n",
    "\n",
    "if not DATASET_DIR.exists():\n",
    "    snapshot_download(\n",
    "        repo_id=\"khoaguin/pima-indians-diabetes-database-partitions\",\n",
    "        repo_type=\"dataset\",\n",
    "        local_dir=DATASET_DIR,\n",
    "    )\n",
    "\n",
    "partition_number = 0\n",
    "DATASET_PATH = DATASET_DIR / f\"pima-indians-diabetes-database-{partition_number}\"\n",
    "DATASET_PATH"
   ]
  },
  {
   "cell_type": "markdown",
   "metadata": {},
   "source": [
    "DO1 creates a syft dataset, where the **mock part is uploaded to the datasite and is public** to the SyftBox network, and **the private part always stays local (never get shared)**\n",
    "\n",
    "\n",
    "<img src=\"../images/do1CreatesSyftDataset.png\" width=\"55%\" alt=\"partitioned dataset\">"
   ]
  },
  {
   "cell_type": "code",
   "execution_count": null,
   "metadata": {},
   "outputs": [],
   "source": [
    "try:\n",
    "    dataset = do1.dataset.create(\n",
    "        name=\"pima-indians-diabetes-database\",\n",
    "        path=DATASET_PATH / \"private\",\n",
    "        mock_path=DATASET_PATH / \"mock\",\n",
    "        description_path=DATASET_PATH / \"README.md\",\n",
    "    )\n",
    "    dataset.describe()\n",
    "except ValueError as e:\n",
    "    logger.error(f\"Dataset already exists: {e}\")\n",
    "    dataset = do1.dataset.get(name=\"pima-indians-diabetes-database\")\n",
    "    dataset.describe()\n",
    "except Exception as e:\n",
    "    logger.error(f\"An unexpected error occurred: {e}\")"
   ]
  },
  {
   "cell_type": "code",
   "execution_count": null,
   "metadata": {},
   "outputs": [],
   "source": [
    "# Optional: Clean up old jobs\n",
    "do1.job.delete_all()"
   ]
  },
  {
   "cell_type": "markdown",
   "metadata": {},
   "source": [
    "<img src=\"../images/doWaitsForJobs.png\" width=\"40%\" alt=\"do waiting for jobs\">"
   ]
  },
  {
   "cell_type": "markdown",
   "metadata": {},
   "source": [
    "## 3. Review and Run Jobs"
   ]
  },
  {
   "cell_type": "markdown",
   "metadata": {},
   "source": [
    "After the DS submits a job, the DO sees that it has appeared on their datasite, and can review it\n",
    "\n",
    "<img src=\"../images/do1ReviewsJob.png\" width=\"61%\" alt=\"do waiting for jobs\">"
   ]
  },
  {
   "cell_type": "code",
   "execution_count": null,
   "metadata": {},
   "outputs": [],
   "source": [
    "jobs = do1.job.get_all(status=\"pending_code_review\")\n",
    "jobs"
   ]
  },
  {
   "cell_type": "code",
   "execution_count": null,
   "metadata": {},
   "outputs": [],
   "source": [
    "job = jobs[0]\n",
    "job"
   ]
  },
  {
   "cell_type": "code",
   "execution_count": null,
   "metadata": {},
   "outputs": [],
   "source": [
    "# same as job.code.describe()\n",
    "job.show_user_code()"
   ]
  },
  {
   "cell_type": "markdown",
   "metadata": {},
   "source": [
    "By running `run_private(job)`, the DO1 runs the `syft_flwr` client code that trains the model received from the aggregator on their private data and then sends the updated model back to the aggregator. This happens for multiple rounds\n",
    "\n",
    "<video width=\"90%\" controls>\n",
    "  <source src=\"../images/fed-analytics.mp4\" type=\"video/mp4\">\n",
    "  Your browser does not support the video tag.\n",
    "</video>"
   ]
  },
  {
   "cell_type": "code",
   "execution_count": null,
   "metadata": {},
   "outputs": [],
   "source": [
    "res_job = do1.run_private(job)"
   ]
  },
  {
   "cell_type": "code",
   "execution_count": null,
   "metadata": {},
   "outputs": [],
   "source": []
  }
 ],
 "metadata": {
  "kernelspec": {
   "display_name": ".venv",
   "language": "python",
   "name": "python3"
  },
  "language_info": {
   "codemirror_mode": {
    "name": "ipython",
    "version": 3
   },
   "file_extension": ".py",
   "mimetype": "text/x-python",
   "name": "python",
   "nbconvert_exporter": "python",
   "pygments_lexer": "ipython3",
   "version": "3.13.5"
  }
 },
 "nbformat": 4,
 "nbformat_minor": 2
}
