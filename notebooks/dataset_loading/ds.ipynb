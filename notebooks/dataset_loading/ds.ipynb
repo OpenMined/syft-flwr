{
 "cells": [
  {
   "cell_type": "code",
   "execution_count": null,
   "metadata": {},
   "outputs": [],
   "source": [
    "import os\n",
    "from pathlib import Path\n",
    "\n",
    "import syft_rds as sy\n",
    "\n",
    "import syft_flwr"
   ]
  },
  {
   "cell_type": "code",
   "execution_count": null,
   "metadata": {},
   "outputs": [],
   "source": [
    "DS = \"khoa@openmined.org\"\n",
    "\n",
    "!just dump-sim-config {DS}"
   ]
  },
  {
   "cell_type": "code",
   "execution_count": null,
   "metadata": {},
   "outputs": [],
   "source": [
    "PROJECT_DIR = Path(os.getcwd()).parent.parent.absolute()\n",
    "FLWR_PROJECT_PATH = PROJECT_DIR / \"examples\" / \"embedded-devices\"\n",
    "SIM_DIR = PROJECT_DIR / \".sim\"\n",
    "CONFIG_DIR = SIM_DIR / \".config\"\n",
    "\n",
    "DO1 = \"yash@openmined.org\"\n",
    "DO2 = \"rasswanth@openmined.org\"\n",
    "DS_CONFIG = f\"{CONFIG_DIR}/{DS}.json\""
   ]
  },
  {
   "cell_type": "code",
   "execution_count": null,
   "metadata": {},
   "outputs": [],
   "source": [
    "do_client_1 = sy.init_session(host=DO1, syftbox_client_config_path=DS_CONFIG)\n",
    "assert do_client_1.host == DO1\n",
    "assert do_client_1.email == DS\n",
    "assert not do_client_1.is_admin\n",
    "\n",
    "do_client_2 = sy.init_session(host=DO2, syftbox_client_config_path=DS_CONFIG)\n",
    "assert do_client_2.host == DO2\n",
    "assert do_client_2.email == DS\n",
    "assert not do_client_2.is_admin"
   ]
  },
  {
   "cell_type": "code",
   "execution_count": null,
   "metadata": {},
   "outputs": [],
   "source": [
    "datasites = [do_client_1, do_client_2]\n",
    "\n",
    "DATASET_NAME = \"fashionmnist\"\n",
    "dataset1 = do_client_1.dataset.get(name=DATASET_NAME)\n",
    "dataset1.describe()"
   ]
  },
  {
   "cell_type": "code",
   "execution_count": null,
   "metadata": {},
   "outputs": [],
   "source": [
    "dataset2 = do_client_2.dataset.get(name=DATASET_NAME)\n",
    "dataset2.describe()"
   ]
  },
  {
   "cell_type": "markdown",
   "metadata": {},
   "source": [
    "## Bootstrap the `flwr` project and run the server side"
   ]
  },
  {
   "cell_type": "code",
   "execution_count": null,
   "metadata": {},
   "outputs": [],
   "source": [
    "flwr_project_path = str(FLWR_PROJECT_PATH)\n",
    "\n",
    "print(flwr_project_path)"
   ]
  },
  {
   "cell_type": "code",
   "execution_count": null,
   "metadata": {},
   "outputs": [],
   "source": [
    "!syft_flwr bootstrap {flwr_project_path} -a {DS} -d {DO1} -d {DO2}"
   ]
  },
  {
   "cell_type": "code",
   "execution_count": null,
   "metadata": {},
   "outputs": [],
   "source": [
    "!just run-sim-server {flwr_project_path} {DS}"
   ]
  },
  {
   "cell_type": "markdown",
   "metadata": {},
   "source": [
    "## TODO - Run simulation (locally on DS's machine)\n"
   ]
  },
  {
   "cell_type": "code",
   "execution_count": null,
   "metadata": {},
   "outputs": [],
   "source": [
    "syft_flwr.run_simulation(\n",
    "    path=FLWR_PROJECT_PATH,\n",
    "    mock_paths=[\n",
    "        do_client.datasets.get(name=DATASET_NAME).mock_path for do_client in datasites\n",
    "    ],\n",
    "    num_datasites=len(datasites),\n",
    ")"
   ]
  },
  {
   "cell_type": "markdown",
   "metadata": {},
   "source": [
    "## TODO - Submit Jobs"
   ]
  },
  {
   "cell_type": "code",
   "execution_count": null,
   "metadata": {},
   "outputs": [],
   "source": [
    "# Job submission\n",
    "for client in datasites:\n",
    "    client.jobs.submit(\n",
    "        name=\"MedMNIST FL Experiment\",\n",
    "        description=\"MedMNIST Federated Learning Experiment\",\n",
    "        user_code_path=FLWR_PROJECT_PATH,\n",
    "        # runtime=\"./dockerfile\", # path to a local dockerfile\n",
    "        tags=[\"federated\", \"learning\", \"medical\", \"mnist\"],\n",
    "    )\n",
    "\n",
    "syft_flwr.view_server_logs(name=FLWR_PROJECT_PATH.name)"
   ]
  }
 ],
 "metadata": {
  "kernelspec": {
   "display_name": ".venv",
   "language": "python",
   "name": "python3"
  },
  "language_info": {
   "codemirror_mode": {
    "name": "ipython",
    "version": 3
   },
   "file_extension": ".py",
   "mimetype": "text/x-python",
   "name": "python",
   "nbconvert_exporter": "python",
   "pygments_lexer": "ipython3",
   "version": "3.12.9"
  }
 },
 "nbformat": 4,
 "nbformat_minor": 2
}
