{
 "cells": [
  {
   "cell_type": "code",
   "execution_count": null,
   "metadata": {},
   "outputs": [],
   "source": [
    "import os\n",
    "from pathlib import Path\n",
    "\n",
    "import syft_rds as sy\n",
    "\n",
    "import syft_flwr"
   ]
  },
  {
   "cell_type": "markdown",
   "metadata": {},
   "source": [
    "## Set up"
   ]
  },
  {
   "cell_type": "code",
   "execution_count": null,
   "metadata": {},
   "outputs": [],
   "source": [
    "EXAMPLE = \"quickstart-pytorch\"\n",
    "# EXAMPLE = \"embedded-devices\"\n",
    "\n",
    "if EXAMPLE == \"embedded-devices\":\n",
    "    SYFTBOX_DATASET_NAME = \"fashionmnist\"\n",
    "elif EXAMPLE == \"quickstart-pytorch\":\n",
    "    SYFTBOX_DATASET_NAME = \"cifar10\"\n",
    "\n",
    "PROJECT_DIR = Path(os.getcwd()).parent.parent.absolute()\n",
    "FLWR_PROJECT_PATH = PROJECT_DIR / \"examples\" / EXAMPLE\n",
    "SIM_DIR = PROJECT_DIR / \".sim\"\n",
    "CONFIG_DIR = SIM_DIR / \".config\"\n",
    "\n",
    "DO1 = \"yash@openmined.org\"\n",
    "DO2 = \"rasswanth@openmined.org\"\n",
    "DS = \"khoa@openmined.org\"\n",
    "\n",
    "DS_CONFIG = f\"{CONFIG_DIR}/{DS}.json\"\n",
    "\n",
    "!just dump-sim-config {DS}"
   ]
  },
  {
   "cell_type": "code",
   "execution_count": null,
   "metadata": {},
   "outputs": [],
   "source": [
    "# do_syftbox_client = Client.load(DS_CONFIG)\n",
    "# event_server = create_app(client=do_syftbox_client)\n",
    "# event_server.start()"
   ]
  },
  {
   "cell_type": "code",
   "execution_count": null,
   "metadata": {},
   "outputs": [],
   "source": [
    "do_client_1 = sy.init_session(host=DO1, syftbox_client_config_path=DS_CONFIG)\n",
    "assert do_client_1.host == DO1\n",
    "assert do_client_1.email == DS\n",
    "assert not do_client_1.is_admin\n",
    "\n",
    "do_client_2 = sy.init_session(host=DO2, syftbox_client_config_path=DS_CONFIG)\n",
    "assert do_client_2.host == DO2\n",
    "assert do_client_2.email == DS\n",
    "assert not do_client_2.is_admin\n",
    "\n",
    "datasites = [do_client_1, do_client_2]"
   ]
  },
  {
   "cell_type": "code",
   "execution_count": null,
   "metadata": {},
   "outputs": [],
   "source": [
    "dataset1 = do_client_1.dataset.get(name=SYFTBOX_DATASET_NAME)\n",
    "dataset1.describe()"
   ]
  },
  {
   "cell_type": "code",
   "execution_count": null,
   "metadata": {},
   "outputs": [],
   "source": [
    "dataset2 = do_client_2.dataset.get(name=SYFTBOX_DATASET_NAME)\n",
    "dataset2.describe()"
   ]
  },
  {
   "cell_type": "code",
   "execution_count": null,
   "metadata": {},
   "outputs": [],
   "source": [
    "try:\n",
    "    syft_flwr.bootstrap(FLWR_PROJECT_PATH, aggregator=DS, datasites=[DO1, DO2])\n",
    "    print(\"Project bootstrapped successfully\")\n",
    "except Exception as e:\n",
    "    print(f\"Boostrap failed with err: {e}\")"
   ]
  },
  {
   "cell_type": "code",
   "execution_count": null,
   "metadata": {},
   "outputs": [],
   "source": [
    "# Job submission\n",
    "! rm -rf {FLWR_PROJECT_PATH / \".venv\"} {FLWR_PROJECT_PATH / \"pytorch\" / \"__pycache__\"} {FLWR_PROJECT_PATH / \"pytorch\" / \"weights\"} \n",
    "\n",
    "for client in datasites:\n",
    "    job = client.jobs.submit(\n",
    "        name=\"Syft Flower Experiment\",\n",
    "        description=\"Syft Flower Federated Learning Experiment\",\n",
    "        user_code_path=FLWR_PROJECT_PATH,\n",
    "        dataset_name=SYFTBOX_DATASET_NAME,\n",
    "        # runtime=\"./dockerfile\", # path to a local dockerfile\n",
    "        tags=[\"federated\", \"learning\", \"syft\", \"flwr\"],\n",
    "        entrypoint=\"main.py\",\n",
    "    )\n",
    "    print(job)"
   ]
  },
  {
   "cell_type": "markdown",
   "metadata": {},
   "source": [
    "## Run the server side code (Self Submit - TODO)"
   ]
  },
  {
   "cell_type": "code",
   "execution_count": null,
   "metadata": {},
   "outputs": [],
   "source": [
    "# ds_client = sy.init_session(host=DS, syftbox_client_config_path=DS_CONFIG)\n",
    "\n",
    "# self_job = ds_client.jobs.submit(\n",
    "#         name=\"Syft Flower Experiment\",\n",
    "#         description=\"Syft Flower Federated Learning Experiment\",\n",
    "#         user_code_path=FLWR_PROJECT_PATH,\n",
    "#         dataset_name=SYFTBOX_DATASET_NAME,\n",
    "#         # runtime=\"./dockerfile\", # path to a local dockerfile\n",
    "#         tags=[\"federated\", \"learning\", \"syft\", \"flwr\"],\n",
    "#         entrypoint=\"main.py\"\n",
    "# )\n",
    "# self_job"
   ]
  },
  {
   "cell_type": "code",
   "execution_count": null,
   "metadata": {},
   "outputs": [],
   "source": [
    "# ds_client.run_private(self_job)"
   ]
  },
  {
   "cell_type": "markdown",
   "metadata": {},
   "source": [
    "## Run simulation using the `main.py` file directly"
   ]
  },
  {
   "cell_type": "code",
   "execution_count": null,
   "metadata": {},
   "outputs": [],
   "source": [
    "os.environ[\"SYFTBOX_CLIENT_CONFIG_PATH\"] = str(DS_CONFIG)\n",
    "!uv run {str(FLWR_PROJECT_PATH / \"main.py\")} --active"
   ]
  },
  {
   "cell_type": "code",
   "execution_count": null,
   "metadata": {},
   "outputs": [],
   "source": [
    "# syft_flwr.view_server_logs(name=FLWR_PROJECT_PATH.name)"
   ]
  },
  {
   "cell_type": "markdown",
   "metadata": {},
   "source": [
    "## TODO - Run simulation (locally on DS's machine)\n"
   ]
  },
  {
   "cell_type": "code",
   "execution_count": null,
   "metadata": {},
   "outputs": [],
   "source": [
    "# syft_flwr.run_simulation(\n",
    "#     path=FLWR_PROJECT_PATH,\n",
    "#     mock_paths=[\n",
    "#         do_client.datasets.get(name=SYFTBOX_DATASET_NAME).mock_path\n",
    "#         for do_client in datasites\n",
    "#     ],\n",
    "#     num_datasites=len(datasites),\n",
    "# )"
   ]
  },
  {
   "cell_type": "code",
   "execution_count": null,
   "metadata": {},
   "outputs": [],
   "source": []
  }
 ],
 "metadata": {
  "kernelspec": {
   "display_name": "Python 3 (ipykernel)",
   "language": "python",
   "name": "python3"
  },
  "language_info": {
   "codemirror_mode": {
    "name": "ipython",
    "version": 3
   },
   "file_extension": ".py",
   "mimetype": "text/x-python",
   "name": "python",
   "nbconvert_exporter": "python",
   "pygments_lexer": "ipython3",
   "version": "3.12.9"
  }
 },
 "nbformat": 4,
 "nbformat_minor": 4
}
