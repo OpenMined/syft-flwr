{
 "cells": [
  {
   "cell_type": "code",
   "execution_count": null,
   "metadata": {},
   "outputs": [],
   "source": [
    "import os\n",
    "from pathlib import Path\n",
    "\n",
    "import syft_rds as sy"
   ]
  },
  {
   "cell_type": "markdown",
   "metadata": {},
   "source": [
    "## DO loads dataset"
   ]
  },
  {
   "cell_type": "code",
   "execution_count": null,
   "metadata": {},
   "outputs": [],
   "source": [
    "!just reset-sim\n",
    "!just setup-embedded-devices"
   ]
  },
  {
   "cell_type": "code",
   "execution_count": null,
   "metadata": {},
   "outputs": [],
   "source": [
    "DO = \"yash@openmined.org\"\n",
    "DATASET_NAME = \"fashionmnist_part_1\"\n",
    "\n",
    "!just dump-sim-config {DO}"
   ]
  },
  {
   "cell_type": "code",
   "execution_count": null,
   "metadata": {},
   "outputs": [],
   "source": [
    "PROJECT_DIR = Path(os.getcwd()).parent.parent.absolute()\n",
    "FLWR_PROJECT_PATH = PROJECT_DIR / \"examples\" / \"embedded-devices\"\n",
    "SIM_DIR = PROJECT_DIR / \".sim\"\n",
    "CONFIG_DIR = SIM_DIR / \".config\"\n",
    "\n",
    "print(f\"{PROJECT_DIR = }\")\n",
    "print(f\"{FLWR_PROJECT_PATH = }\")\n",
    "print(f\"{SIM_DIR = }\")\n",
    "print(f\"{CONFIG_DIR = }\")"
   ]
  },
  {
   "cell_type": "code",
   "execution_count": null,
   "metadata": {},
   "outputs": [],
   "source": [
    "DO_CONFIG = CONFIG_DIR / f\"{DO}.json\"\n",
    "!cat $DO_CONFIG"
   ]
  },
  {
   "cell_type": "code",
   "execution_count": null,
   "metadata": {},
   "outputs": [],
   "source": [
    "do = sy.init_session(host=DO, syftbox_client_config_path=DO_CONFIG)\n",
    "assert do.host == DO\n",
    "assert do.email == DO\n",
    "assert do.is_admin"
   ]
  },
  {
   "cell_type": "code",
   "execution_count": null,
   "metadata": {},
   "outputs": [],
   "source": [
    "DATASET_PRIVATE_PATH = FLWR_PROJECT_PATH / \"datasets\" / DATASET_NAME\n",
    "DATASET_MOCK_PATH = FLWR_PROJECT_PATH / \"datasets\" / DATASET_NAME\n",
    "README_PATH = FLWR_PROJECT_PATH / \"README.md\"\n",
    "\n",
    "SYFTBOX_DATASET_NAME = \"fashionmnist\"\n",
    "print(f\"DO {DO} uploading dataset {SYFTBOX_DATASET_NAME}\")\n",
    "\n",
    "try:\n",
    "    dataset = do.dataset.create(\n",
    "        name=SYFTBOX_DATASET_NAME,\n",
    "        summary=\"Partitioned FashionMNIST dataset.\",\n",
    "        description_path=README_PATH,\n",
    "        path=DATASET_PRIVATE_PATH,\n",
    "        mock_path=DATASET_MOCK_PATH,\n",
    "    )\n",
    "    dataset.describe()\n",
    "except Exception as e:\n",
    "    print(e)"
   ]
  },
  {
   "cell_type": "code",
   "execution_count": null,
   "metadata": {},
   "outputs": [],
   "source": [
    "print(do.datasets)"
   ]
  },
  {
   "cell_type": "code",
   "execution_count": null,
   "metadata": {},
   "outputs": [],
   "source": [
    "flwr_project_path = str(FLWR_PROJECT_PATH)\n",
    "mock_path = str(do.dataset.get(name=SYFTBOX_DATASET_NAME).get_mock_path())"
   ]
  },
  {
   "cell_type": "markdown",
   "metadata": {},
   "source": [
    "## Run syft_flwr simulation\n",
    "This can be run after the DS bootstrap the `flwr` project (has the `main.py`)"
   ]
  },
  {
   "cell_type": "code",
   "execution_count": null,
   "metadata": {},
   "outputs": [],
   "source": [
    "if (FLWR_PROJECT_PATH / \"main.py\").exists():\n",
    "    !just run-sim-client {flwr_project_path} {DO} {mock_path}"
   ]
  },
  {
   "cell_type": "code",
   "execution_count": null,
   "metadata": {},
   "outputs": [],
   "source": []
  }
 ],
 "metadata": {
  "kernelspec": {
   "display_name": ".venv",
   "language": "python",
   "name": "python3"
  },
  "language_info": {
   "codemirror_mode": {
    "name": "ipython",
    "version": 3
   },
   "file_extension": ".py",
   "mimetype": "text/x-python",
   "name": "python",
   "nbconvert_exporter": "python",
   "pygments_lexer": "ipython3",
   "version": "3.12.9"
  }
 },
 "nbformat": 4,
 "nbformat_minor": 2
}
