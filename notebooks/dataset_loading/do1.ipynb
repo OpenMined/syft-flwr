{
 "cells": [
  {
   "cell_type": "code",
   "execution_count": null,
   "metadata": {},
   "outputs": [],
   "source": [
    "import os\n",
    "from pathlib import Path\n",
    "\n",
    "import syft_rds as sy\n",
    "from syft_core import Client\n",
    "from syft_rds.server.app import create_app\n",
    "\n",
    "import syft_flwr"
   ]
  },
  {
   "cell_type": "markdown",
   "metadata": {},
   "source": [
    "## Set up"
   ]
  },
  {
   "cell_type": "code",
   "execution_count": null,
   "metadata": {},
   "outputs": [],
   "source": [
    "!rm -rf .server .ipynb_checkpoints/"
   ]
  },
  {
   "cell_type": "code",
   "execution_count": null,
   "metadata": {},
   "outputs": [],
   "source": [
    "# reset the simulation folder\n",
    "!just reset-sim"
   ]
  },
  {
   "cell_type": "code",
   "execution_count": null,
   "metadata": {},
   "outputs": [],
   "source": [
    "EXAMPLE = \"quickstart-pytorch\"\n",
    "# EXAMPLE = \"embedded-devices\"\n",
    "\n",
    "PROJECT_DIR = Path(os.getcwd()).parent.parent.absolute()\n",
    "DATASET_DIR = Path(\"./datasets/\").expanduser().absolute()\n",
    "FLWR_PROJECT_PATH = PROJECT_DIR / \"examples\" / EXAMPLE\n",
    "SIM_DIR = PROJECT_DIR / \".sim\"\n",
    "CONFIG_DIR = SIM_DIR / \".config\"\n",
    "\n",
    "if EXAMPLE == \"embedded-devices\":\n",
    "    SYFTBOX_DATASET_NAME = \"fashionmnist\"\n",
    "\n",
    "elif EXAMPLE == \"quickstart-pytorch\":\n",
    "    SYFTBOX_DATASET_NAME = \"cifar10\"\n",
    "\n",
    "DO = \"yash@openmined.org\"\n",
    "DATASET_NAME = f\"{SYFTBOX_DATASET_NAME}_part_1\"\n",
    "\n",
    "print(f\"{PROJECT_DIR = }\")\n",
    "print(f\"{DATASET_DIR = }\")\n",
    "print(f\"{FLWR_PROJECT_PATH = }\")\n",
    "print(f\"{SIM_DIR = }\")\n",
    "print(f\"{CONFIG_DIR = }\")\n",
    "\n",
    "!just dump-sim-config {DO}\n",
    "\n",
    "DO_CONFIG = CONFIG_DIR / f\"{DO}.json\"\n",
    "!cat $DO_CONFIG"
   ]
  },
  {
   "cell_type": "code",
   "execution_count": null,
   "metadata": {},
   "outputs": [],
   "source": [
    "do_syftbox_client = Client.load(DO_CONFIG)\n",
    "event_server = create_app(client=do_syftbox_client)\n",
    "event_server.start()"
   ]
  },
  {
   "cell_type": "markdown",
   "metadata": {},
   "source": [
    "## DO creates a local dataset"
   ]
  },
  {
   "cell_type": "code",
   "execution_count": null,
   "metadata": {},
   "outputs": [],
   "source": [
    "syft_flwr.utils.save_dataset_to_disk(\n",
    "    dataset_name=SYFTBOX_DATASET_NAME, dataset_dir=DATASET_DIR, num_partitions=2\n",
    ")"
   ]
  },
  {
   "cell_type": "code",
   "execution_count": null,
   "metadata": {},
   "outputs": [],
   "source": [
    "do = sy.init_session(host=DO, syftbox_client_config_path=DO_CONFIG)\n",
    "assert do.host == DO\n",
    "assert do.email == DO\n",
    "assert do.is_admin"
   ]
  },
  {
   "cell_type": "code",
   "execution_count": null,
   "metadata": {},
   "outputs": [],
   "source": [
    "DATASET_PRIVATE_PATH = DATASET_DIR / SYFTBOX_DATASET_NAME / DATASET_NAME\n",
    "DATASET_MOCK_PATH = DATASET_DIR / SYFTBOX_DATASET_NAME / DATASET_NAME\n",
    "README_PATH = FLWR_PROJECT_PATH / \"README.md\"\n",
    "\n",
    "try:\n",
    "    dataset = do.dataset.create(\n",
    "        name=SYFTBOX_DATASET_NAME,\n",
    "        summary=f\"Partitioned {SYFTBOX_DATASET_NAME} dataset.\",\n",
    "        description_path=README_PATH,\n",
    "        path=DATASET_PRIVATE_PATH,\n",
    "        mock_path=DATASET_MOCK_PATH,\n",
    "    )\n",
    "    dataset.describe()\n",
    "except Exception as e:\n",
    "    print(f\"Error: {e}\")"
   ]
  },
  {
   "cell_type": "code",
   "execution_count": null,
   "metadata": {},
   "outputs": [],
   "source": [
    "print(do.datasets)\n",
    "assert len(do.datasets) == 1"
   ]
  },
  {
   "cell_type": "markdown",
   "metadata": {},
   "source": [
    "Now DO waits for DS to submit job"
   ]
  },
  {
   "cell_type": "markdown",
   "metadata": {},
   "source": [
    "## DO Review Jobs\n",
    "\n",
    "After the DS submits jobs"
   ]
  },
  {
   "cell_type": "code",
   "execution_count": null,
   "metadata": {},
   "outputs": [],
   "source": [
    "jobs = do.jobs.get_all(status=\"pending_code_review\")\n",
    "assert len(jobs) == 1\n",
    "\n",
    "job = jobs[-1]\n",
    "\n",
    "# same as job.code.describe()\n",
    "job.show_user_code()\n",
    "\n",
    "os.environ[\"SYFTBOX_CLIENT_CONFIG_PATH\"] = str(DO_CONFIG)\n",
    "res_job = do.run_private(job)"
   ]
  },
  {
   "cell_type": "code",
   "execution_count": null,
   "metadata": {},
   "outputs": [],
   "source": [
    "do.jobs.share_results(res_job)"
   ]
  },
  {
   "cell_type": "markdown",
   "metadata": {},
   "source": []
  },
  {
   "cell_type": "markdown",
   "metadata": {},
   "source": []
  },
  {
   "cell_type": "markdown",
   "metadata": {},
   "source": [
    "## Done"
   ]
  },
  {
   "cell_type": "code",
   "execution_count": null,
   "metadata": {},
   "outputs": [],
   "source": [
    "event_server.stop()"
   ]
  },
  {
   "cell_type": "markdown",
   "metadata": {},
   "source": [
    "## Run syft_flwr simulation\n",
    "This can be run after the DS bootstrap the `flwr` project in the `ds.ipynb` notebook"
   ]
  },
  {
   "cell_type": "code",
   "execution_count": null,
   "metadata": {},
   "outputs": [],
   "source": [
    "# flwr_project_path = str(FLWR_PROJECT_PATH)\n",
    "# mock_path = str(do.dataset.get(name=SYFTBOX_DATASET_NAME).get_mock_path())\n",
    "\n",
    "# if (FLWR_PROJECT_PATH / \"main.py\").exists():\n",
    "#     !just run-sim-client {flwr_project_path} {DO} {mock_path}\n",
    "# else:\n",
    "#     print(\"main.py does not exist in the project\")\n",
    "#     print(\n",
    "#         \"Please wait for the DS to bootstrap the project and then come back to run this cell\"\n",
    "#     )"
   ]
  },
  {
   "cell_type": "code",
   "execution_count": null,
   "metadata": {},
   "outputs": [],
   "source": []
  }
 ],
 "metadata": {
  "kernelspec": {
   "display_name": "Python 3 (ipykernel)",
   "language": "python",
   "name": "python3"
  },
  "language_info": {
   "codemirror_mode": {
    "name": "ipython",
    "version": 3
   },
   "file_extension": ".py",
   "mimetype": "text/x-python",
   "name": "python",
   "nbconvert_exporter": "python",
   "pygments_lexer": "ipython3",
   "version": "3.12.9"
  }
 },
 "nbformat": 4,
 "nbformat_minor": 4
}
