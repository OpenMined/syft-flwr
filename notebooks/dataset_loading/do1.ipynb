{
 "cells": [
  {
   "cell_type": "code",
   "execution_count": null,
   "metadata": {},
   "outputs": [],
   "source": [
    "import os\n",
    "from pathlib import Path\n",
    "\n",
    "import syft_rds as sy\n",
    "\n",
    "import syft_flwr"
   ]
  },
  {
   "cell_type": "code",
   "execution_count": null,
   "metadata": {},
   "outputs": [],
   "source": [
    "# reset the simulation folder\n",
    "!just reset-sim"
   ]
  },
  {
   "cell_type": "code",
   "execution_count": null,
   "metadata": {},
   "outputs": [],
   "source": [
    "# EXAMPLE = \"embedded-devices\"\n",
    "EXAMPLE = \"quickstart-pytorch\"\n",
    "\n",
    "PROJECT_DIR = Path(os.getcwd()).parent.parent.absolute()\n",
    "DATASET_DIR = Path(\"./datasets/\").expanduser().absolute()\n",
    "FLWR_PROJECT_PATH = PROJECT_DIR / \"examples\" / EXAMPLE\n",
    "SIM_DIR = PROJECT_DIR / \".sim\"\n",
    "CONFIG_DIR = SIM_DIR / \".config\"\n",
    "\n",
    "print(f\"{PROJECT_DIR = }\")\n",
    "print(f\"{DATASET_DIR = }\")\n",
    "print(f\"{FLWR_PROJECT_PATH = }\")\n",
    "print(f\"{SIM_DIR = }\")\n",
    "print(f\"{CONFIG_DIR = }\")"
   ]
  },
  {
   "cell_type": "markdown",
   "metadata": {},
   "source": [
    "## Create a local dataset"
   ]
  },
  {
   "cell_type": "code",
   "execution_count": null,
   "metadata": {},
   "outputs": [],
   "source": [
    "if EXAMPLE == \"embedded-devices\":\n",
    "    SYFTBOX_DATASET_NAME = \"fashionmnist\"\n",
    "\n",
    "elif EXAMPLE == \"quickstart-pytorch\":\n",
    "    SYFTBOX_DATASET_NAME = \"cifar10\"\n",
    "\n",
    "syft_flwr.utils.save_dataset_to_disk(\n",
    "    dataset_name=SYFTBOX_DATASET_NAME, dataset_dir=DATASET_DIR, num_partitions=2\n",
    ")"
   ]
  },
  {
   "cell_type": "markdown",
   "metadata": {},
   "source": [
    "## DO loads dataset"
   ]
  },
  {
   "cell_type": "code",
   "execution_count": null,
   "metadata": {},
   "outputs": [],
   "source": [
    "DO = \"yash@openmined.org\"\n",
    "DATASET_NAME = f\"{SYFTBOX_DATASET_NAME}_part_1\"\n",
    "\n",
    "!just dump-sim-config {DO}"
   ]
  },
  {
   "cell_type": "markdown",
   "metadata": {},
   "source": [
    "Print out the config"
   ]
  },
  {
   "cell_type": "code",
   "execution_count": null,
   "metadata": {},
   "outputs": [],
   "source": [
    "DO_CONFIG = CONFIG_DIR / f\"{DO}.json\"\n",
    "!cat $DO_CONFIG"
   ]
  },
  {
   "cell_type": "code",
   "execution_count": null,
   "metadata": {},
   "outputs": [],
   "source": [
    "do = sy.init_session(host=DO, syftbox_client_config_path=DO_CONFIG)\n",
    "assert do.host == DO\n",
    "assert do.email == DO\n",
    "assert do.is_admin"
   ]
  },
  {
   "cell_type": "code",
   "execution_count": null,
   "metadata": {},
   "outputs": [],
   "source": [
    "DATASET_PRIVATE_PATH = DATASET_DIR / SYFTBOX_DATASET_NAME / DATASET_NAME\n",
    "DATASET_MOCK_PATH = DATASET_DIR / SYFTBOX_DATASET_NAME / DATASET_NAME\n",
    "README_PATH = FLWR_PROJECT_PATH / \"README.md\"\n",
    "\n",
    "try:\n",
    "    dataset = do.dataset.create(\n",
    "        name=SYFTBOX_DATASET_NAME,\n",
    "        summary=f\"Partitioned {SYFTBOX_DATASET_NAME} dataset.\",\n",
    "        description_path=README_PATH,\n",
    "        path=DATASET_PRIVATE_PATH,\n",
    "        mock_path=DATASET_MOCK_PATH,\n",
    "    )\n",
    "    dataset.describe()\n",
    "except Exception as e:\n",
    "    print(f\"Error: {e}\")"
   ]
  },
  {
   "cell_type": "code",
   "execution_count": null,
   "metadata": {},
   "outputs": [],
   "source": [
    "print(do.datasets)"
   ]
  },
  {
   "cell_type": "code",
   "execution_count": null,
   "metadata": {},
   "outputs": [],
   "source": [
    "flwr_project_path = str(FLWR_PROJECT_PATH)\n",
    "mock_path = str(do.dataset.get(name=SYFTBOX_DATASET_NAME).get_mock_path())"
   ]
  },
  {
   "cell_type": "markdown",
   "metadata": {},
   "source": [
    "## Run syft_flwr simulation\n",
    "This can be run after the DS bootstrap the `flwr` project in the `ds.ipynb` notebook"
   ]
  },
  {
   "cell_type": "code",
   "execution_count": null,
   "metadata": {},
   "outputs": [],
   "source": [
    "if (FLWR_PROJECT_PATH / \"main.py\").exists():\n",
    "    !just run-sim-client {flwr_project_path} {DO} {mock_path}\n",
    "else:\n",
    "    print(\"main.py does not exist in the project\")\n",
    "    print(\n",
    "        \"Please wait for the DS to bootstrap the project and then come back to run this cell\"\n",
    "    )"
   ]
  },
  {
   "cell_type": "code",
   "execution_count": null,
   "metadata": {},
   "outputs": [],
   "source": []
  }
 ],
 "metadata": {
  "kernelspec": {
   "display_name": ".venv",
   "language": "python",
   "name": "python3"
  },
  "language_info": {
   "codemirror_mode": {
    "name": "ipython",
    "version": 3
   },
   "file_extension": ".py",
   "mimetype": "text/x-python",
   "name": "python",
   "nbconvert_exporter": "python",
   "pygments_lexer": "ipython3",
   "version": "3.12.9"
  }
 },
 "nbformat": 4,
 "nbformat_minor": 2
}
