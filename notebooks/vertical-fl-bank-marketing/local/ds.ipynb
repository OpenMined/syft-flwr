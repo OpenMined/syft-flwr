{
 "cells": [
  {
   "cell_type": "markdown",
   "metadata": {},
   "source": [
    "# Data Scientist (DS)\n",
    "\n",
    "Outline of what the DS will do\n",
    "\n",
    "1. DS logs into DO1 and DO2's datasites as guest  \n",
    "2. DS explores the datasets  \n",
    "3. DS prepares syft_flwr code  \n",
    "4. DS bootstraps the syft_flwr project  \n",
    "5. DS runs flwr and syft_flwr simulations (optional)   \n",
    "6. DS submits jobs to the DOs' datasites  \n",
    "7. DS starts the FL server code  \n",
    "8. DS Observes the Results"
   ]
  },
  {
   "cell_type": "markdown",
   "metadata": {},
   "source": [
    "## 1. DS logs into DO1 and DO2's datasites as guest\n",
    "\n",
    "\n",
    "DO will also have their own datasite where they can log in as an admin, but it's not needed in this workflow\n",
    "\n",
    "<img src=\"../../fl-diabetes-prediction/images/dsLogsInAsGuests.png\" width=\"50%\" alt=\"DS logs into DOs' datasites as guests\">"
   ]
  },
  {
   "cell_type": "code",
   "execution_count": null,
   "metadata": {},
   "outputs": [],
   "source": [
    "from pathlib import Path\n",
    "\n",
    "from syft_rds.orchestra import setup_rds_server\n",
    "\n",
    "import syft_flwr"
   ]
  },
  {
   "cell_type": "code",
   "execution_count": null,
   "metadata": {},
   "outputs": [],
   "source": [
    "DS = \"nutorbitx@gmail.com\"\n",
    "print(\"DS email: \", DS)\n",
    "\n",
    "DO1 = \"do_1@gmail.com\"\n",
    "DO2 = \"do_2@gmail.com\"\n",
    "\n",
    "ds_stack = setup_rds_server(email=DS, key=\"local_syftbox_network\", root_dir=Path(\".\"))\n",
    "do_client_1 = ds_stack.init_session(host=DO1)\n",
    "do_client_2 = ds_stack.init_session(host=DO2)"
   ]
  },
  {
   "cell_type": "code",
   "execution_count": null,
   "metadata": {},
   "outputs": [],
   "source": [
    "do_client_1.is_admin"
   ]
  },
  {
   "cell_type": "code",
   "execution_count": null,
   "metadata": {},
   "outputs": [],
   "source": [
    "do_client_2.is_admin"
   ]
  },
  {
   "cell_type": "code",
   "execution_count": null,
   "metadata": {},
   "outputs": [],
   "source": [
    "do_client_1.datasets"
   ]
  },
  {
   "cell_type": "code",
   "execution_count": null,
   "metadata": {},
   "outputs": [],
   "source": [
    "do_client_2.datasets"
   ]
  },
  {
   "cell_type": "code",
   "execution_count": null,
   "metadata": {},
   "outputs": [],
   "source": [
    "mock_paths = []\n",
    "\n",
    "try:\n",
    "    bank_dataset = do_client_1.dataset.get(name=\"bank_features\")\n",
    "    mock_paths.append(bank_dataset.get_mock_path())\n",
    "except Exception as e:\n",
    "    print(f\"Error getting bank dataset for client {do_client_1.host}: {e}\")\n",
    "    mock_paths.append(None)\n",
    "\n",
    "try:\n",
    "    marketing_dataset = do_client_2.dataset.get(name=\"marketing_features\")\n",
    "    mock_paths.append(marketing_dataset.get_mock_path())\n",
    "except Exception as e:\n",
    "    print(f\"Error getting marketing dataset for client {do_client_1.host}: {e}\")\n",
    "    mock_paths.append(None)\n",
    "\n",
    "mock_paths"
   ]
  },
  {
   "cell_type": "code",
   "execution_count": null,
   "metadata": {},
   "outputs": [],
   "source": [
    "from pathlib import Path\n",
    "\n",
    "PROJECT_PATH = Path(\"../vertical-fl\")\n",
    "assert PROJECT_PATH.exists()"
   ]
  },
  {
   "cell_type": "code",
   "execution_count": null,
   "metadata": {},
   "outputs": [],
   "source": [
    "try:\n",
    "    (PROJECT_PATH / \"main.py\").unlink()\n",
    "    syft_flwr.bootstrap(PROJECT_PATH, aggregator=DS, datasites=[DO1, DO2])\n",
    "    print(\"Bootstrapped project successfully ✅\")\n",
    "except Exception as e:\n",
    "    print(e)"
   ]
  },
  {
   "cell_type": "code",
   "execution_count": null,
   "metadata": {},
   "outputs": [],
   "source": [
    "import os\n",
    "\n",
    "os.environ[\"USE_MOCK_DATA\"] = \"true\"\n",
    "\n",
    "syft_flwr.run(PROJECT_PATH, mock_paths)"
   ]
  },
  {
   "cell_type": "code",
   "execution_count": null,
   "metadata": {},
   "outputs": [],
   "source": [
    "!rm -rf {PROJECT_PATH / \"**/__pycache__\"}\n",
    "!rm -rf {PROJECT_PATH / \"simulation_logs\"}"
   ]
  },
  {
   "cell_type": "code",
   "execution_count": null,
   "metadata": {},
   "outputs": [],
   "source": [
    "job = do_client_1.jobs.submit(\n",
    "    name=\"Syft Flower Experiment\",\n",
    "    dataset_name=\"bank_features\",\n",
    "    user_code_path=PROJECT_PATH,\n",
    "    entrypoint=\"main.py\",\n",
    ")\n",
    "print(job)"
   ]
  },
  {
   "cell_type": "code",
   "execution_count": null,
   "metadata": {},
   "outputs": [],
   "source": [
    "job = do_client_2.jobs.submit(\n",
    "    name=\"Syft Flower Experiment\",\n",
    "    dataset_name=\"marketing_features\",\n",
    "    user_code_path=PROJECT_PATH,\n",
    "    entrypoint=\"main.py\",\n",
    ")"
   ]
  },
  {
   "cell_type": "code",
   "execution_count": null,
   "metadata": {},
   "outputs": [],
   "source": [
    "import os\n",
    "\n",
    "os.environ[\"SYFTBOX_CLIENT_CONFIG_PATH\"] = str(ds_stack.client.config_path)\n",
    "os.environ[\"LOGURU_LEVEL\"] = \"DEBUG\"\n",
    "os.environ[\"SYFT_FLWR_MSG_TIMEOUT\"] = \"60\"\n",
    "os.environ[\"USE_MOCK_DATA\"] = \"false\"\n",
    "\n",
    "!uv run {str(PROJECT_PATH / \"main.py\")} --active"
   ]
  },
  {
   "cell_type": "code",
   "execution_count": null,
   "metadata": {},
   "outputs": [],
   "source": []
  }
 ],
 "metadata": {
  "kernelspec": {
   "display_name": ".venv",
   "language": "python",
   "name": "python3"
  },
  "language_info": {
   "codemirror_mode": {
    "name": "ipython",
    "version": 3
   },
   "file_extension": ".py",
   "mimetype": "text/x-python",
   "name": "python",
   "nbconvert_exporter": "python",
   "pygments_lexer": "ipython3",
   "version": "3.12.9"
  }
 },
 "nbformat": 4,
 "nbformat_minor": 2
}
