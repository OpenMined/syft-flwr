{
 "cells": [
  {
   "cell_type": "code",
   "execution_count": null,
   "metadata": {},
   "outputs": [],
   "source": [
    "from pathlib import Path\n",
    "\n",
    "from syft_rds.orchestra import setup_rds_server\n",
    "\n",
    "import syft_flwr"
   ]
  },
  {
   "cell_type": "code",
   "execution_count": null,
   "metadata": {},
   "outputs": [],
   "source": [
    "DS = \"nutorbitx@gmail.com\"\n",
    "print(\"DS email: \", DS)\n",
    "\n",
    "DO1 = \"do_1@gmail.com\"\n",
    "DO2 = \"do_2@gmail.com\"\n",
    "\n",
    "ds_stack = setup_rds_server(email=DS, key=\"flwr\", root_dir=Path(\".\"))\n",
    "do_client_1 = ds_stack.init_session(host=DO1)\n",
    "do_client_2 = ds_stack.init_session(host=DO2)"
   ]
  },
  {
   "cell_type": "code",
   "execution_count": null,
   "metadata": {},
   "outputs": [],
   "source": [
    "do_client_1.is_admin"
   ]
  },
  {
   "cell_type": "code",
   "execution_count": null,
   "metadata": {},
   "outputs": [],
   "source": [
    "do_client_2.is_admin"
   ]
  },
  {
   "cell_type": "code",
   "execution_count": null,
   "metadata": {},
   "outputs": [],
   "source": [
    "do_client_1.datasets"
   ]
  },
  {
   "cell_type": "code",
   "execution_count": null,
   "metadata": {},
   "outputs": [],
   "source": [
    "do_client_2.datasets"
   ]
  },
  {
   "cell_type": "code",
   "execution_count": null,
   "metadata": {},
   "outputs": [],
   "source": [
    "mock_paths = []\n",
    "for i, client in enumerate([do_client_1, do_client_2]):\n",
    "    try:\n",
    "        dataset = client.dataset.get(name=f\"marketing-data-{i}\")\n",
    "        mock_paths.append(dataset.get_mock_path())\n",
    "        print(f\"Client {client.host}'s dataset: \\n{dataset}\\n\")\n",
    "    except Exception as e:\n",
    "        print(f\"Error getting dataset for client {client.host}: {e}\")\n",
    "        mock_paths.append(None)\n",
    "\n",
    "print(mock_paths)"
   ]
  },
  {
   "cell_type": "code",
   "execution_count": null,
   "metadata": {},
   "outputs": [],
   "source": [
    "mock_paths[0]"
   ]
  },
  {
   "cell_type": "code",
   "execution_count": null,
   "metadata": {},
   "outputs": [],
   "source": [
    "from pathlib import Path\n",
    "\n",
    "PROJECT_PATH = Path(\"./vertical-fl\")"
   ]
  },
  {
   "cell_type": "code",
   "execution_count": null,
   "metadata": {},
   "outputs": [],
   "source": [
    "PROJECT_PATH"
   ]
  },
  {
   "cell_type": "code",
   "execution_count": null,
   "metadata": {},
   "outputs": [],
   "source": [
    "try:\n",
    "    (PROJECT_PATH / \"main.py\").unlink()\n",
    "    syft_flwr.bootstrap(PROJECT_PATH, aggregator=DS, datasites=[DO1, DO2])\n",
    "    print(\"Bootstrapped project successfully ✅\")\n",
    "except Exception as e:\n",
    "    print(e)"
   ]
  },
  {
   "cell_type": "code",
   "execution_count": null,
   "metadata": {},
   "outputs": [],
   "source": [
    "mock_paths"
   ]
  },
  {
   "cell_type": "code",
   "execution_count": null,
   "metadata": {},
   "outputs": [],
   "source": [
    "syft_flwr.run(PROJECT_PATH, mock_paths)"
   ]
  },
  {
   "cell_type": "code",
   "execution_count": null,
   "metadata": {},
   "outputs": [],
   "source": [
    "for i, client in enumerate([do_client_1, do_client_2]):\n",
    "    print(f\"sending job to {client.host}\")\n",
    "    job = client.jobs.submit(\n",
    "        name=\"Syft Flower Experiment\",\n",
    "        description=\"Syft Flower Federated Learning Experiment\",\n",
    "        user_code_path=PROJECT_PATH,\n",
    "        dataset_name=f\"marketing-data-{i}\",\n",
    "        tags=[\"federated learning\", \"fl\", \"syft_flwr\", \"flwr\"],\n",
    "        entrypoint=\"main.py\",\n",
    "    )\n",
    "    print(job)\n",
    "\n",
    "# job = do_client_2.jobs.submit(\n",
    "#     name=\"Syft Flower Experiment\",\n",
    "#     description=\"Syft Flower Federated Learning Experiment\",\n",
    "#     user_code_path=PROJECT_PATH,\n",
    "#     dataset_name=f\"fraud-data-2\",\n",
    "#     tags=[\"federated learning\", \"fl\", \"syft_flwr\", \"flwr\"],\n",
    "#     entrypoint=\"main.py\",\n",
    "# )\n",
    "# print(job)"
   ]
  },
  {
   "cell_type": "code",
   "execution_count": null,
   "metadata": {},
   "outputs": [],
   "source": [
    "import os\n",
    "\n",
    "os.environ[\"SYFTBOX_CLIENT_CONFIG_PATH\"] = str(ds_stack.client.config_path)\n",
    "os.environ[\"LOGURU_LEVEL\"] = \"DEBUG\"\n",
    "os.environ[\"SYFT_FLWR_MSG_TIMEOUT\"] = \"60\"\n",
    "\n",
    "!uv run {str(PROJECT_PATH / \"main.py\")} --active"
   ]
  },
  {
   "cell_type": "code",
   "execution_count": null,
   "metadata": {},
   "outputs": [],
   "source": []
  }
 ],
 "metadata": {
  "kernelspec": {
   "display_name": ".venv",
   "language": "python",
   "name": "python3"
  },
  "language_info": {
   "codemirror_mode": {
    "name": "ipython",
    "version": 3
   },
   "file_extension": ".py",
   "mimetype": "text/x-python",
   "name": "python",
   "nbconvert_exporter": "python",
   "pygments_lexer": "ipython3",
   "version": "3.12.9"
  }
 },
 "nbformat": 4,
 "nbformat_minor": 2
}
