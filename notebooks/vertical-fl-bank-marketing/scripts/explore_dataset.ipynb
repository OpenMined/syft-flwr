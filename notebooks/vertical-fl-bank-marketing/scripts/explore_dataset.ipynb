{
 "cells": [
  {
   "cell_type": "code",
   "execution_count": null,
   "metadata": {},
   "outputs": [],
   "source": [
    "from pathlib import Path\n",
    "\n",
    "import numpy as np\n",
    "\n",
    "# Set up paths\n",
    "PROJECT_PATH = Path(\"..\")  # scripts is one level down from project root\n",
    "DATASET_PATH = PROJECT_PATH / \"dataset\" / \"marketing\" / \"processed\"\n",
    "\n",
    "print(f\"Dataset path: {DATASET_PATH}\")\n",
    "print(f\"Dataset path exists: {DATASET_PATH.exists()}\")\n",
    "\n",
    "\n",
    "def load_data_partition(client_id, data_type):\n",
    "    \"\"\"Load data for a specific client and data type (mock/private)\"\"\"\n",
    "    path = DATASET_PATH / str(client_id) / data_type\n",
    "    X = np.load(path / \"X_train.npy\")\n",
    "    y = np.load(path / \"y_train.npy\")\n",
    "    return X, y\n",
    "\n",
    "\n",
    "def load_server_test():\n",
    "    \"\"\"Load server test data\"\"\"\n",
    "    path = DATASET_PATH / \"server_test\"\n",
    "    X = np.load(path / \"X_test.npy\")\n",
    "    y = np.load(path / \"y_test.npy\")\n",
    "    return X, y\n",
    "\n",
    "\n",
    "# Load all data\n",
    "print(\"Loading all data partitions...\")\n",
    "\n",
    "# Client 0 data\n",
    "X0_mock, y0_mock = load_data_partition(0, \"mock\")\n",
    "X0_private, y0_private = load_data_partition(0, \"private\")\n",
    "\n",
    "# Client 1 data\n",
    "X1_mock, y1_mock = load_data_partition(1, \"mock\")\n",
    "X1_private, y1_private = load_data_partition(1, \"private\")\n",
    "\n",
    "# Server test data\n",
    "X_test, y_test = load_server_test()\n",
    "\n",
    "print(\"✅ All data loaded successfully!\")"
   ]
  },
  {
   "cell_type": "markdown",
   "metadata": {
    "vscode": {
     "languageId": "raw"
    }
   },
   "source": [
    "# Bank Marketing Dataset Exploration\n",
    "\n",
    "This notebook explores the processed bank marketing dataset to verify the structure and content of:\n",
    "- Client 0: mock vs private data\n",
    "- Client 1: mock vs private data  \n",
    "- Server test data\n",
    "\n",
    "## Dataset Structure\n",
    "```\n",
    "dataset/marketing/processed/\n",
    "├── 0/                                  # first data owner\n",
    "│   ├── mock/ (10 rows sample)\n",
    "│   └── private/ (full client 0 data)\n",
    "├── 1/                                  # second data owner\n",
    "│   ├── mock/ (10 rows sample)\n",
    "│   └── private/ (full client 1 data)\n",
    "└── server_test/                        # (test set for evaluation - aggregation server / data scientist)\n",
    "```\n"
   ]
  },
  {
   "cell_type": "code",
   "execution_count": null,
   "metadata": {},
   "outputs": [],
   "source": [
    "from pathlib import Path\n",
    "\n",
    "import matplotlib.pyplot as plt\n",
    "\n",
    "# Set up paths\n",
    "PROJECT_PATH = Path(\"..\")  # scripts is one level down from project root\n",
    "DATASET_PATH = PROJECT_PATH / \"dataset\" / \"marketing\" / \"processed\"\n",
    "\n",
    "print(f\"Dataset path: {DATASET_PATH}\")\n",
    "print(f\"Dataset path exists: {DATASET_PATH.exists()}\")"
   ]
  },
  {
   "cell_type": "markdown",
   "metadata": {
    "vscode": {
     "languageId": "raw"
    }
   },
   "source": [
    "## Load All Data Files\n"
   ]
  },
  {
   "cell_type": "code",
   "execution_count": null,
   "metadata": {},
   "outputs": [],
   "source": [
    "def load_data_partition(client_id, data_type):\n",
    "    \"\"\"Load data for a specific client and data type (mock/private)\"\"\"\n",
    "    path = DATASET_PATH / str(client_id) / data_type\n",
    "    X = np.load(path / \"X_train.npy\")\n",
    "    y = np.load(path / \"y_train.npy\")\n",
    "    return X, y\n",
    "\n",
    "\n",
    "def load_server_test():\n",
    "    \"\"\"Load server test data\"\"\"\n",
    "    path = DATASET_PATH / \"server_test\"\n",
    "    X = np.load(path / \"X_test.npy\")\n",
    "    y = np.load(path / \"y_test.npy\")\n",
    "    return X, y\n",
    "\n",
    "\n",
    "# Load all data\n",
    "print(\"Loading all data partitions...\")\n",
    "\n",
    "# Client 0 data\n",
    "X0_mock, y0_mock = load_data_partition(0, \"mock\")\n",
    "X0_private, y0_private = load_data_partition(0, \"private\")\n",
    "\n",
    "# Client 1 data\n",
    "X1_mock, y1_mock = load_data_partition(1, \"mock\")\n",
    "X1_private, y1_private = load_data_partition(1, \"private\")\n",
    "\n",
    "# Server test data\n",
    "X_test, y_test = load_server_test()\n",
    "\n",
    "print(\"✅ All data loaded successfully!\")"
   ]
  },
  {
   "cell_type": "markdown",
   "metadata": {
    "vscode": {
     "languageId": "raw"
    }
   },
   "source": [
    "## Data Shape Verification"
   ]
  },
  {
   "cell_type": "code",
   "execution_count": null,
   "metadata": {},
   "outputs": [],
   "source": [
    "def print_data_info(name, X, y):\n",
    "    \"\"\"Print information about a dataset\"\"\"\n",
    "    print(f\"\\n{name}:\")\n",
    "    print(f\"  Features shape: {X.shape}\")\n",
    "    print(f\"  Labels shape: {y.shape}\")\n",
    "    print(f\"  Number of samples: {len(X)}\")\n",
    "    print(f\"  Number of features: {X.shape[1]}\")\n",
    "    print(f\"  Label distribution: {np.bincount(y.astype(int))} (0s and 1s)\")\n",
    "    print(f\"  Positive rate: {y.mean():.3f}\")\n",
    "\n",
    "\n",
    "# Print information for all datasets\n",
    "print(\"=\" * 50)\n",
    "print(\"DATASET OVERVIEW\")\n",
    "print(\"=\" * 50)\n",
    "\n",
    "print_data_info(\"Client 0 - Mock\", X0_mock, y0_mock)\n",
    "print_data_info(\"Client 0 - Private\", X0_private, y0_private)\n",
    "\n",
    "print_data_info(\"Client 1 - Mock\", X1_mock, y1_mock)\n",
    "print_data_info(\"Client 1 - Private\", X1_private, y1_private)\n",
    "\n",
    "print_data_info(\"Server Test\", X_test, y_test)"
   ]
  },
  {
   "cell_type": "markdown",
   "metadata": {
    "vscode": {
     "languageId": "raw"
    }
   },
   "source": [
    "## Verify Mock Data is Subset of Private Data"
   ]
  },
  {
   "cell_type": "code",
   "execution_count": null,
   "metadata": {},
   "outputs": [],
   "source": [
    "def verify_mock_is_subset(client_id, X_mock, y_mock, X_private, y_private):\n",
    "    \"\"\"Verify that mock data is the first 10 rows of private data\"\"\"\n",
    "    print(f\"\\nClient {client_id} - Mock vs Private Verification:\")\n",
    "\n",
    "    # Check if mock data matches first 10 rows of private data\n",
    "    X_private_first10 = X_private[:10]\n",
    "    y_private_first10 = y_private[:10]\n",
    "\n",
    "    X_match = np.array_equal(X_mock, X_private_first10)\n",
    "    y_match = np.array_equal(y_mock, y_private_first10)\n",
    "\n",
    "    print(f\"  ✅ Features match first 10 rows: {X_match}\")\n",
    "    print(f\"  ✅ Labels match first 10 rows: {y_match}\")\n",
    "\n",
    "    if X_match and y_match:\n",
    "        print(\"  🎉 Mock data is correctly the first 10 rows of private data!\")\n",
    "    else:\n",
    "        print(\"  ❌ Mock data does NOT match first 10 rows of private data!\")\n",
    "\n",
    "    return X_match and y_match\n",
    "\n",
    "\n",
    "# Verify both clients\n",
    "client0_valid = verify_mock_is_subset(0, X0_mock, y0_mock, X0_private, y0_private)\n",
    "client1_valid = verify_mock_is_subset(1, X1_mock, y1_mock, X1_private, y1_private)\n",
    "\n",
    "print(f\"\\n{'='*50}\")\n",
    "print(\n",
    "    f\"OVERALL VALIDATION: {'✅ PASSED' if client0_valid and client1_valid else '❌ FAILED'}\"\n",
    ")\n",
    "print(f\"{'='*50}\")"
   ]
  },
  {
   "cell_type": "markdown",
   "metadata": {
    "vscode": {
     "languageId": "raw"
    }
   },
   "source": [
    "## Feature Analysis - Compare Client Feature Sets\n"
   ]
  },
  {
   "cell_type": "code",
   "execution_count": null,
   "metadata": {},
   "outputs": [],
   "source": [
    "# Load the original column information to understand what features each client has\n",
    "# Based on prepare_data.py configuration\n",
    "\n",
    "from prepare_data import BANK_COLS, MARKETING_COLS\n",
    "\n",
    "print(\"Feature Set Analysis:\")\n",
    "print(f\"\\nClient 0 (Bank features): {len(BANK_COLS)} features\")\n",
    "print(f\"  Features: {BANK_COLS}\")\n",
    "print(f\"  Actual feature count in data: {X0_private.shape[1]}\")\n",
    "\n",
    "print(f\"\\nClient 1 (Marketing features): {len(MARKETING_COLS)} features\")\n",
    "print(f\"  Features: {MARKETING_COLS}\")\n",
    "print(f\"  Actual feature count in data: {X1_private.shape[1]}\")\n",
    "\n",
    "print(f\"\\nServer Test (All features): {X_test.shape[1]} features\")\n",
    "print(f\"  Expected: {len(BANK_COLS) + len(MARKETING_COLS)} features (after encoding)\")\n",
    "\n",
    "# Note: The actual feature count will be higher due to one-hot encoding of categorical variables"
   ]
  },
  {
   "cell_type": "markdown",
   "metadata": {
    "vscode": {
     "languageId": "raw"
    }
   },
   "source": [
    "## Data Distribution Analysis\n"
   ]
  },
  {
   "cell_type": "code",
   "execution_count": null,
   "metadata": {},
   "outputs": [],
   "source": [
    "# Create visualizations to compare distributions\n",
    "fig, axes = plt.subplots(2, 3, figsize=(15, 10))\n",
    "fig.suptitle(\"Label Distribution Across Datasets\", fontsize=16)\n",
    "\n",
    "datasets = [\n",
    "    (\"Client 0 Mock\", y0_mock),\n",
    "    (\"Client 0 Private\", y0_private),\n",
    "    (\"Client 1 Mock\", y1_mock),\n",
    "    (\"Client 1 Private\", y1_private),\n",
    "    (\"Server Test\", y_test),\n",
    "]\n",
    "\n",
    "for idx, (name, y_data) in enumerate(datasets):\n",
    "    row = idx // 3\n",
    "    col = idx % 3\n",
    "\n",
    "    # Count labels\n",
    "    counts = np.bincount(y_data.astype(int))\n",
    "    labels = [\"No (0)\", \"Yes (1)\"]\n",
    "\n",
    "    axes[row, col].bar(labels, counts, color=[\"lightcoral\", \"lightblue\"])\n",
    "    axes[row, col].set_title(f\"{name}\\n(n={len(y_data)})\")\n",
    "    axes[row, col].set_ylabel(\"Count\")\n",
    "\n",
    "    # Add percentage labels\n",
    "    total = len(y_data)\n",
    "    for i, count in enumerate(counts):\n",
    "        percentage = count / total * 100\n",
    "        axes[row, col].text(\n",
    "            i, count + total * 0.01, f\"{percentage:.1f}%\", ha=\"center\", va=\"bottom\"\n",
    "        )\n",
    "\n",
    "# Hide the empty subplot\n",
    "axes[1, 2].set_visible(False)\n",
    "\n",
    "plt.tight_layout()\n",
    "plt.show()"
   ]
  },
  {
   "cell_type": "markdown",
   "metadata": {
    "vscode": {
     "languageId": "raw"
    }
   },
   "source": [
    "## Summary and Validation Report\n"
   ]
  },
  {
   "cell_type": "code",
   "execution_count": null,
   "metadata": {},
   "outputs": [],
   "source": [
    "print(\"=\" * 60)\n",
    "print(\"FINAL VALIDATION REPORT\")\n",
    "print(\"=\" * 60)\n",
    "\n",
    "# Check all validation criteria\n",
    "validations = []\n",
    "\n",
    "# 1. Mock data has exactly 10 samples\n",
    "mock_size_valid = (len(X0_mock) == 10) and (len(X1_mock) == 10)\n",
    "validations.append((\"Mock data has 10 samples\", mock_size_valid))\n",
    "\n",
    "# 2. Mock data matches first 10 rows of private data\n",
    "mock_subset_valid = client0_valid and client1_valid\n",
    "validations.append((\"Mock data is subset of private data\", mock_subset_valid))\n",
    "\n",
    "# 3. Clients have different feature sets\n",
    "different_features = X0_private.shape[1] != X1_private.shape[1]\n",
    "validations.append((\"Clients have different feature sets\", different_features))\n",
    "\n",
    "# 4. Test data exists and has reasonable size\n",
    "test_data_valid = len(X_test) > 0 and len(y_test) > 0\n",
    "validations.append((\"Test data exists\", test_data_valid))\n",
    "\n",
    "# 5. All datasets have consistent label formats\n",
    "label_format_valid = all(\n",
    "    [\n",
    "        set(np.unique(y)) <= {0, 1}\n",
    "        for y in [y0_mock, y0_private, y1_mock, y1_private, y_test]\n",
    "    ]\n",
    ")\n",
    "validations.append((\"Labels are binary (0/1)\", label_format_valid))\n",
    "\n",
    "# Print validation results\n",
    "all_valid = True\n",
    "for check, is_valid in validations:\n",
    "    status = \"✅ PASS\" if is_valid else \"❌ FAIL\"\n",
    "    print(f\"{check:.<50} {status}\")\n",
    "    all_valid = all_valid and is_valid\n",
    "\n",
    "print(\"=\" * 60)\n",
    "final_status = (\n",
    "    \"✅ ALL VALIDATIONS PASSED\" if all_valid else \"❌ SOME VALIDATIONS FAILED\"\n",
    ")\n",
    "print(f\"OVERALL STATUS: {final_status}\")\n",
    "print(\"=\" * 60)\n",
    "\n",
    "if all_valid:\n",
    "    print(\"\\n🎉 Dataset structure is correct and ready for federated learning!\")\n",
    "else:\n",
    "    print(\n",
    "        \"\\n⚠️ Please review the failed validations and fix the data preparation script.\"\n",
    "    )"
   ]
  },
  {
   "cell_type": "raw",
   "metadata": {},
   "source": []
  }
 ],
 "metadata": {
  "kernelspec": {
   "display_name": ".venv",
   "language": "python",
   "name": "python3"
  },
  "language_info": {
   "codemirror_mode": {
    "name": "ipython",
    "version": 3
   },
   "file_extension": ".py",
   "mimetype": "text/x-python",
   "name": "python",
   "nbconvert_exporter": "python",
   "pygments_lexer": "ipython3",
   "version": "3.12.9"
  }
 },
 "nbformat": 4,
 "nbformat_minor": 2
}
