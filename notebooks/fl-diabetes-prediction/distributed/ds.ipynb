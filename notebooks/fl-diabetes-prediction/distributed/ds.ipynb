{
 "cells": [
  {
   "cell_type": "markdown",
   "metadata": {},
   "source": [
    "# Data Scientist (DS)\n",
    "\n",
    "Outline of what the DS will do\n",
    "\n",
    "0. DS runs the SyftBox client CLI tool or the SyftBox UI app\n",
    "1. DS logs into DO1 and DO2's datasites as guest  \n",
    "2. DS explores the datasets  \n",
    "3. DS prepares syft_flwr code  \n",
    "4. DS bootstraps the syft_flwr project  \n",
    "5. DS runs flwr and syft_flwr simulations (optional)   \n",
    "6. DS submits jobs to the DOs' datasites  \n",
    "7. DS starts the FL server code  \n",
    "8. DS Observes the Results"
   ]
  },
  {
   "cell_type": "markdown",
   "metadata": {},
   "source": [
    "## 0. DO runs the `syftbox client` in a terminal or the SyftBox UI app \n",
    "The CLI syftbox client can be installed with a single command: `curl -fsSL https://syftbox.net/install.sh | sh`. The SyftUI app can be installed from `https://www.syftbox.net/`:\n",
    "\n",
    "<img src=\"../images/syftboxnet.png\" width=\"40%\" alt=\"syftbox.net\">\n",
    "\n",
    "This will set up a SyftBox directory, where by default, it's under the `~/SyftBox` folder \n",
    "\n",
    "<img src=\"../images/SyftBoxNetwork.png\" width=\"20%\" alt=\"SyftBox network\">"
   ]
  },
  {
   "cell_type": "markdown",
   "metadata": {},
   "source": [
    "## 1. DS logs into DO1 and DO2's datasites as guest\n",
    "\n",
    "\n",
    "DS will also have their own datasite where they can log in as an admin, but it's not needed in this workflow\n",
    "\n",
    "<img src=\"../images/dsLogsInAsGuests.png\" width=\"53%\" alt=\"DS logs into DOs' datasites as guests\">"
   ]
  },
  {
   "cell_type": "code",
   "execution_count": null,
   "metadata": {},
   "outputs": [],
   "source": [
    "import syft_rds as sy\n",
    "from loguru import logger\n",
    "from syft_core import Client\n",
    "\n",
    "DS = Client.load().email\n",
    "logger.info(f\"DS's email: {DS}\")\n",
    "\n",
    "DO1 = \"<do1_email>\"\n",
    "DO2 = \"<do2_email>\"\n",
    "do1_guest = sy.init_session(host=DO1)\n",
    "do2_guest = sy.init_session(host=DO2)"
   ]
  },
  {
   "cell_type": "code",
   "execution_count": null,
   "metadata": {},
   "outputs": [],
   "source": [
    "do1_guest.is_admin"
   ]
  },
  {
   "cell_type": "code",
   "execution_count": null,
   "metadata": {},
   "outputs": [],
   "source": [
    "do2_guest.is_admin"
   ]
  },
  {
   "cell_type": "markdown",
   "metadata": {},
   "source": [
    "Set some constants and variables"
   ]
  },
  {
   "cell_type": "code",
   "execution_count": null,
   "metadata": {},
   "outputs": [],
   "source": [
    "import os\n",
    "\n",
    "SYFTBOX_DATASET_NAME = \"pima-indians-diabetes-database\"\n",
    "\n",
    "os.environ[\"LOGURU_LEVEL\"] = \"DEBUG\"\n",
    "os.environ[\"SYFT_FLWR_MSG_TIMEOUT\"] = \"60\"\n",
    "\n",
    "do_clients = [do1_guest, do2_guest]\n",
    "do_emails = [DO1, DO2]"
   ]
  },
  {
   "cell_type": "markdown",
   "metadata": {},
   "source": [
    "## 2. DS explores the datasets\n",
    "\n",
    "DS can access the DOs' mock data, but can't access the private data\n",
    "\n",
    "<img src=\"../images/dsExploresDOsDatasets.png\" width=\"70%\" alt=\"DS explores datasets\">"
   ]
  },
  {
   "cell_type": "code",
   "execution_count": null,
   "metadata": {},
   "outputs": [],
   "source": [
    "SYFTBOX_DATASET_NAME\n",
    "\n",
    "mock_paths = []\n",
    "for client in do_clients:\n",
    "    dataset = client.dataset.get(name=SYFTBOX_DATASET_NAME)\n",
    "    mock_paths.append(dataset.get_mock_path())\n",
    "    print(\n",
    "        f\"Client {client.host}'s dataset name: \\n{dataset.name}\\n. Mock path: \\n{dataset.get_mock_path()}\"\n",
    "    )\n",
    "    print()"
   ]
  },
  {
   "cell_type": "markdown",
   "metadata": {},
   "source": [
    "Check that the DS can't access the private datasets, even with local test"
   ]
  },
  {
   "cell_type": "code",
   "execution_count": null,
   "metadata": {},
   "outputs": [],
   "source": [
    "try:\n",
    "    dataset.get_private_path()\n",
    "except Exception as e:\n",
    "    logger.error(e)"
   ]
  },
  {
   "cell_type": "markdown",
   "metadata": {},
   "source": [
    "## 3. DS prepares `syft_flwr` code\n",
    "\n",
    "A `syft_flwr` project requires minimal changes to a Flower project:\n",
    "\n",
    "1. A `syft_flwr` project has the same structure as a [Flower project](https://flower.ai/docs/framework/tutorial-quickstart-pytorch.html):\n",
    "```\n",
    "<your-project-name>\n",
    "├── <your-project-name>\n",
    "│   ├── __init__.py\n",
    "│   ├── client_app.py   # Defines your ClientApp\n",
    "│   ├── server_app.py   # Defines your ServerApp\n",
    "│   └── task.py         # Defines your model, training and data loading\n",
    "├── pyproject.toml      # Project metadata like dependencies and configs\n",
    "└── README.md\n",
    "``` "
   ]
  },
  {
   "cell_type": "markdown",
   "metadata": {},
   "source": [
    "\n",
    "Concretely, for diabetes prediction, we have the project code under the path `../fl-diabetes-prediction`\n",
    "\n",
    "\n",
    "<img src=\"../images/dsPreparesSyftFlwrProject.png\" width=\"30%\" alt=\"DS explores datasets\">\n"
   ]
  },
  {
   "cell_type": "markdown",
   "metadata": {},
   "source": [
    "where the DS will run the `ServerApp` (defined in `server_app.py`), and the `ClientApp` (in `client_app.py`)\n",
    "\n",
    "<img src=\"../images/dsSyftFlwrProjectArch.png\" width=\"70%\" alt=\"Your second image description\">\n"
   ]
  },
  {
   "cell_type": "code",
   "execution_count": null,
   "metadata": {},
   "outputs": [],
   "source": [
    "from pathlib import Path\n",
    "\n",
    "SYFT_FLWR_PROJECT_PATH = Path(\"../fl-diabetes-prediction\")\n",
    "assert SYFT_FLWR_PROJECT_PATH.exists()"
   ]
  },
  {
   "cell_type": "markdown",
   "metadata": {},
   "source": [
    "2. Compared to a Flower project, the DS only needs to change a bit of how the `client_app.py`, which runs on the data owners' datasites, loads the data\n",
    "\n",
    "<img src=\"../images/client_fn.png\" width=\"90%\" alt=\"client_fn comparison\">\n",
    "\n",
    "where the `load_syftbox_dataset` (used by `syft_flwr`) and the `load_flwr_data` (used by Flower) differ a bit like below:  \n",
    "\n",
    "<img src=\"../images/load_syftbox_flwr_dataset.png\" width=\"90%\" alt=\"load datasets comparison\">\n"
   ]
  },
  {
   "cell_type": "markdown",
   "metadata": {},
   "source": [
    "## 4. DS bootstraps the `syft_flwr` project\n",
    "\n",
    "After the DS has prepared the `syft_flwr` project code, they can run the `syft_flwr.bootstrap` command to modify the project's metadata in `pyproject.toml` that specifies the unique name of the FL run, who are the data owners and who is the aggregator\n",
    "```\n",
    "[tool.syft_flwr]\n",
    "app_name = \"ds@openmined.org_fl-diabetes-prediction_1753435643\"\n",
    "datasites = [\n",
    "    \"do1@openmined.org\",\n",
    "    \"do2@openmined.org\",\n",
    "]\n",
    "aggregator = \"ds@openmined.org\"\n",
    "```\n",
    "and creates the `main.py` to specifies who runs what based on the new metadata information\n",
    "\n",
    "\n",
    "<img src=\"../images/dsBootstrapping.png\" width=\"50%\" alt=\"Your second image description\">\n"
   ]
  },
  {
   "cell_type": "code",
   "execution_count": null,
   "metadata": {},
   "outputs": [],
   "source": [
    "import syft_flwr\n",
    "\n",
    "try:\n",
    "    !rm -rf {SYFT_FLWR_PROJECT_PATH / \"main.py\"}\n",
    "    syft_flwr.bootstrap(SYFT_FLWR_PROJECT_PATH, aggregator=DS, datasites=do_emails)\n",
    "    print(\"Bootstrapped project successfully ✅\")\n",
    "except Exception as e:\n",
    "    print(e)"
   ]
  },
  {
   "cell_type": "markdown",
   "metadata": {},
   "source": [
    "## 5. DS runs `flwr` and `syft_flwr` simulations (optional)"
   ]
  },
  {
   "cell_type": "code",
   "execution_count": null,
   "metadata": {},
   "outputs": [],
   "source": [
    "RUN_SIMULATION = True"
   ]
  },
  {
   "cell_type": "markdown",
   "metadata": {},
   "source": [
    "First we run normal Flower simulation with `flwr run`"
   ]
  },
  {
   "cell_type": "code",
   "execution_count": null,
   "metadata": {},
   "outputs": [],
   "source": [
    "if RUN_SIMULATION:\n",
    "    !flwr run {SYFT_FLWR_PROJECT_PATH}"
   ]
  },
  {
   "cell_type": "code",
   "execution_count": null,
   "metadata": {},
   "outputs": [],
   "source": [
    "# clean up\n",
    "!rm -rf {SYFT_FLWR_PROJECT_PATH / \"fl_diabetes_prediction\" / \"__pycache__\"}  # clean before submitting\n",
    "!rm -rf {\"../weights/\"}"
   ]
  },
  {
   "cell_type": "markdown",
   "metadata": {},
   "source": [
    "Now the DS can run `syft_flwr` simulation on DO's mock data by launching 2 threads that run DOs code and a thread that runs the DS code \n",
    "\n",
    "<img src=\"../images/dsRunsSyftFLWRSimulation.png\" width=\"50%\" alt=\"client_fn comparison\">"
   ]
  },
  {
   "cell_type": "code",
   "execution_count": null,
   "metadata": {},
   "outputs": [],
   "source": [
    "if RUN_SIMULATION:\n",
    "    print(f\"running syft_flwr simulation with mock paths: {mock_paths}\")\n",
    "    syft_flwr.run(SYFT_FLWR_PROJECT_PATH, mock_paths)"
   ]
  },
  {
   "cell_type": "markdown",
   "metadata": {},
   "source": [
    "Please look into the dir pointed to by `📝 Log directory` to see the logs of different simulated clients, by default it stays in the `fl_diabetes_prediction/simulation_logs`\n",
    "\n",
    "<img src=\"../images/dsSimulationLogs.png\" width=\"24%\" alt=\"DS submits jobs\">"
   ]
  },
  {
   "cell_type": "markdown",
   "metadata": {},
   "source": [
    "## 6. DS submits jobs to the DOs' datasites"
   ]
  },
  {
   "cell_type": "markdown",
   "metadata": {},
   "source": [
    "The DS submits the code in `fl-diabetes-prediction` to the DO's datasites\n",
    "\n",
    "<img src=\"../images/dsSubmitsJobs.png\" width=\"54%\" alt=\"DS submits jobs\">"
   ]
  },
  {
   "cell_type": "code",
   "execution_count": null,
   "metadata": {},
   "outputs": [],
   "source": [
    "# clean up before submitting jobs\n",
    "!rm -rf {SYFT_FLWR_PROJECT_PATH / \"fl_diabetes_prediction\" / \"__pycache__\"}\n",
    "!rm -rf {SYFT_FLWR_PROJECT_PATH / \"simulation_logs\"}\n",
    "!rm -rf {\"../weights/\"}"
   ]
  },
  {
   "cell_type": "code",
   "execution_count": null,
   "metadata": {},
   "outputs": [],
   "source": [
    "for client in do_clients:\n",
    "    print(f\"sending job to {client.host}\")\n",
    "    job = client.job.submit(\n",
    "        name=\"fl-diabetes-prediction\",\n",
    "        user_code_path=SYFT_FLWR_PROJECT_PATH,\n",
    "        dataset_name=SYFTBOX_DATASET_NAME,\n",
    "        entrypoint=\"main.py\",\n",
    "    )\n",
    "    print(job)"
   ]
  },
  {
   "cell_type": "markdown",
   "metadata": {},
   "source": [
    "<img src=\"../images/dsWaitsForJobsToBeApproved.png\" width=\"35%\" alt=\"DS waits for jobs to be approved\">"
   ]
  },
  {
   "cell_type": "markdown",
   "metadata": {},
   "source": [
    "## 7. DS starts the FL server code\n",
    "\n",
    "By running the FL server code, the DS aggregates the models trained on DOs' private local data into an improved global model in multiple rounds\n",
    "\n",
    "<video width=\"90%\" controls>\n",
    "  <source src=\"../images/flTraining.mp4\" type=\"video/mp4\">\n",
    "  Your browser does not support the video tag.\n",
    "</video>"
   ]
  },
  {
   "cell_type": "code",
   "execution_count": null,
   "metadata": {},
   "outputs": [],
   "source": [
    "!uv run {str(SYFT_FLWR_PROJECT_PATH / \"main.py\")} --active"
   ]
  },
  {
   "cell_type": "markdown",
   "metadata": {},
   "source": [
    "## 8. DS Observes the Results"
   ]
  },
  {
   "cell_type": "markdown",
   "metadata": {},
   "source": [
    "Now the DS can monitor the aggregated models trained on DO's private datasets in the `weights` folder\n",
    "\n",
    "\n",
    "<img src=\"../images/dsAggregatedWeights.png\" width=\"35%\" alt=\"DS weights\">"
   ]
  },
  {
   "cell_type": "markdown",
   "metadata": {},
   "source": []
  }
 ],
 "metadata": {
  "kernelspec": {
   "display_name": "fl-diabetes-prediction-workspace",
   "language": "python",
   "name": "python3"
  },
  "language_info": {
   "codemirror_mode": {
    "name": "ipython",
    "version": 3
   },
   "file_extension": ".py",
   "mimetype": "text/x-python",
   "name": "python",
   "nbconvert_exporter": "python",
   "pygments_lexer": "ipython3",
   "version": "3.13.7"
  }
 },
 "nbformat": 4,
 "nbformat_minor": 2
}
