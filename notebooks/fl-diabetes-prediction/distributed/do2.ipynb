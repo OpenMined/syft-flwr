{
 "cells": [
  {
   "cell_type": "markdown",
   "metadata": {},
   "source": [
    "# Data Owner 02\n",
    "\n",
    "1. DO logs into the datasite as an admin\n",
    "2. DO creates the dataset \n",
    "3. DO reviews and run jobs submitted by data scientists"
   ]
  },
  {
   "cell_type": "markdown",
   "metadata": {},
   "source": [
    "## 1. DO2 logs in to datasite "
   ]
  },
  {
   "cell_type": "code",
   "execution_count": null,
   "metadata": {},
   "outputs": [],
   "source": [
    "from pathlib import Path\n",
    "\n",
    "if LOCAL_TEST:\n",
    "    from syft_rds.orchestra import setup_rds_server\n",
    "\n",
    "    DO_EMAIL = \"do2@openmined.org\"\n",
    "    do_stack = setup_rds_server(email=DO_EMAIL, root_dir=Path(\".\"), key=\"flwr\")\n",
    "    do_client = do_stack.init_session(host=DO_EMAIL)\n",
    "else:\n",
    "    import syft_rds as sy\n",
    "    from syft_core import Client\n",
    "\n",
    "    DO_EMAIL = Client.load().email\n",
    "    print(\"DO email: \", DO_EMAIL)\n",
    "\n",
    "    do_client = sy.init_session(host=DO_EMAIL)"
   ]
  },
  {
   "cell_type": "markdown",
   "metadata": {},
   "source": [
    "## 2. DO2 creates dataset"
   ]
  },
  {
   "cell_type": "code",
   "execution_count": null,
   "metadata": {},
   "outputs": [],
   "source": [
    "from huggingface_hub import snapshot_download\n",
    "\n",
    "DATASET_DIR = Path(\"./dataset/\").expanduser().absolute()\n",
    "\n",
    "if not DATASET_DIR.exists():\n",
    "    snapshot_download(\n",
    "        repo_id=\"khoaguin/pima-indians-diabetes-database-partitions\",\n",
    "        repo_type=\"dataset\",\n",
    "        local_dir=\"./dataset/\",\n",
    "        local_dir_use_symlinks=False,  # Set to False to copy files instead of symlinking\n",
    "    )"
   ]
  },
  {
   "cell_type": "code",
   "execution_count": null,
   "metadata": {},
   "outputs": [],
   "source": [
    "from pathlib import Path\n",
    "\n",
    "partition_number = 0  # please change this to any number from 0 to 4\n",
    "DATASET_PATH = Path(f\"./dataset/pima-indians-diabetes-database-{partition_number}\")\n",
    "\n",
    "dataset = do_client.dataset.create(\n",
    "    name=\"pima-indians-diabetes-database\",\n",
    "    summary=\"Pima Indians Diabetes Database.\",\n",
    "    description_path=DATASET_PATH / \"README.md\",\n",
    "    path=DATASET_PATH / \"private\",\n",
    "    mock_path=DATASET_PATH / \"mock\",\n",
    ")\n",
    "dataset.describe()"
   ]
  },
  {
   "cell_type": "markdown",
   "metadata": {},
   "source": [
    "<img src=\"./images/doWaitsForJobs.png\" width=\"40%\" alt=\"DO waits for jobs\">"
   ]
  },
  {
   "cell_type": "markdown",
   "metadata": {},
   "source": [
    "## 3. DO2 reviews and runs jobs on private data"
   ]
  },
  {
   "cell_type": "code",
   "execution_count": null,
   "metadata": {},
   "outputs": [],
   "source": [
    "jobs = do_client.jobs.get_all(status=\"pending_code_review\")\n",
    "jobs"
   ]
  },
  {
   "cell_type": "code",
   "execution_count": null,
   "metadata": {},
   "outputs": [],
   "source": [
    "job = jobs[-1]\n",
    "job"
   ]
  },
  {
   "cell_type": "code",
   "execution_count": null,
   "metadata": {},
   "outputs": [],
   "source": [
    "# same as job.code.describe()\n",
    "job.show_user_code()"
   ]
  },
  {
   "cell_type": "code",
   "execution_count": null,
   "metadata": {},
   "outputs": [],
   "source": [
    "import os\n",
    "\n",
    "if LOCAL_TEST:\n",
    "    os.environ[\"SYFTBOX_CLIENT_CONFIG_PATH\"] = str(do_stack.client.config_path)\n",
    "\n",
    "res_job = do_client.run_private(job)"
   ]
  },
  {
   "cell_type": "markdown",
   "metadata": {},
   "source": [
    "By running the job privately, the DO trains the model on their local data, and then sends the trained model back to the DS\n",
    "\n",
    "<img src=\"./images/doSendModels.png\" width=\"80%\" alt=\"DS Sends Models\">"
   ]
  },
  {
   "cell_type": "code",
   "execution_count": null,
   "metadata": {},
   "outputs": [],
   "source": []
  }
 ],
 "metadata": {
  "kernelspec": {
   "display_name": ".venv",
   "language": "python",
   "name": "python3"
  },
  "language_info": {
   "codemirror_mode": {
    "name": "ipython",
    "version": 3
   },
   "file_extension": ".py",
   "mimetype": "text/x-python",
   "name": "python",
   "nbconvert_exporter": "python",
   "pygments_lexer": "ipython3",
   "version": "3.12.9"
  }
 },
 "nbformat": 4,
 "nbformat_minor": 2
}
