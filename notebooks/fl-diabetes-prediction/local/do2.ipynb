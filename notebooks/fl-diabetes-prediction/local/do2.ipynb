{
 "cells": [
  {
   "cell_type": "markdown",
   "metadata": {},
   "source": [
    "# Data Owner 02\n",
    "\n",
    "1. DO logs into the datasite as an admin\n",
    "2. DO creates the dataset \n",
    "3. DO reviews and run jobs submitted by data scientists on DO's private data"
   ]
  },
  {
   "cell_type": "markdown",
   "metadata": {},
   "source": [
    "## 1. DO2 logs into the datasite as admin"
   ]
  },
  {
   "cell_type": "markdown",
   "metadata": {},
   "source": [
    "<img src=\"../images/do2LogsIntoLocalDatasite.png\" width=\"70%\" alt=\"DO2 logs into local datasite\">"
   ]
  },
  {
   "cell_type": "code",
   "execution_count": null,
   "metadata": {},
   "outputs": [],
   "source": [
    "from pathlib import Path\n",
    "\n",
    "from syft_rds.orchestra import setup_rds_server\n",
    "\n",
    "DO_EMAIL = \"do2@openmined.org\"\n",
    "do2 = setup_rds_server(email=DO_EMAIL, root_dir=Path(\".\"), key=\"local_syftbox_network\")\n",
    "do2 = do2.init_session(host=DO_EMAIL)"
   ]
  },
  {
   "cell_type": "code",
   "execution_count": null,
   "metadata": {},
   "outputs": [],
   "source": [
    "do2.is_admin"
   ]
  },
  {
   "cell_type": "markdown",
   "metadata": {},
   "source": [
    "## 2. DO2 creates dataset"
   ]
  },
  {
   "cell_type": "markdown",
   "metadata": {},
   "source": [
    "DO2 also prepares its diabetes dataset with mock (fake / synthetic) part and real, private part  \n",
    "\n",
    "<img src=\"../images/datasetPartition1.png\" width=\"30%\" alt=\"partitioned dataset 1\">"
   ]
  },
  {
   "cell_type": "code",
   "execution_count": null,
   "metadata": {},
   "outputs": [],
   "source": [
    "from pathlib import Path\n",
    "\n",
    "from huggingface_hub import snapshot_download\n",
    "\n",
    "DATASET_DIR = Path(\"../dataset/\").expanduser().absolute()\n",
    "\n",
    "if not DATASET_DIR.exists():\n",
    "    snapshot_download(\n",
    "        repo_id=\"khoaguin/pima-indians-diabetes-database-partitions\",\n",
    "        repo_type=\"dataset\",\n",
    "        local_dir=DATASET_DIR,\n",
    "    )\n",
    "\n",
    "partition_number = 1\n",
    "DATASET_PATH = DATASET_DIR / f\"pima-indians-diabetes-database-{partition_number}\"\n",
    "DATASET_PATH"
   ]
  },
  {
   "cell_type": "markdown",
   "metadata": {},
   "source": [
    "DO2 also creates a syft dataset, where the mock part is uploaded to the datasite and is public to the SyftBox network, and the private part stays local (never get shared)\n",
    "\n",
    "<img src=\"../images/do2CreatesADataset.png\" width=\"70%\" alt=\"partitioned dataset\">"
   ]
  },
  {
   "cell_type": "code",
   "execution_count": null,
   "metadata": {},
   "outputs": [],
   "source": [
    "dataset = do2.dataset.create(\n",
    "    name=\"pima-indians-diabetes-database\",\n",
    "    path=DATASET_PATH / \"private\",\n",
    "    mock_path=DATASET_PATH / \"mock\",\n",
    "    description_path=DATASET_PATH / \"README.md\",\n",
    "    summary=\"Pima Indians Diabetes Database.\",\n",
    ")\n",
    "dataset.describe()"
   ]
  },
  {
   "cell_type": "markdown",
   "metadata": {},
   "source": [
    "## Review and Run Jobs"
   ]
  },
  {
   "cell_type": "code",
   "execution_count": null,
   "metadata": {},
   "outputs": [],
   "source": [
    "jobs = do2.jobs.get_all(status=\"pending_code_review\")\n",
    "jobs"
   ]
  },
  {
   "cell_type": "code",
   "execution_count": null,
   "metadata": {},
   "outputs": [],
   "source": [
    "job = jobs[-1]\n",
    "job"
   ]
  },
  {
   "cell_type": "code",
   "execution_count": null,
   "metadata": {},
   "outputs": [],
   "source": [
    "# same as job.code.describe()\n",
    "job.show_user_code()"
   ]
  },
  {
   "cell_type": "code",
   "execution_count": null,
   "metadata": {},
   "outputs": [],
   "source": [
    "import os\n",
    "\n",
    "os.environ[\"SYFTBOX_CLIENT_CONFIG_PATH\"] = str(do2.client.config_path)\n",
    "\n",
    "res_job = do2.run_private(job)"
   ]
  },
  {
   "cell_type": "markdown",
   "metadata": {},
   "source": [
    "By running the job privately, the DO trains the model on their local data, and then sends the trained model back to the DS\n",
    "\n",
    "<img src=\"./images/doSendModels.png\" width=\"80%\" alt=\"DS Sends Models\">"
   ]
  },
  {
   "cell_type": "code",
   "execution_count": null,
   "metadata": {},
   "outputs": [],
   "source": []
  }
 ],
 "metadata": {
  "kernelspec": {
   "display_name": ".venv",
   "language": "python",
   "name": "python3"
  },
  "language_info": {
   "codemirror_mode": {
    "name": "ipython",
    "version": 3
   },
   "file_extension": ".py",
   "mimetype": "text/x-python",
   "name": "python",
   "nbconvert_exporter": "python",
   "pygments_lexer": "ipython3",
   "version": "3.13.5"
  }
 },
 "nbformat": 4,
 "nbformat_minor": 2
}
