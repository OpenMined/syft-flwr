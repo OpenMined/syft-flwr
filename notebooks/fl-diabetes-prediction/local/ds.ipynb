{
 "cells": [
  {
   "cell_type": "markdown",
   "metadata": {},
   "source": [
    "# Data Scientist (DS)\n",
    "\n",
    "Outline:  \n",
    "\n",
    "1.  \n",
    "2.  \n",
    "3.  \n",
    "4.  \n",
    "5.  \n",
    "6.  \n"
   ]
  },
  {
   "cell_type": "markdown",
   "metadata": {},
   "source": [
    "Some paths and constants "
   ]
  },
  {
   "cell_type": "markdown",
   "metadata": {},
   "source": [
    "## 1. DS logs into DO1 and DO2's datasites as guest\n",
    "\n",
    "<img src=\"../images/dsLogsInAsGuests.png\" width=\"70%\" alt=\"DS logs into DOs' datasites as guests\">"
   ]
  },
  {
   "cell_type": "code",
   "execution_count": null,
   "metadata": {},
   "outputs": [],
   "source": [
    "import os\n",
    "from pathlib import Path\n",
    "\n",
    "from syft_rds.orchestra import setup_rds_server\n",
    "\n",
    "DS = \"ds@openmined.org\"\n",
    "DO1 = \"do1@openmined.org\"\n",
    "DO2 = \"do2@openmined.org\"\n",
    "\n",
    "ds_stack = setup_rds_server(email=DS, root_dir=Path(\".\"), key=\"local_syftbox_network\")\n",
    "do1_guest = ds_stack.init_session(host=DO1)\n",
    "do2_guest = ds_stack.init_session(host=DO2)"
   ]
  },
  {
   "cell_type": "code",
   "execution_count": null,
   "metadata": {},
   "outputs": [],
   "source": [
    "do1_guest.is_admin"
   ]
  },
  {
   "cell_type": "code",
   "execution_count": null,
   "metadata": {},
   "outputs": [],
   "source": [
    "do2_guest.is_admin"
   ]
  },
  {
   "cell_type": "markdown",
   "metadata": {},
   "source": [
    "Set some constants and variables"
   ]
  },
  {
   "cell_type": "code",
   "execution_count": null,
   "metadata": {},
   "outputs": [],
   "source": [
    "SYFTBOX_DATASET_NAME = \"pima-indians-diabetes-database\"\n",
    "\n",
    "os.environ[\"SYFTBOX_CLIENT_CONFIG_PATH\"] = str(ds_stack.client.config_path)\n",
    "os.environ[\"LOGURU_LEVEL\"] = \"DEBUG\"\n",
    "os.environ[\"SYFT_FLWR_MSG_TIMEOUT\"] = \"60\"\n",
    "\n",
    "do_clients = [do1_guest, do2_guest]\n",
    "do_emails = [DO1, DO2]"
   ]
  },
  {
   "cell_type": "markdown",
   "metadata": {},
   "source": [
    "## 2. DS explores the datasets\n",
    "\n",
    "DS can access the DOs' mock data, but can't access the private data\n",
    "\n",
    "<img src=\"../images/dsExploresMockData.png\" width=\"80%\" alt=\"DS explores datasets\">"
   ]
  },
  {
   "cell_type": "code",
   "execution_count": null,
   "metadata": {},
   "outputs": [],
   "source": [
    "SYFTBOX_DATASET_NAME\n",
    "\n",
    "mock_paths = []\n",
    "for client in do_clients:\n",
    "    dataset = client.dataset.get(name=SYFTBOX_DATASET_NAME)\n",
    "    mock_paths.append(dataset.get_mock_path())\n",
    "    print(f\"Client {client.host}'s dataset: \\n{dataset}\\n\")"
   ]
  },
  {
   "cell_type": "markdown",
   "metadata": {},
   "source": [
    "**Note that if you do `dataset.get_private_path()` in the local test version, you will still be able to see the private datasets, this is because in local test, DOs' private datasets also locate on your machine**"
   ]
  },
  {
   "cell_type": "code",
   "execution_count": null,
   "metadata": {},
   "outputs": [],
   "source": [
    "dataset.get_private_path()"
   ]
  },
  {
   "cell_type": "markdown",
   "metadata": {},
   "source": [
    "## 3. DS prepares `syft_flwr` code\n",
    "\n",
    "A `syft_flwr` project requires minimal changes to a Flower project:\n",
    "\n",
    "1. Similar to a [Flower project](https://flower.ai/docs/framework/tutorial-quickstart-pytorch.html), a `syft_flwr` project also has the same structure:\n",
    "```\n",
    "<your-project-name>\n",
    "├── <your-project-name>\n",
    "│   ├── __init__.py\n",
    "│   ├── client_app.py   # Defines your ClientApp\n",
    "│   ├── server_app.py   # Defines your ServerApp\n",
    "│   └── task.py         # Defines your model, training and data loading\n",
    "├── pyproject.toml      # Project metadata like dependencies and configs\n",
    "└── README.md\n",
    "``` \n",
    "\n",
    "Concretely, for diabetes prediction, we have the project code under the path `../fl-diabetes-prediction`\n",
    "\n",
    "<img src=\"../images/dsPreparesSyftFlwrProject.png\" width=\"30%\" alt=\"DS explores datasets\">\n"
   ]
  },
  {
   "cell_type": "code",
   "execution_count": null,
   "metadata": {},
   "outputs": [],
   "source": [
    "SYFT_FLWR_PROJECT_PATH = Path(\"../fl-diabetes-prediction\")\n",
    "assert SYFT_FLWR_PROJECT_PATH.exists()"
   ]
  },
  {
   "cell_type": "markdown",
   "metadata": {},
   "source": [
    "2. Compared to a Flower project, the DS only needs to change a bit of how the `client_app.py`, which runs on the data owners' datasites, loads the data\n",
    "\n",
    "<img src=\"../images/client_fn.png\" width=\"90%\" alt=\"client_fn comparison\">\n",
    "\n",
    "where the `load_syftbox_dataset` (used by `syft_flwr`) and the `load_flwr_data` (used by pure Flower) differ a bit like below:  \n",
    "\n",
    "<img src=\"../images/load_syftbox_flwr_dataset.png\" width=\"90%\" alt=\"load datasets comparison\">\n"
   ]
  },
  {
   "cell_type": "markdown",
   "metadata": {},
   "source": [
    "## 4. DS bootstraps the `syft_flwr` project\n",
    "\n",
    "TODO: What does it mean to \"bootstrap\"?  \n",
    "- What does it do?\n",
    "- Why do we do it? (what's the role of `main.py` and what's the info being added to the toml file does?)\n",
    "\n",
    "TODO: Image of Flower code before and after bootstrap \n",
    "\n",
    "TODO: Explain a difference of Flower and syft_flwr projects (what code need to be modified) via an image (don't open the code files) - show git diff"
   ]
  },
  {
   "cell_type": "code",
   "execution_count": null,
   "metadata": {},
   "outputs": [],
   "source": [
    "import syft_flwr\n",
    "\n",
    "try:\n",
    "    !rm -rf {SYFT_FLWR_PROJECT_PATH / \"main.py\"}\n",
    "    syft_flwr.bootstrap(SYFT_FLWR_PROJECT_PATH, aggregator=DS, datasites=do_emails)\n",
    "    print(\"Bootstrapped project successfully ✅\")\n",
    "except Exception as e:\n",
    "    print(e)"
   ]
  },
  {
   "cell_type": "markdown",
   "metadata": {},
   "source": [
    "## 5. DS runs `flwr` and `syft_flwr` simulations (optional)\n",
    "\n",
    "TODO: it's against mock data, since DS only has acccess to DOs' mock data locally, and to test the code runs before submitting"
   ]
  },
  {
   "cell_type": "code",
   "execution_count": null,
   "metadata": {},
   "outputs": [],
   "source": [
    "RUN_SIMULATION = True"
   ]
  },
  {
   "cell_type": "code",
   "execution_count": null,
   "metadata": {},
   "outputs": [],
   "source": [
    "if RUN_SIMULATION:\n",
    "    !flwr run {SYFT_FLWR_PROJECT_PATH}"
   ]
  },
  {
   "cell_type": "code",
   "execution_count": null,
   "metadata": {},
   "outputs": [],
   "source": [
    "# clean up\n",
    "!rm -rf {SYFT_FLWR_PROJECT_PATH / \"fl_diabetes_prediction\" / \"__pycache__\"}  # clean before submitting\n",
    "!rm -rf weights/  # "
   ]
  },
  {
   "cell_type": "code",
   "execution_count": null,
   "metadata": {},
   "outputs": [],
   "source": [
    "mock_paths"
   ]
  },
  {
   "cell_type": "code",
   "execution_count": null,
   "metadata": {},
   "outputs": [],
   "source": [
    "if RUN_SIMULATION:\n",
    "    print(f\"running syft_flwr simulation with mock paths: {mock_paths}\")\n",
    "    syft_flwr.run(SYFT_FLWR_PROJECT_PATH, mock_paths)"
   ]
  },
  {
   "cell_type": "markdown",
   "metadata": {},
   "source": [
    "## 6. DS submits jobs to the DOs' datasites"
   ]
  },
  {
   "cell_type": "markdown",
   "metadata": {},
   "source": [
    "<img src=\"./images/dsSendsJobs.png\" width=\"80%\" alt=\"DS Submits Jobs\">"
   ]
  },
  {
   "cell_type": "code",
   "execution_count": null,
   "metadata": {},
   "outputs": [],
   "source": [
    "# clean up before submitting jobs  (TODO: make it in the backend)\n",
    "!rm -rf {SYFT_FLWR_PROJECT_PATH / \"fl_diabetes_prediction\" / \"__pycache__\"}\n",
    "!rm -rf {SYFT_FLWR_PROJECT_PATH / \"simulation_logs\"}\n",
    "!rm -rf weights/"
   ]
  },
  {
   "cell_type": "code",
   "execution_count": null,
   "metadata": {},
   "outputs": [],
   "source": [
    "for client in do_clients:\n",
    "    print(f\"sending job to {client.host}\")\n",
    "    job = client.jobs.submit(\n",
    "        name=\"Syft Flower Experiment\",\n",
    "        user_code_path=SYFT_FLWR_PROJECT_PATH,\n",
    "        dataset_name=SYFTBOX_DATASET_NAME,\n",
    "        entrypoint=\"main.py\",\n",
    "        description=\"Syft Flower Federated Learning Experiment\",\n",
    "    )\n",
    "    print(job)"
   ]
  },
  {
   "cell_type": "markdown",
   "metadata": {},
   "source": [
    "<img src=\"./images/dsDoneSubmittingJobs.png\" width=\"40%\" alt=\"DS waits for jobs to be approved\">"
   ]
  },
  {
   "cell_type": "markdown",
   "metadata": {},
   "source": [
    "## 7. DS starts the FL server code\n",
    "\n",
    "TODO: having a GIF to demonstrate the long-running jobs that's exchanging the models between the clients and server"
   ]
  },
  {
   "cell_type": "code",
   "execution_count": null,
   "metadata": {},
   "outputs": [],
   "source": [
    "!uv run {str(SYFT_FLWR_PROJECT_PATH / \"main.py\")} --active"
   ]
  },
  {
   "cell_type": "code",
   "execution_count": null,
   "metadata": {},
   "outputs": [],
   "source": [
    "# TODO: Change syntax to `ds_client.run(job)`"
   ]
  },
  {
   "cell_type": "markdown",
   "metadata": {},
   "source": [
    "By running the FL server code, the DS aggregates the models trained on DOs' private local data into an improved global model\n",
    "\n",
    "<img src=\"./images/dsAggregateModels.png\" width=\"30%\" alt=\"DS Aggregates Models\">"
   ]
  },
  {
   "cell_type": "markdown",
   "metadata": {},
   "source": [
    "## DS Observes the Results"
   ]
  },
  {
   "cell_type": "markdown",
   "metadata": {},
   "source": [
    "Now the DS can monitor the aggregated models trained no DO's private datasets in the `weights` folder"
   ]
  }
 ],
 "metadata": {
  "kernelspec": {
   "display_name": ".venv",
   "language": "python",
   "name": "python3"
  },
  "language_info": {
   "codemirror_mode": {
    "name": "ipython",
    "version": 3
   },
   "file_extension": ".py",
   "mimetype": "text/x-python",
   "name": "python",
   "nbconvert_exporter": "python",
   "pygments_lexer": "ipython3",
   "version": "3.13.5"
  }
 },
 "nbformat": 4,
 "nbformat_minor": 2
}
