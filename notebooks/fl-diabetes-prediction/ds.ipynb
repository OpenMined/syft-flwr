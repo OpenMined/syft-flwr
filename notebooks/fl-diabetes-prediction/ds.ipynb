{
 "cells": [
  {
   "cell_type": "markdown",
   "metadata": {},
   "source": [
    "# Data Scientist (DS)"
   ]
  },
  {
   "cell_type": "markdown",
   "metadata": {},
   "source": [
    "Change `LOCAL_TEST` to True if you want to run the clients locally to test"
   ]
  },
  {
   "cell_type": "code",
   "execution_count": 16,
   "metadata": {},
   "outputs": [],
   "source": [
    "LOCAL_TEST = False"
   ]
  },
  {
   "cell_type": "markdown",
   "metadata": {},
   "source": [
    "## Some paths and constants "
   ]
  },
  {
   "cell_type": "code",
   "execution_count": 17,
   "metadata": {},
   "outputs": [],
   "source": [
    "from pathlib import Path\n",
    "\n",
    "SYFTBOX_DATASET_NAME = \"pima-indians-diabetes-database\"\n",
    "RUN_SIMULATION = True"
   ]
  },
  {
   "cell_type": "markdown",
   "metadata": {},
   "source": [
    "## Log into the data owners' datasites"
   ]
  },
  {
   "cell_type": "code",
   "execution_count": 18,
   "metadata": {},
   "outputs": [
    {
     "name": "stderr",
     "output_type": "stream",
     "text": [
      "\u001b[32m2025-06-30 12:01:16.226\u001b[0m | \u001b[34m\u001b[1mDEBUG   \u001b[0m | \u001b[36msyft_rds.client.rds_client\u001b[0m:\u001b[36m_start_job_polling\u001b[0m:\u001b[36m312\u001b[0m - \u001b[34m\u001b[1mStarting thread to poll jobs.\u001b[0m\n",
      "\u001b[32m2025-06-30 12:01:16.229\u001b[0m | \u001b[34m\u001b[1mDEBUG   \u001b[0m | \u001b[36msyft_rds.client.rds_client\u001b[0m:\u001b[36m_start_job_polling\u001b[0m:\u001b[36m312\u001b[0m - \u001b[34m\u001b[1mStarting thread to poll jobs.\u001b[0m\n"
     ]
    },
    {
     "name": "stdout",
     "output_type": "stream",
     "text": [
      "DS email:  borja.arroyog@upm.es\n",
      "Logged into:  flower-test-group-1@openmined.org\n",
      "Logged into:  flower-test-group-2@openmined.org\n"
     ]
    }
   ],
   "source": [
    "if LOCAL_TEST:\n",
    "    from syft_rds.orchestra import setup_rds_server\n",
    "\n",
    "    print(\"Running locally!\")\n",
    "\n",
    "    DS = \"ds@openmined.org\"\n",
    "    print(\"DS email: \", DS)\n",
    "\n",
    "    DO1 = \"do1@openmined.org\"\n",
    "    DO2 = \"do2@openmined.org\"\n",
    "\n",
    "    ds_stack = setup_rds_server(email=DS, key=\"flwr\", root_dir=Path(\".\"))\n",
    "    do_client_1 = ds_stack.init_session(host=DO1)\n",
    "    do_client_2 = ds_stack.init_session(host=DO2)\n",
    "else:\n",
    "    import syft_rds as sy\n",
    "    from syft_core import Client\n",
    "\n",
    "    DS = Client.load().email\n",
    "    print(\"DS email: \", DS)\n",
    "\n",
    "    DO1 = \"flower-test-group-1@openmined.org\"\n",
    "    DO2 = \"flower-test-group-2@openmined.org\"\n",
    "\n",
    "    do_client_1 = sy.init_session(host=DO1)\n",
    "    print(\"Logged into: \", do_client_1.host)\n",
    "\n",
    "    do_client_2 = sy.init_session(host=DO2)\n",
    "    print(\"Logged into: \", do_client_2.host)\n",
    "\n",
    "do_clients = [do_client_1, do_client_2]\n",
    "do_emails = [DO1, DO2]"
   ]
  },
  {
   "cell_type": "markdown",
   "metadata": {},
   "source": [
    "## Explore the datasets"
   ]
  },
  {
   "cell_type": "code",
   "execution_count": 19,
   "metadata": {},
   "outputs": [
    {
     "data": {
      "text/plain": [
       "'pima-indians-diabetes-database'"
      ]
     },
     "execution_count": 19,
     "metadata": {},
     "output_type": "execute_result"
    }
   ],
   "source": [
    "SYFTBOX_DATASET_NAME"
   ]
  },
  {
   "cell_type": "code",
   "execution_count": 20,
   "metadata": {},
   "outputs": [
    {
     "name": "stdout",
     "output_type": "stream",
     "text": [
      "Client flower-test-group-1@openmined.org's dataset: \n",
      "Dataset\n",
      "  uid: e9295048-0400-428b-96ec-10722b0bea82\n",
      "  created_by: None\n",
      "  created_at: 2025-05-26T03:28:12.354767Z\n",
      "  updated_at: 2025-05-26T03:28:12.354773Z\n",
      "  client_id: a68be9a5-8b06-4446-84cc-45bd0db53206\n",
      "  name: pima-indians-diabetes-database\n",
      "  private: syft://flower-test-group-1@openmined.org/private/datasets/pima-indians-diabetes-database\n",
      "  mock: syft://flower-test-group-1@openmined.org/public/datasets/pima-indians-diabetes-database\n",
      "  summary: Pima Indians Diabetes Database.\n",
      "  readme: syft://flower-test-group-1@openmined.org/public/datasets/pima-indians-diabetes-database/README.md\n",
      "  tags: []\n",
      "  runtime_id: None\n",
      "\n",
      "Client flower-test-group-2@openmined.org's dataset: \n",
      "Dataset\n",
      "  uid: 245bd016-7abd-4731-ad95-1f9e5adbdc0d\n",
      "  created_by: None\n",
      "  created_at: 2025-05-26T03:28:14.559856Z\n",
      "  updated_at: 2025-05-26T03:28:14.559861Z\n",
      "  client_id: 0d4df529-ae9c-4e7a-ad90-86ea857b968b\n",
      "  name: pima-indians-diabetes-database\n",
      "  private: syft://flower-test-group-2@openmined.org/private/datasets/pima-indians-diabetes-database\n",
      "  mock: syft://flower-test-group-2@openmined.org/public/datasets/pima-indians-diabetes-database\n",
      "  summary: Pima Indians Diabetes Database.\n",
      "  readme: syft://flower-test-group-2@openmined.org/public/datasets/pima-indians-diabetes-database/README.md\n",
      "  tags: []\n",
      "  runtime_id: None\n",
      "\n"
     ]
    }
   ],
   "source": [
    "mock_paths = []\n",
    "for client in do_clients:\n",
    "    dataset = client.dataset.get(name=SYFTBOX_DATASET_NAME)\n",
    "    mock_paths.append(dataset.get_mock_path())\n",
    "    print(f\"Client {client.host}'s dataset: \\n{dataset}\\n\")"
   ]
  },
  {
   "cell_type": "markdown",
   "metadata": {},
   "source": [
    "## Bootstrapping and run `syft_flwr` simulation"
   ]
  },
  {
   "cell_type": "code",
   "execution_count": 21,
   "metadata": {},
   "outputs": [],
   "source": [
    "SYFT_FLWR_PROJECT_PATH = Path(\"./fl-diabetes-prediction\")\n",
    "assert SYFT_FLWR_PROJECT_PATH.exists()"
   ]
  },
  {
   "cell_type": "code",
   "execution_count": 22,
   "metadata": {},
   "outputs": [
    {
     "name": "stderr",
     "output_type": "stream",
     "text": [
      "\u001b[32m2025-06-30 12:01:25.717\u001b[0m | \u001b[1mINFO    \u001b[0m | \u001b[36msyft_flwr.bootstrap\u001b[0m:\u001b[36mbootstrap\u001b[0m:\u001b[36m103\u001b[0m - \u001b[1mSuccessfully bootstrapped syft-flwr project at fl-diabetes-prediction with datasites ['flower-test-group-1@openmined.org', 'flower-test-group-2@openmined.org'] and aggregator borja.arroyog@upm.es ✅\u001b[0m\n"
     ]
    },
    {
     "name": "stdout",
     "output_type": "stream",
     "text": [
      "Bootstrapped project successfully ✅\n"
     ]
    }
   ],
   "source": [
    "import syft_flwr\n",
    "\n",
    "try:\n",
    "    !rm -rf {SYFT_FLWR_PROJECT_PATH / \"main.py\"}\n",
    "    syft_flwr.bootstrap(SYFT_FLWR_PROJECT_PATH, aggregator=DS, datasites=do_emails)\n",
    "    print(\"Bootstrapped project successfully ✅\")\n",
    "except Exception as e:\n",
    "    print(e)"
   ]
  },
  {
   "cell_type": "markdown",
   "metadata": {},
   "source": [
    "## Run `flwr` and `syft_flwr` simulations (optional)"
   ]
  },
  {
   "cell_type": "code",
   "execution_count": null,
   "metadata": {},
   "outputs": [],
   "source": [
    "RUN_SIMULATION = True"
   ]
  },
  {
   "cell_type": "code",
   "execution_count": 26,
   "metadata": {},
   "outputs": [],
   "source": [
    "if RUN_SIMULATION:\n",
    "    !flwr run {SYFT_FLWR_PROJECT_PATH}"
   ]
  },
  {
   "cell_type": "code",
   "execution_count": 27,
   "metadata": {},
   "outputs": [],
   "source": [
    "# clean up\n",
    "!rm -rf {SYFT_FLWR_PROJECT_PATH / \"fl_diabetes_prediction\" / \"__pycache__\"}\n",
    "!rm -rf weights/"
   ]
  },
  {
   "cell_type": "code",
   "execution_count": 28,
   "metadata": {},
   "outputs": [
    {
     "data": {
      "text/plain": [
       "[PosixPath('/Users/borja/SyftBox/datasites/flower-test-group-1@openmined.org/public/datasets/pima-indians-diabetes-database'),\n",
       " PosixPath('/Users/borja/SyftBox/datasites/flower-test-group-2@openmined.org/public/datasets/pima-indians-diabetes-database')]"
      ]
     },
     "execution_count": 28,
     "metadata": {},
     "output_type": "execute_result"
    }
   ],
   "source": [
    "mock_paths"
   ]
  },
  {
   "cell_type": "code",
   "execution_count": 29,
   "metadata": {},
   "outputs": [],
   "source": [
    "if RUN_SIMULATION:\n",
    "    print(f\"running syft_flwr simulation with mock paths: {mock_paths}\")\n",
    "    syft_flwr.run(SYFT_FLWR_PROJECT_PATH, mock_paths)"
   ]
  },
  {
   "cell_type": "markdown",
   "metadata": {},
   "source": [
    "## Submit jobs"
   ]
  },
  {
   "cell_type": "markdown",
   "metadata": {},
   "source": [
    "<img src=\"./images/dsSendsJobs.png\" width=\"80%\" alt=\"DS Submits Jobs\">"
   ]
  },
  {
   "cell_type": "code",
   "execution_count": 30,
   "metadata": {},
   "outputs": [],
   "source": [
    "# clean up before submitting jobs\n",
    "!rm -rf {SYFT_FLWR_PROJECT_PATH / \"fl_diabetes_prediction\" / \"__pycache__\"}\n",
    "!rm -rf {SYFT_FLWR_PROJECT_PATH / \"simulation_logs\"}\n",
    "!rm -rf weights/"
   ]
  },
  {
   "cell_type": "code",
   "execution_count": 31,
   "metadata": {},
   "outputs": [
    {
     "name": "stdout",
     "output_type": "stream",
     "text": [
      "sending job to flower-test-group-1@openmined.org\n"
     ]
    },
    {
     "name": "stderr",
     "output_type": "stream",
     "text": [
      "/var/folders/xg/rp3vmnhn7qd7vdq44sc39nrc0000gn/T/ipykernel_75215/851194664.py:3: DeprecationWarning: Function 'jobs' is deprecated and will be removed in a future version. client.jobs has been renamed to client.job\n",
      "  job = client.jobs.submit(\n",
      "\u001b[32m2025-06-30 12:01:56.696\u001b[0m | \u001b[34m\u001b[1mDEBUG   \u001b[0m | \u001b[36msyft_rds.client.rds_clients.runtime\u001b[0m:\u001b[36mget_or_create\u001b[0m:\u001b[36m69\u001b[0m - \u001b[34m\u001b[1mRuntime 'syft_default_python_runtime' already exists. Returning existing runtime.\u001b[0m\n"
     ]
    },
    {
     "name": "stdout",
     "output_type": "stream",
     "text": [
      "Job\n",
      "  uid: e4e6b3be-932b-46a6-a8c6-463dee472701\n",
      "  created_by: borja.arroyog@upm.es\n",
      "  created_at: 2025-06-30T10:01:56.781436Z\n",
      "  updated_at: 2025-06-30T10:01:56.781439Z\n",
      "  client_id: a68be9a5-8b06-4446-84cc-45bd0db53206\n",
      "  name: Syft Flower Experiment\n",
      "  dataset_name: pima-indians-diabetes-database\n",
      "  runtime_id: e7f6abe6-fa41-41c8-8e83-a5bcb248f2d5\n",
      "  user_code_id: 570c436e-576c-4c09-a485-c9b573948975\n",
      "  custom_function_id: None\n",
      "  description: Syft Flower Federated Learning Experiment\n",
      "  tags: ['federated learning', 'fl', 'syft_flwr', 'flwr']\n",
      "  user_metadata: {}\n",
      "  status: pending_code_review\n",
      "  error: no_error\n",
      "  error_message: None\n",
      "  output_url: syft://flower-test-group-1@openmined.org/app_data/RDS/user_files/borja.arroyog@upm.es/Job/e4e6b3be-932b-46a6-a8c6-463dee472701\n",
      "sending job to flower-test-group-2@openmined.org\n"
     ]
    },
    {
     "name": "stderr",
     "output_type": "stream",
     "text": [
      "\u001b[32m2025-06-30 12:01:57.015\u001b[0m | \u001b[34m\u001b[1mDEBUG   \u001b[0m | \u001b[36msyft_rds.client.rds_clients.runtime\u001b[0m:\u001b[36mget_or_create\u001b[0m:\u001b[36m69\u001b[0m - \u001b[34m\u001b[1mRuntime 'syft_default_python_runtime' already exists. Returning existing runtime.\u001b[0m\n"
     ]
    },
    {
     "name": "stdout",
     "output_type": "stream",
     "text": [
      "Job\n",
      "  uid: 77c32e3b-39cf-4673-b2f4-2faab548613b\n",
      "  created_by: borja.arroyog@upm.es\n",
      "  created_at: 2025-06-30T10:01:57.106010Z\n",
      "  updated_at: 2025-06-30T10:01:57.106011Z\n",
      "  client_id: 0d4df529-ae9c-4e7a-ad90-86ea857b968b\n",
      "  name: Syft Flower Experiment\n",
      "  dataset_name: pima-indians-diabetes-database\n",
      "  runtime_id: b1f1cb23-e932-41a3-a054-c513f3dcb45c\n",
      "  user_code_id: 77730b98-d3f0-4b88-8cb4-f668c1702cbe\n",
      "  custom_function_id: None\n",
      "  description: Syft Flower Federated Learning Experiment\n",
      "  tags: ['federated learning', 'fl', 'syft_flwr', 'flwr']\n",
      "  user_metadata: {}\n",
      "  status: pending_code_review\n",
      "  error: no_error\n",
      "  error_message: None\n",
      "  output_url: syft://flower-test-group-2@openmined.org/app_data/RDS/user_files/borja.arroyog@upm.es/Job/77c32e3b-39cf-4673-b2f4-2faab548613b\n"
     ]
    }
   ],
   "source": [
    "for client in do_clients:\n",
    "    print(f\"sending job to {client.host}\")\n",
    "    job = client.jobs.submit(\n",
    "        name=\"Syft Flower Experiment\",\n",
    "        description=\"Syft Flower Federated Learning Experiment\",\n",
    "        user_code_path=SYFT_FLWR_PROJECT_PATH,\n",
    "        dataset_name=SYFTBOX_DATASET_NAME,\n",
    "        tags=[\"federated learning\", \"fl\", \"syft_flwr\", \"flwr\"],\n",
    "        entrypoint=\"main.py\",\n",
    "    )\n",
    "    print(job)"
   ]
  },
  {
   "cell_type": "markdown",
   "metadata": {},
   "source": [
    "<img src=\"./images/dsDoneSubmittingJobs.png\" width=\"40%\" alt=\"DS waits for jobs to be approved\">"
   ]
  },
  {
   "cell_type": "markdown",
   "metadata": {},
   "source": [
    "## DS starts the FL server code"
   ]
  },
  {
   "cell_type": "code",
   "execution_count": 32,
   "metadata": {},
   "outputs": [
    {
     "name": "stdout",
     "output_type": "stream",
     "text": [
      "/Users/borja/Projects/syft/fl-diabetes-prediction/.venv/lib/python3.13/site-packages/pydantic/_internal/_generate_schema.py:923: PydanticDeprecatedSince20: `__get_validators__` is deprecated and will be removed, use `__get_pydantic_core_schema__` instead. Deprecated in Pydantic V2.0 to be removed in V3.0. See Pydantic V2 Migration Guide at https://errors.pydantic.dev/2.11/migration/\n",
      "  warn(\n",
      "/Users/borja/Projects/syft/fl-diabetes-prediction/.venv/lib/python3.13/site-packages/pydantic/_internal/_config.py:323: PydanticDeprecatedSince20: Support for class-based `config` is deprecated, use ConfigDict instead. Deprecated in Pydantic V2.0 to be removed in V3.0. See Pydantic V2 Migration Guide at https://errors.pydantic.dev/2.11/migration/\n",
      "  warnings.warn(DEPRECATION_MESSAGE, DeprecationWarning)\n",
      "/Users/borja/Projects/syft/fl-diabetes-prediction/.venv/lib/python3.13/site-packages/pydantic/_internal/_generate_schema.py:923: PydanticDeprecatedSince20: `__get_validators__` is deprecated and will be removed, use `__get_pydantic_core_schema__` instead. Deprecated in Pydantic V2.0 to be removed in V3.0. See Pydantic V2 Migration Guide at https://errors.pydantic.dev/2.11/migration/\n",
      "  warn(\n",
      "\u001b[32m2025-06-30 12:02:53.204\u001b[0m | \u001b[1mINFO    \u001b[0m | \u001b[36mfl_diabetes_prediction.task\u001b[0m:\u001b[36m<module>\u001b[0m:\u001b[36m28\u001b[0m - \u001b[1mUsing device: mps\u001b[0m\n",
      "\u001b[32m2025-06-30 12:02:53.213\u001b[0m | \u001b[34m\u001b[1mDEBUG   \u001b[0m | \u001b[36msyft_flwr.grid\u001b[0m:\u001b[36m__init__\u001b[0m:\u001b[36m44\u001b[0m - \u001b[34m\u001b[1mInitialize SyftGrid for 'borja.arroyog@upm.es' with datasites: ['flower-test-group-1@openmined.org', 'flower-test-group-2@openmined.org']\u001b[0m\n",
      "\u001b[32m2025-06-30 12:02:53.213\u001b[0m | \u001b[1mINFO    \u001b[0m | \u001b[36msyft_flwr.flower_server\u001b[0m:\u001b[36msyftbox_flwr_server\u001b[0m:\u001b[36m23\u001b[0m - \u001b[1mStarted SyftBox Flower Server on: borja.arroyog@upm.es\u001b[0m\n",
      "\u001b[32m2025-06-30 12:02:53.213\u001b[0m | \u001b[1mINFO    \u001b[0m | \u001b[36msyft_flwr.flower_server\u001b[0m:\u001b[36msyftbox_flwr_server\u001b[0m:\u001b[36m24\u001b[0m - \u001b[1msyft_flwr app name: flwr/borja.arroyog@upm.es_fl-diabetes-prediction_1751277685\u001b[0m\n",
      "\u001b[92mINFO \u001b[0m:      Starting Flower ServerApp, config: num_rounds=3, no round_timeout\n",
      "\u001b[92mINFO \u001b[0m:      \n",
      "\u001b[92mINFO \u001b[0m:      [INIT]\n",
      "\u001b[92mINFO \u001b[0m:      Using initial global parameters provided by strategy\n",
      "\u001b[92mINFO \u001b[0m:      Starting evaluation of initial global parameters\n",
      "\u001b[32m2025-06-30 12:02:53.396\u001b[0m | \u001b[1mINFO    \u001b[0m | \u001b[36msyft_flwr.strategy.fedavg\u001b[0m:\u001b[36m_save_global_model\u001b[0m:\u001b[36m33\u001b[0m - \u001b[1mCheckpoint saved to: /Users/borja/Projects/syft/fl-diabetes-prediction/weights/parameters_round_0.safetensors\u001b[0m\n",
      "\u001b[92mINFO \u001b[0m:      Evaluation returned no results (`None`)\n",
      "\u001b[92mINFO \u001b[0m:      \n",
      "\u001b[92mINFO \u001b[0m:      [ROUND 1]\n",
      "\u001b[92mINFO \u001b[0m:      configure_fit: strategy sampled 2 clients (out of 2)\n",
      "\u001b[32m2025-06-30 12:02:53.397\u001b[0m | \u001b[34m\u001b[1mDEBUG   \u001b[0m | \u001b[36msyft_flwr.grid\u001b[0m:\u001b[36msend_and_receive\u001b[0m:\u001b[36m174\u001b[0m - \u001b[34m\u001b[1msyft_flwr messages timeout = 60.0: Will move on after 60.0 (s) if no reply is received\u001b[0m\n",
      "\u001b[32m2025-06-30 12:02:53.397\u001b[0m | \u001b[34m\u001b[1mDEBUG   \u001b[0m | \u001b[36msyft_flwr.grid\u001b[0m:\u001b[36msend_and_receive\u001b[0m:\u001b[36m174\u001b[0m - \u001b[34m\u001b[1msyft_flwr messages timeout = 60.0: Will move on after 60.0 (s) if no reply is received\u001b[0m\n",
      "\u001b[32m2025-06-30 12:02:53.399\u001b[0m | \u001b[34m\u001b[1mDEBUG   \u001b[0m | \u001b[36msyft_flwr.grid\u001b[0m:\u001b[36mpush_messages\u001b[0m:\u001b[36m117\u001b[0m - \u001b[34m\u001b[1mPushed message to syft://flower-test-group-2@openmined.org/app_data/flwr/borja.arroyog@upm.es_fl-diabetes-prediction_1751277685/rpc/messages with metadata Metadata(run_id=617, message_id='', src_node_id=1, dst_node_id=2382910686, reply_to_message_id='', group_id='1', created_at=1751277773.397164, ttl=43200, message_type='train', delivered_at=''); size 0.010018348693847656 (Mb)\u001b[0m\n",
      "\u001b[32m2025-06-30 12:02:53.399\u001b[0m | \u001b[34m\u001b[1mDEBUG   \u001b[0m | \u001b[36msyft_flwr.grid\u001b[0m:\u001b[36mpush_messages\u001b[0m:\u001b[36m117\u001b[0m - \u001b[34m\u001b[1mPushed message to syft://flower-test-group-1@openmined.org/app_data/flwr/borja.arroyog@upm.es_fl-diabetes-prediction_1751277685/rpc/messages with metadata Metadata(run_id=617, message_id='', src_node_id=1, dst_node_id=2675261095, reply_to_message_id='', group_id='1', created_at=1751277773.397426, ttl=43200, message_type='train', delivered_at=''); size 0.010018348693847656 (Mb)\u001b[0m\n",
      "\u001b[32m2025-06-30 12:02:56.411\u001b[0m | \u001b[34m\u001b[1mDEBUG   \u001b[0m | \u001b[36msyft_flwr.grid\u001b[0m:\u001b[36mpull_messages\u001b[0m:\u001b[36m151\u001b[0m - \u001b[34m\u001b[1mPulled message from syft://flower-test-group-2@openmined.org/app_data/flwr/borja.arroyog@upm.es_fl-diabetes-prediction_1751277685/rpc/messages with metadata: Metadata(run_id=617, message_id='', src_node_id=2382910686, dst_node_id=1, reply_to_message_id='', group_id='1', created_at=1751277774.748567, ttl=43198.64859700203, message_type='train', delivered_at=''), size: 0.010112762451171875 (Mb)\u001b[0m\n",
      "\u001b[32m2025-06-30 12:03:53.498\u001b[0m | \u001b[33m\u001b[1mWARNING \u001b[0m | \u001b[36msyft_flwr.grid\u001b[0m:\u001b[36msend_and_receive\u001b[0m:\u001b[36m197\u001b[0m - \u001b[33m\u001b[1mTimeout reached. 1 message(s) sent out but not replied.\u001b[0m\n",
      "\u001b[92mINFO \u001b[0m:      aggregate_fit: received 1 results and 1 failures\n",
      "\u001b[93mWARNING \u001b[0m:   No fit_metrics_aggregation_fn provided\n",
      "\u001b[32m2025-06-30 12:03:53.504\u001b[0m | \u001b[1mINFO    \u001b[0m | \u001b[36msyft_flwr.strategy.fedavg\u001b[0m:\u001b[36m_save_global_model\u001b[0m:\u001b[36m33\u001b[0m - \u001b[1mCheckpoint saved to: /Users/borja/Projects/syft/fl-diabetes-prediction/weights/parameters_round_1.safetensors\u001b[0m\n",
      "\u001b[92mINFO \u001b[0m:      configure_evaluate: strategy sampled 2 clients (out of 2)\n",
      "\u001b[32m2025-06-30 12:03:53.505\u001b[0m | \u001b[34m\u001b[1mDEBUG   \u001b[0m | \u001b[36msyft_flwr.grid\u001b[0m:\u001b[36msend_and_receive\u001b[0m:\u001b[36m174\u001b[0m - \u001b[34m\u001b[1msyft_flwr messages timeout = 60.0: Will move on after 60.0 (s) if no reply is received\u001b[0m\n",
      "\u001b[32m2025-06-30 12:03:53.506\u001b[0m | \u001b[34m\u001b[1mDEBUG   \u001b[0m | \u001b[36msyft_flwr.grid\u001b[0m:\u001b[36msend_and_receive\u001b[0m:\u001b[36m174\u001b[0m - \u001b[34m\u001b[1msyft_flwr messages timeout = 60.0: Will move on after 60.0 (s) if no reply is received\u001b[0m\n",
      "\u001b[32m2025-06-30 12:03:53.507\u001b[0m | \u001b[34m\u001b[1mDEBUG   \u001b[0m | \u001b[36msyft_flwr.grid\u001b[0m:\u001b[36mpush_messages\u001b[0m:\u001b[36m117\u001b[0m - \u001b[34m\u001b[1mPushed message to syft://flower-test-group-2@openmined.org/app_data/flwr/borja.arroyog@upm.es_fl-diabetes-prediction_1751277685/rpc/messages with metadata Metadata(run_id=617, message_id='', src_node_id=1, dst_node_id=2382910686, reply_to_message_id='', group_id='1', created_at=1751277833.505274, ttl=43200, message_type='evaluate', delivered_at=''); size 0.010030746459960938 (Mb)\u001b[0m\n",
      "\u001b[32m2025-06-30 12:03:53.507\u001b[0m | \u001b[34m\u001b[1mDEBUG   \u001b[0m | \u001b[36msyft_flwr.grid\u001b[0m:\u001b[36mpush_messages\u001b[0m:\u001b[36m117\u001b[0m - \u001b[34m\u001b[1mPushed message to syft://flower-test-group-1@openmined.org/app_data/flwr/borja.arroyog@upm.es_fl-diabetes-prediction_1751277685/rpc/messages with metadata Metadata(run_id=617, message_id='', src_node_id=1, dst_node_id=2675261095, reply_to_message_id='', group_id='1', created_at=1751277833.506291, ttl=43200, message_type='evaluate', delivered_at=''); size 0.010030746459960938 (Mb)\u001b[0m\n",
      "\u001b[32m2025-06-30 12:04:02.520\u001b[0m | \u001b[34m\u001b[1mDEBUG   \u001b[0m | \u001b[36msyft_flwr.grid\u001b[0m:\u001b[36mpull_messages\u001b[0m:\u001b[36m151\u001b[0m - \u001b[34m\u001b[1mPulled message from syft://flower-test-group-2@openmined.org/app_data/flwr/borja.arroyog@upm.es_fl-diabetes-prediction_1751277685/rpc/messages with metadata: Metadata(run_id=617, message_id='', src_node_id=2382910686, dst_node_id=1, reply_to_message_id='', group_id='1', created_at=1751277840.405195, ttl=43193.1000790596, message_type='evaluate', delivered_at=''), size: 0.000232696533203125 (Mb)\u001b[0m\n",
      "\u001b[32m2025-06-30 12:04:53.588\u001b[0m | \u001b[33m\u001b[1mWARNING \u001b[0m | \u001b[36msyft_flwr.grid\u001b[0m:\u001b[36msend_and_receive\u001b[0m:\u001b[36m197\u001b[0m - \u001b[33m\u001b[1mTimeout reached. 1 message(s) sent out but not replied.\u001b[0m\n",
      "\u001b[92mINFO \u001b[0m:      aggregate_evaluate: received 1 results and 1 failures\n",
      "\u001b[92mINFO \u001b[0m:      \n",
      "\u001b[92mINFO \u001b[0m:      [ROUND 2]\n",
      "\u001b[92mINFO \u001b[0m:      configure_fit: strategy sampled 2 clients (out of 2)\n",
      "\u001b[32m2025-06-30 12:04:53.594\u001b[0m | \u001b[34m\u001b[1mDEBUG   \u001b[0m | \u001b[36msyft_flwr.grid\u001b[0m:\u001b[36msend_and_receive\u001b[0m:\u001b[36m174\u001b[0m - \u001b[34m\u001b[1msyft_flwr messages timeout = 60.0: Will move on after 60.0 (s) if no reply is received\u001b[0m\n",
      "\u001b[32m2025-06-30 12:04:53.600\u001b[0m | \u001b[34m\u001b[1mDEBUG   \u001b[0m | \u001b[36msyft_flwr.grid\u001b[0m:\u001b[36mpush_messages\u001b[0m:\u001b[36m117\u001b[0m - \u001b[34m\u001b[1mPushed message to syft://flower-test-group-2@openmined.org/app_data/flwr/borja.arroyog@upm.es_fl-diabetes-prediction_1751277685/rpc/messages with metadata Metadata(run_id=617, message_id='', src_node_id=1, dst_node_id=2382910686, reply_to_message_id='', group_id='2', created_at=1751277893.594233, ttl=43200, message_type='train', delivered_at=''); size 0.010018348693847656 (Mb)\u001b[0m\n",
      "\u001b[32m2025-06-30 12:04:53.604\u001b[0m | \u001b[34m\u001b[1mDEBUG   \u001b[0m | \u001b[36msyft_flwr.grid\u001b[0m:\u001b[36msend_and_receive\u001b[0m:\u001b[36m174\u001b[0m - \u001b[34m\u001b[1msyft_flwr messages timeout = 60.0: Will move on after 60.0 (s) if no reply is received\u001b[0m\n",
      "\u001b[32m2025-06-30 12:04:53.605\u001b[0m | \u001b[34m\u001b[1mDEBUG   \u001b[0m | \u001b[36msyft_flwr.grid\u001b[0m:\u001b[36mpush_messages\u001b[0m:\u001b[36m117\u001b[0m - \u001b[34m\u001b[1mPushed message to syft://flower-test-group-1@openmined.org/app_data/flwr/borja.arroyog@upm.es_fl-diabetes-prediction_1751277685/rpc/messages with metadata Metadata(run_id=617, message_id='', src_node_id=1, dst_node_id=2675261095, reply_to_message_id='', group_id='2', created_at=1751277893.604519, ttl=43200, message_type='train', delivered_at=''); size 0.010018348693847656 (Mb)\u001b[0m\n",
      "\u001b[32m2025-06-30 12:04:56.612\u001b[0m | \u001b[34m\u001b[1mDEBUG   \u001b[0m | \u001b[36msyft_flwr.grid\u001b[0m:\u001b[36mpull_messages\u001b[0m:\u001b[36m151\u001b[0m - \u001b[34m\u001b[1mPulled message from syft://flower-test-group-2@openmined.org/app_data/flwr/borja.arroyog@upm.es_fl-diabetes-prediction_1751277685/rpc/messages with metadata: Metadata(run_id=617, message_id='', src_node_id=2382910686, dst_node_id=1, reply_to_message_id='', group_id='2', created_at=1751277893.817459, ttl=43199.776773929596, message_type='train', delivered_at=''), size: 0.010112762451171875 (Mb)\u001b[0m\n",
      "\u001b[32m2025-06-30 12:05:53.739\u001b[0m | \u001b[33m\u001b[1mWARNING \u001b[0m | \u001b[36msyft_flwr.grid\u001b[0m:\u001b[36msend_and_receive\u001b[0m:\u001b[36m197\u001b[0m - \u001b[33m\u001b[1mTimeout reached. 1 message(s) sent out but not replied.\u001b[0m\n",
      "\u001b[92mINFO \u001b[0m:      aggregate_fit: received 1 results and 1 failures\n",
      "\u001b[32m2025-06-30 12:05:53.746\u001b[0m | \u001b[1mINFO    \u001b[0m | \u001b[36msyft_flwr.strategy.fedavg\u001b[0m:\u001b[36m_save_global_model\u001b[0m:\u001b[36m33\u001b[0m - \u001b[1mCheckpoint saved to: /Users/borja/Projects/syft/fl-diabetes-prediction/weights/parameters_round_2.safetensors\u001b[0m\n",
      "\u001b[92mINFO \u001b[0m:      configure_evaluate: strategy sampled 2 clients (out of 2)\n",
      "\u001b[32m2025-06-30 12:05:53.749\u001b[0m | \u001b[34m\u001b[1mDEBUG   \u001b[0m | \u001b[36msyft_flwr.grid\u001b[0m:\u001b[36msend_and_receive\u001b[0m:\u001b[36m174\u001b[0m - \u001b[34m\u001b[1msyft_flwr messages timeout = 60.0: Will move on after 60.0 (s) if no reply is received\u001b[0m\n",
      "\u001b[32m2025-06-30 12:05:53.750\u001b[0m | \u001b[34m\u001b[1mDEBUG   \u001b[0m | \u001b[36msyft_flwr.grid\u001b[0m:\u001b[36msend_and_receive\u001b[0m:\u001b[36m174\u001b[0m - \u001b[34m\u001b[1msyft_flwr messages timeout = 60.0: Will move on after 60.0 (s) if no reply is received\u001b[0m\n",
      "\u001b[32m2025-06-30 12:05:53.754\u001b[0m | \u001b[34m\u001b[1mDEBUG   \u001b[0m | \u001b[36msyft_flwr.grid\u001b[0m:\u001b[36mpush_messages\u001b[0m:\u001b[36m117\u001b[0m - \u001b[34m\u001b[1mPushed message to syft://flower-test-group-2@openmined.org/app_data/flwr/borja.arroyog@upm.es_fl-diabetes-prediction_1751277685/rpc/messages with metadata Metadata(run_id=617, message_id='', src_node_id=1, dst_node_id=2382910686, reply_to_message_id='', group_id='2', created_at=1751277953.749572, ttl=43200, message_type='evaluate', delivered_at=''); size 0.010030746459960938 (Mb)\u001b[0m\n",
      "\u001b[32m2025-06-30 12:05:53.754\u001b[0m | \u001b[34m\u001b[1mDEBUG   \u001b[0m | \u001b[36msyft_flwr.grid\u001b[0m:\u001b[36mpush_messages\u001b[0m:\u001b[36m117\u001b[0m - \u001b[34m\u001b[1mPushed message to syft://flower-test-group-1@openmined.org/app_data/flwr/borja.arroyog@upm.es_fl-diabetes-prediction_1751277685/rpc/messages with metadata Metadata(run_id=617, message_id='', src_node_id=1, dst_node_id=2675261095, reply_to_message_id='', group_id='2', created_at=1751277953.750132, ttl=43200, message_type='evaluate', delivered_at=''); size 0.010030746459960938 (Mb)\u001b[0m\n",
      "\u001b[32m2025-06-30 12:05:59.768\u001b[0m | \u001b[34m\u001b[1mDEBUG   \u001b[0m | \u001b[36msyft_flwr.grid\u001b[0m:\u001b[36mpull_messages\u001b[0m:\u001b[36m151\u001b[0m - \u001b[34m\u001b[1mPulled message from syft://flower-test-group-2@openmined.org/app_data/flwr/borja.arroyog@upm.es_fl-diabetes-prediction_1751277685/rpc/messages with metadata: Metadata(run_id=617, message_id='', src_node_id=2382910686, dst_node_id=1, reply_to_message_id='', group_id='2', created_at=1751277956.856664, ttl=43196.89290809631, message_type='evaluate', delivered_at=''), size: 0.000232696533203125 (Mb)\u001b[0m\n",
      "\u001b[32m2025-06-30 12:06:53.849\u001b[0m | \u001b[33m\u001b[1mWARNING \u001b[0m | \u001b[36msyft_flwr.grid\u001b[0m:\u001b[36msend_and_receive\u001b[0m:\u001b[36m197\u001b[0m - \u001b[33m\u001b[1mTimeout reached. 1 message(s) sent out but not replied.\u001b[0m\n",
      "\u001b[92mINFO \u001b[0m:      aggregate_evaluate: received 1 results and 1 failures\n",
      "\u001b[92mINFO \u001b[0m:      \n",
      "\u001b[92mINFO \u001b[0m:      [ROUND 3]\n",
      "\u001b[92mINFO \u001b[0m:      configure_fit: strategy sampled 2 clients (out of 2)\n",
      "\u001b[32m2025-06-30 12:06:53.853\u001b[0m | \u001b[34m\u001b[1mDEBUG   \u001b[0m | \u001b[36msyft_flwr.grid\u001b[0m:\u001b[36msend_and_receive\u001b[0m:\u001b[36m174\u001b[0m - \u001b[34m\u001b[1msyft_flwr messages timeout = 60.0: Will move on after 60.0 (s) if no reply is received\u001b[0m\n",
      "\u001b[32m2025-06-30 12:06:53.854\u001b[0m | \u001b[34m\u001b[1mDEBUG   \u001b[0m | \u001b[36msyft_flwr.grid\u001b[0m:\u001b[36msend_and_receive\u001b[0m:\u001b[36m174\u001b[0m - \u001b[34m\u001b[1msyft_flwr messages timeout = 60.0: Will move on after 60.0 (s) if no reply is received\u001b[0m\n",
      "\u001b[32m2025-06-30 12:06:53.856\u001b[0m | \u001b[34m\u001b[1mDEBUG   \u001b[0m | \u001b[36msyft_flwr.grid\u001b[0m:\u001b[36mpush_messages\u001b[0m:\u001b[36m117\u001b[0m - \u001b[34m\u001b[1mPushed message to syft://flower-test-group-1@openmined.org/app_data/flwr/borja.arroyog@upm.es_fl-diabetes-prediction_1751277685/rpc/messages with metadata Metadata(run_id=617, message_id='', src_node_id=1, dst_node_id=2675261095, reply_to_message_id='', group_id='3', created_at=1751278013.853409, ttl=43200, message_type='train', delivered_at=''); size 0.010018348693847656 (Mb)\u001b[0m\n",
      "\u001b[32m2025-06-30 12:06:53.856\u001b[0m | \u001b[34m\u001b[1mDEBUG   \u001b[0m | \u001b[36msyft_flwr.grid\u001b[0m:\u001b[36mpush_messages\u001b[0m:\u001b[36m117\u001b[0m - \u001b[34m\u001b[1mPushed message to syft://flower-test-group-2@openmined.org/app_data/flwr/borja.arroyog@upm.es_fl-diabetes-prediction_1751277685/rpc/messages with metadata Metadata(run_id=617, message_id='', src_node_id=1, dst_node_id=2382910686, reply_to_message_id='', group_id='3', created_at=1751278013.854957, ttl=43200, message_type='train', delivered_at=''); size 0.010018348693847656 (Mb)\u001b[0m\n",
      "\u001b[32m2025-06-30 12:06:56.864\u001b[0m | \u001b[34m\u001b[1mDEBUG   \u001b[0m | \u001b[36msyft_flwr.grid\u001b[0m:\u001b[36mpull_messages\u001b[0m:\u001b[36m151\u001b[0m - \u001b[34m\u001b[1mPulled message from syft://flower-test-group-2@openmined.org/app_data/flwr/borja.arroyog@upm.es_fl-diabetes-prediction_1751277685/rpc/messages with metadata: Metadata(run_id=617, message_id='', src_node_id=2382910686, dst_node_id=1, reply_to_message_id='', group_id='3', created_at=1751278014.076569, ttl=43199.77838802338, message_type='train', delivered_at=''), size: 0.010112762451171875 (Mb)\u001b[0m\n",
      "\u001b[32m2025-06-30 12:07:53.945\u001b[0m | \u001b[33m\u001b[1mWARNING \u001b[0m | \u001b[36msyft_flwr.grid\u001b[0m:\u001b[36msend_and_receive\u001b[0m:\u001b[36m197\u001b[0m - \u001b[33m\u001b[1mTimeout reached. 1 message(s) sent out but not replied.\u001b[0m\n",
      "\u001b[92mINFO \u001b[0m:      aggregate_fit: received 1 results and 1 failures\n",
      "\u001b[32m2025-06-30 12:07:53.965\u001b[0m | \u001b[1mINFO    \u001b[0m | \u001b[36msyft_flwr.strategy.fedavg\u001b[0m:\u001b[36m_save_global_model\u001b[0m:\u001b[36m33\u001b[0m - \u001b[1mCheckpoint saved to: /Users/borja/Projects/syft/fl-diabetes-prediction/weights/parameters_round_3.safetensors\u001b[0m\n",
      "\u001b[92mINFO \u001b[0m:      configure_evaluate: strategy sampled 2 clients (out of 2)\n",
      "\u001b[32m2025-06-30 12:07:53.966\u001b[0m | \u001b[34m\u001b[1mDEBUG   \u001b[0m | \u001b[36msyft_flwr.grid\u001b[0m:\u001b[36msend_and_receive\u001b[0m:\u001b[36m174\u001b[0m - \u001b[34m\u001b[1msyft_flwr messages timeout = 60.0: Will move on after 60.0 (s) if no reply is received\u001b[0m\n",
      "\u001b[32m2025-06-30 12:07:53.967\u001b[0m | \u001b[34m\u001b[1mDEBUG   \u001b[0m | \u001b[36msyft_flwr.grid\u001b[0m:\u001b[36msend_and_receive\u001b[0m:\u001b[36m174\u001b[0m - \u001b[34m\u001b[1msyft_flwr messages timeout = 60.0: Will move on after 60.0 (s) if no reply is received\u001b[0m\n",
      "\u001b[32m2025-06-30 12:07:53.969\u001b[0m | \u001b[34m\u001b[1mDEBUG   \u001b[0m | \u001b[36msyft_flwr.grid\u001b[0m:\u001b[36mpush_messages\u001b[0m:\u001b[36m117\u001b[0m - \u001b[34m\u001b[1mPushed message to syft://flower-test-group-1@openmined.org/app_data/flwr/borja.arroyog@upm.es_fl-diabetes-prediction_1751277685/rpc/messages with metadata Metadata(run_id=617, message_id='', src_node_id=1, dst_node_id=2675261095, reply_to_message_id='', group_id='3', created_at=1751278073.967791, ttl=43200, message_type='evaluate', delivered_at=''); size 0.010030746459960938 (Mb)\u001b[0m\n",
      "\u001b[32m2025-06-30 12:07:53.969\u001b[0m | \u001b[34m\u001b[1mDEBUG   \u001b[0m | \u001b[36msyft_flwr.grid\u001b[0m:\u001b[36mpush_messages\u001b[0m:\u001b[36m117\u001b[0m - \u001b[34m\u001b[1mPushed message to syft://flower-test-group-2@openmined.org/app_data/flwr/borja.arroyog@upm.es_fl-diabetes-prediction_1751277685/rpc/messages with metadata Metadata(run_id=617, message_id='', src_node_id=1, dst_node_id=2382910686, reply_to_message_id='', group_id='3', created_at=1751278073.966366, ttl=43200, message_type='evaluate', delivered_at=''); size 0.010030746459960938 (Mb)\u001b[0m\n",
      "^C\n",
      "\u001b[32m2025-06-30 12:07:54.526\u001b[0m | \u001b[34m\u001b[1mDEBUG   \u001b[0m | \u001b[36msyft_flwr.grid\u001b[0m:\u001b[36mpush_messages\u001b[0m:\u001b[36m117\u001b[0m - \u001b[34m\u001b[1mPushed message to syft://flower-test-group-1@openmined.org/app_data/flwr/borja.arroyog@upm.es_fl-diabetes-prediction_1751277685/rpc/messages with metadata Metadata(run_id=617, message_id='', src_node_id=1, dst_node_id=2675261095, reply_to_message_id='', group_id='final', created_at=1751278074.525163, ttl=60.0, message_type='system', delivered_at=''); size 0.0001010894775390625 (Mb)\u001b[0m\n",
      "\u001b[32m2025-06-30 12:07:54.527\u001b[0m | \u001b[34m\u001b[1mDEBUG   \u001b[0m | \u001b[36msyft_flwr.grid\u001b[0m:\u001b[36mpush_messages\u001b[0m:\u001b[36m117\u001b[0m - \u001b[34m\u001b[1mPushed message to syft://flower-test-group-2@openmined.org/app_data/flwr/borja.arroyog@upm.es_fl-diabetes-prediction_1751277685/rpc/messages with metadata Metadata(run_id=617, message_id='', src_node_id=1, dst_node_id=2382910686, reply_to_message_id='', group_id='final', created_at=1751278074.525218, ttl=60.0, message_type='system', delivered_at=''); size 0.0001010894775390625 (Mb)\u001b[0m\n",
      "\u001b[32m2025-06-30 12:07:54.527\u001b[0m | \u001b[1mINFO    \u001b[0m | \u001b[36msyft_flwr.flower_server\u001b[0m:\u001b[36msyftbox_flwr_server\u001b[0m:\u001b[36m40\u001b[0m - \u001b[1mSending stop signals to the clients\u001b[0m\n",
      "Traceback (most recent call last):\n",
      "  File \u001b[35m\"/Users/borja/Projects/syft/fl-diabetes-prediction/.venv/lib/python3.13/site-packages/flwr/server/server.py\"\u001b[0m, line \u001b[35m413\u001b[0m, in \u001b[35mevaluate_clients\u001b[0m\n",
      "    finished_fs, _ = \u001b[31mconcurrent.futures.wait\u001b[0m\u001b[1;31m(\u001b[0m\n",
      "                     \u001b[31m~~~~~~~~~~~~~~~~~~~~~~~\u001b[0m\u001b[1;31m^\u001b[0m\n",
      "        \u001b[1;31mfs=submitted_fs,\u001b[0m\n",
      "        \u001b[1;31m^^^^^^^^^^^^^^^^\u001b[0m\n",
      "        \u001b[1;31mtimeout=None,  # Handled in the respective communication stack\u001b[0m\n",
      "        \u001b[1;31m^^^^^^^^^^^^^^^^^^^^^^^^^^^^^^^^^^^^^^^^^^^^^^^^^^^^^^^^^^^^^^\u001b[0m\n",
      "    \u001b[1;31m)\u001b[0m\n",
      "    \u001b[1;31m^\u001b[0m\n",
      "  File \u001b[35m\"/Users/borja/.local/share/uv/python/cpython-3.13.1-macos-aarch64-none/lib/python3.13/concurrent/futures/_base.py\"\u001b[0m, line \u001b[35m305\u001b[0m, in \u001b[35mwait\u001b[0m\n",
      "    \u001b[31mwaiter.event.wait\u001b[0m\u001b[1;31m(timeout)\u001b[0m\n",
      "    \u001b[31m~~~~~~~~~~~~~~~~~\u001b[0m\u001b[1;31m^^^^^^^^^\u001b[0m\n",
      "  File \u001b[35m\"/Users/borja/.local/share/uv/python/cpython-3.13.1-macos-aarch64-none/lib/python3.13/threading.py\"\u001b[0m, line \u001b[35m659\u001b[0m, in \u001b[35mwait\u001b[0m\n",
      "    signaled = self._cond.wait(timeout)\n",
      "  File \u001b[35m\"/Users/borja/.local/share/uv/python/cpython-3.13.1-macos-aarch64-none/lib/python3.13/threading.py\"\u001b[0m, line \u001b[35m359\u001b[0m, in \u001b[35mwait\u001b[0m\n",
      "    \u001b[31mwaiter.acquire\u001b[0m\u001b[1;31m()\u001b[0m\n",
      "    \u001b[31m~~~~~~~~~~~~~~\u001b[0m\u001b[1;31m^^\u001b[0m\n",
      "\u001b[1;35mKeyboardInterrupt\u001b[0m\n",
      "\n",
      "During handling of the above exception, another exception occurred:\n",
      "\n",
      "Traceback (most recent call last):\n",
      "  File \u001b[35m\"/Users/borja/Projects/syft/fl-diabetes-prediction/fl-diabetes-prediction/main.py\"\u001b[0m, line \u001b[35m25\u001b[0m, in \u001b[35m<module>\u001b[0m\n",
      "    \u001b[31msyftbox_run_flwr_server\u001b[0m\u001b[1;31m(flower_project_dir)\u001b[0m\n",
      "    \u001b[31m~~~~~~~~~~~~~~~~~~~~~~~\u001b[0m\u001b[1;31m^^^^^^^^^^^^^^^^^^^^\u001b[0m\n",
      "  File \u001b[35m\"/Users/borja/Projects/syft/fl-diabetes-prediction/.venv/lib/python3.13/site-packages/syft_flwr/run.py\"\u001b[0m, line \u001b[35m62\u001b[0m, in \u001b[35msyftbox_run_flwr_server\u001b[0m\n",
      "    \u001b[31msyftbox_flwr_server\u001b[0m\u001b[1;31m(server_app, context, datasites, app_name)\u001b[0m\n",
      "    \u001b[31m~~~~~~~~~~~~~~~~~~~\u001b[0m\u001b[1;31m^^^^^^^^^^^^^^^^^^^^^^^^^^^^^^^^^^^^^^^^^^\u001b[0m\n",
      "  File \u001b[35m\"/Users/borja/Projects/syft/fl-diabetes-prediction/.venv/lib/python3.13/site-packages/syft_flwr/flower_server.py\"\u001b[0m, line \u001b[35m27\u001b[0m, in \u001b[35msyftbox_flwr_server\u001b[0m\n",
      "    updated_context = run_server(\n",
      "        syft_grid,\n",
      "    ...<2 lines>...\n",
      "        server_app_dir=\"\",\n",
      "    )\n",
      "  File \u001b[35m\"/Users/borja/Projects/syft/fl-diabetes-prediction/.venv/lib/python3.13/site-packages/flwr/server/run_serverapp.py\"\u001b[0m, line \u001b[35m62\u001b[0m, in \u001b[35mrun\u001b[0m\n",
      "    \u001b[31mserver_app\u001b[0m\u001b[1;31m(grid=grid, context=context)\u001b[0m\n",
      "    \u001b[31m~~~~~~~~~~\u001b[0m\u001b[1;31m^^^^^^^^^^^^^^^^^^^^^^^^^^^^\u001b[0m\n",
      "  File \u001b[35m\"/Users/borja/Projects/syft/fl-diabetes-prediction/.venv/lib/python3.13/site-packages/flwr/server/server_app.py\"\u001b[0m, line \u001b[35m142\u001b[0m, in \u001b[35m__call__\u001b[0m\n",
      "    \u001b[31mstart_grid\u001b[0m\u001b[1;31m(\u001b[0m\n",
      "    \u001b[31m~~~~~~~~~~\u001b[0m\u001b[1;31m^\u001b[0m\n",
      "        \u001b[1;31mserver=self._server,\u001b[0m\n",
      "        \u001b[1;31m^^^^^^^^^^^^^^^^^^^^\u001b[0m\n",
      "    ...<3 lines>...\n",
      "        \u001b[1;31mgrid=grid,\u001b[0m\n",
      "        \u001b[1;31m^^^^^^^^^^\u001b[0m\n",
      "    \u001b[1;31m)\u001b[0m\n",
      "    \u001b[1;31m^\u001b[0m\n",
      "  File \u001b[35m\"/Users/borja/Projects/syft/fl-diabetes-prediction/.venv/lib/python3.13/site-packages/flwr/server/compat/app.py\"\u001b[0m, line \u001b[35m90\u001b[0m, in \u001b[35mstart_grid\u001b[0m\n",
      "    hist = run_fl(\n",
      "        server=initialized_server,\n",
      "        config=initialized_config,\n",
      "    )\n",
      "  File \u001b[35m\"/Users/borja/Projects/syft/fl-diabetes-prediction/.venv/lib/python3.13/site-packages/flwr/server/server.py\"\u001b[0m, line \u001b[35m492\u001b[0m, in \u001b[35mrun_fl\u001b[0m\n",
      "    hist, elapsed_time = \u001b[31mserver.fit\u001b[0m\u001b[1;31m(\u001b[0m\n",
      "                         \u001b[31m~~~~~~~~~~\u001b[0m\u001b[1;31m^\u001b[0m\n",
      "        \u001b[1;31mnum_rounds=config.num_rounds, timeout=config.round_timeout\u001b[0m\n",
      "        \u001b[1;31m^^^^^^^^^^^^^^^^^^^^^^^^^^^^^^^^^^^^^^^^^^^^^^^^^^^^^^^^^^\u001b[0m\n",
      "    \u001b[1;31m)\u001b[0m\n",
      "    \u001b[1;31m^\u001b[0m\n",
      "  File \u001b[35m\"/Users/borja/Projects/syft/fl-diabetes-prediction/.venv/lib/python3.13/site-packages/flwr/server/server.py\"\u001b[0m, line \u001b[35m145\u001b[0m, in \u001b[35mfit\u001b[0m\n",
      "    res_fed = self.evaluate_round(server_round=current_round, timeout=timeout)\n",
      "  File \u001b[35m\"/Users/borja/Projects/syft/fl-diabetes-prediction/.venv/lib/python3.13/site-packages/flwr/server/server.py\"\u001b[0m, line \u001b[35m186\u001b[0m, in \u001b[35mevaluate_round\u001b[0m\n",
      "    results, failures = \u001b[31mevaluate_clients\u001b[0m\u001b[1;31m(\u001b[0m\n",
      "                        \u001b[31m~~~~~~~~~~~~~~~~\u001b[0m\u001b[1;31m^\u001b[0m\n",
      "        \u001b[1;31mclient_instructions,\u001b[0m\n",
      "        \u001b[1;31m^^^^^^^^^^^^^^^^^^^^\u001b[0m\n",
      "    ...<2 lines>...\n",
      "        \u001b[1;31mgroup_id=server_round,\u001b[0m\n",
      "        \u001b[1;31m^^^^^^^^^^^^^^^^^^^^^^\u001b[0m\n",
      "    \u001b[1;31m)\u001b[0m\n",
      "    \u001b[1;31m^\u001b[0m\n",
      "  File \u001b[35m\"/Users/borja/Projects/syft/fl-diabetes-prediction/.venv/lib/python3.13/site-packages/flwr/server/server.py\"\u001b[0m, line \u001b[35m408\u001b[0m, in \u001b[35mevaluate_clients\u001b[0m\n",
      "    with \u001b[31mconcurrent.futures.ThreadPoolExecutor\u001b[0m\u001b[1;31m(max_workers=max_workers)\u001b[0m as executor:\n",
      "         \u001b[31m~~~~~~~~~~~~~~~~~~~~~~~~~~~~~~~~~~~~~\u001b[0m\u001b[1;31m^^^^^^^^^^^^^^^^^^^^^^^^^\u001b[0m\n",
      "  File \u001b[35m\"/Users/borja/.local/share/uv/python/cpython-3.13.1-macos-aarch64-none/lib/python3.13/concurrent/futures/_base.py\"\u001b[0m, line \u001b[35m647\u001b[0m, in \u001b[35m__exit__\u001b[0m\n",
      "    \u001b[31mself.shutdown\u001b[0m\u001b[1;31m(wait=True)\u001b[0m\n",
      "    \u001b[31m~~~~~~~~~~~~~\u001b[0m\u001b[1;31m^^^^^^^^^^^\u001b[0m\n",
      "  File \u001b[35m\"/Users/borja/.local/share/uv/python/cpython-3.13.1-macos-aarch64-none/lib/python3.13/concurrent/futures/thread.py\"\u001b[0m, line \u001b[35m239\u001b[0m, in \u001b[35mshutdown\u001b[0m\n",
      "    \u001b[31mt.join\u001b[0m\u001b[1;31m()\u001b[0m\n",
      "    \u001b[31m~~~~~~\u001b[0m\u001b[1;31m^^\u001b[0m\n",
      "  File \u001b[35m\"/Users/borja/.local/share/uv/python/cpython-3.13.1-macos-aarch64-none/lib/python3.13/threading.py\"\u001b[0m, line \u001b[35m1092\u001b[0m, in \u001b[35mjoin\u001b[0m\n",
      "    \u001b[31mself._handle.join\u001b[0m\u001b[1;31m(timeout)\u001b[0m\n",
      "    \u001b[31m~~~~~~~~~~~~~~~~~\u001b[0m\u001b[1;31m^^^^^^^^^\u001b[0m\n",
      "\u001b[1;35mKeyboardInterrupt\u001b[0m\n"
     ]
    }
   ],
   "source": [
    "import os\n",
    "\n",
    "if LOCAL_TEST:\n",
    "    os.environ[\"SYFTBOX_CLIENT_CONFIG_PATH\"] = str(ds_stack.client.config_path)\n",
    "\n",
    "os.environ[\"LOGURU_LEVEL\"] = \"DEBUG\"\n",
    "os.environ[\"SYFT_FLWR_MSG_TIMEOUT\"] = \"60\"\n",
    "\n",
    "!uv run {str(SYFT_FLWR_PROJECT_PATH / \"main.py\")} --active"
   ]
  },
  {
   "cell_type": "markdown",
   "metadata": {},
   "source": [
    "By running the FL server code, the DS aggregates the models trained on DOs' private local data into an improved global model\n",
    "\n",
    "<img src=\"./images/dsAggregateModels.png\" width=\"30%\" alt=\"DS Aggregates Models\">"
   ]
  },
  {
   "cell_type": "markdown",
   "metadata": {},
   "source": [
    "## DS Observes the Results"
   ]
  },
  {
   "cell_type": "markdown",
   "metadata": {},
   "source": [
    "Now the DS can monitor the aggregated models trained no DO's private datasets in the `weights` folder"
   ]
  }
 ],
 "metadata": {
  "kernelspec": {
   "display_name": "fl-diabetes-prediction",
   "language": "python",
   "name": "python3"
  },
  "language_info": {
   "codemirror_mode": {
    "name": "ipython",
    "version": 3
   },
   "file_extension": ".py",
   "mimetype": "text/x-python",
   "name": "python",
   "nbconvert_exporter": "python",
   "pygments_lexer": "ipython3",
   "version": "3.13.1"
  }
 },
 "nbformat": 4,
 "nbformat_minor": 2
}
