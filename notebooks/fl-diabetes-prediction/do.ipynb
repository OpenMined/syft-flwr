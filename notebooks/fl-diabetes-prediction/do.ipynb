{
 "cells": [
  {
   "cell_type": "markdown",
   "metadata": {},
   "source": [
    "## Prerequisites\n",
    "\n",
    "### SyftBox client\n",
    "Make sure you have syftbox client running in a terminal\n",
    "1. Install `syftbox`: `curl -fsSL https://syftboxdev.openmined.org/install.sh | sh`\n",
    "2. If you are a first-time user, enter `n` (no) when it prompts `Start the client now? [y/n]` and follow step 3 and 4, otherwise say `yes` and ignore step 3 and 4\n",
    "3. Run `syftbox init` and follow the instructions to authenticate with OTP\n",
    "4. Run `syftbox`"
   ]
  },
  {
   "cell_type": "markdown",
   "metadata": {},
   "source": [
    "### Python Environment with Jupyter\n",
    "\n",
    "Please make sure to have a virtual python environment with `jupyter` installed to run this notebook, e.g. run the below commands in a terminal\n",
    "```bash\n",
    "uv venv\n",
    "source .venv/bin/activate\n",
    "uv pip install jupyter\n",
    "```\n",
    "\n",
    "Configure the notebook to run with the Python kernel from the installed environment, or run `uv run jupyter-lab` "
   ]
  },
  {
   "cell_type": "markdown",
   "metadata": {},
   "source": [
    "## Install dependencies"
   ]
  },
  {
   "cell_type": "code",
   "execution_count": null,
   "metadata": {},
   "outputs": [],
   "source": [
    "!uv pip install \\\n",
    "    \"flwr[simulation]==1.17.0\" \"flwr-datasets>=0.5.0\" \\\n",
    "    \"scikit-learn==1.6.1\" \"torch==2.7.0\" \\\n",
    "    \"syft_flwr==0.1.0\" \\\n",
    "    imblearn pandas loguru"
   ]
  },
  {
   "cell_type": "code",
   "execution_count": null,
   "metadata": {},
   "outputs": [],
   "source": [
    "!syftbox app install https://github.com/OpenMined/rds-server\n",
    "# this will run the rds server app globally"
   ]
  },
  {
   "cell_type": "markdown",
   "metadata": {},
   "source": [
    "## DO logs in to datasite "
   ]
  },
  {
   "cell_type": "code",
   "execution_count": null,
   "metadata": {},
   "outputs": [],
   "source": [
    "import syft_rds as sy\n",
    "from syft_core import Client\n",
    "\n",
    "email = Client.load().email\n",
    "print(f\"SyftBox client email: {email}\")\n",
    "client = sy.init_session(email)"
   ]
  },
  {
   "cell_type": "markdown",
   "metadata": {},
   "source": [
    "## Upload dataset (skip if it's already uploaded)"
   ]
  },
  {
   "cell_type": "code",
   "execution_count": null,
   "metadata": {},
   "outputs": [],
   "source": [
    "client.datasets"
   ]
  },
  {
   "cell_type": "code",
   "execution_count": null,
   "metadata": {},
   "outputs": [],
   "source": [
    "from huggingface_hub import snapshot_download\n",
    "\n",
    "snapshot_download(\n",
    "    repo_id=\"khoaguin/pima-indians-diabetes-database-partitions\",\n",
    "    repo_type=\"dataset\",\n",
    "    local_dir=\"./dataset/\",\n",
    "    local_dir_use_symlinks=False,  # Set to False to copy files instead of symlinking\n",
    ")"
   ]
  },
  {
   "cell_type": "code",
   "execution_count": null,
   "metadata": {},
   "outputs": [],
   "source": [
    "from pathlib import Path\n",
    "\n",
    "partition_number = 3  # please change this to any number from 0 to 4\n",
    "DATASET_PATH = Path(f\"./dataset/pima-indians-diabetes-database-{partition_number}\")\n",
    "\n",
    "dataset = client.dataset.create(\n",
    "    name=\"pima-indians-diabetes-database\",\n",
    "    summary=\"Pima Indians Diabetes Database.\",\n",
    "    description_path=DATASET_PATH / \"README.md\",\n",
    "    path=DATASET_PATH / \"private\",\n",
    "    mock_path=DATASET_PATH / \"mock\",\n",
    ")\n",
    "dataset.describe()"
   ]
  },
  {
   "cell_type": "markdown",
   "metadata": {},
   "source": [
    "## Review and Run Jobs"
   ]
  },
  {
   "cell_type": "code",
   "execution_count": null,
   "metadata": {},
   "outputs": [],
   "source": [
    "jobs = client.jobs.get_all(status=\"pending_code_review\")\n",
    "jobs"
   ]
  },
  {
   "cell_type": "code",
   "execution_count": null,
   "metadata": {},
   "outputs": [],
   "source": [
    "job = jobs[-1]\n",
    "job"
   ]
  },
  {
   "cell_type": "code",
   "execution_count": null,
   "metadata": {},
   "outputs": [],
   "source": [
    "# same as job.code.describe()\n",
    "job.show_user_code()"
   ]
  },
  {
   "cell_type": "markdown",
   "metadata": {},
   "source": [
    "<img src=\"./images/doSendModels.png\" width=\"80%\" alt=\"DS Sends Models\">"
   ]
  },
  {
   "cell_type": "code",
   "execution_count": null,
   "metadata": {},
   "outputs": [],
   "source": [
    "res_job = client.run_private(job)"
   ]
  }
 ],
 "metadata": {
  "kernelspec": {
   "display_name": ".venv",
   "language": "python",
   "name": "python3"
  },
  "language_info": {
   "codemirror_mode": {
    "name": "ipython",
    "version": 3
   },
   "file_extension": ".py",
   "mimetype": "text/x-python",
   "name": "python",
   "nbconvert_exporter": "python",
   "pygments_lexer": "ipython3",
   "version": "3.12.9"
  }
 },
 "nbformat": 4,
 "nbformat_minor": 2
}
