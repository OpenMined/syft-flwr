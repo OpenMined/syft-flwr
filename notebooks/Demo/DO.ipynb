{
 "cells": [
  {
   "cell_type": "markdown",
   "id": "d19d3155-1783-4ca0-a42c-bc9268a37855",
   "metadata": {},
   "source": [
    "## Data Owner Flow\n",
    "\n"
   ]
  },
  {
   "cell_type": "markdown",
   "id": "c4077221-c0c1-4835-a7d1-67ea5b7f877d",
   "metadata": {},
   "source": [
    "#### Step 1: Data Owner recieves project from DS"
   ]
  },
  {
   "cell_type": "markdown",
   "id": "9f43ba63-14aa-4f94-a499-a2e6d89bb7ea",
   "metadata": {},
   "source": [
    "The Data owners recieve the project from DS, where it is the project folder"
   ]
  },
  {
   "cell_type": "markdown",
   "id": "fffadf0e-97c1-4ed6-9f71-2e7f6f257c54",
   "metadata": {},
   "source": [
    "#### Step 2: Execution"
   ]
  },
  {
   "cell_type": "code",
   "execution_count": null,
   "id": "f62ce66d-5ccf-4fe5-b972-13dc0ca6da16",
   "metadata": {},
   "outputs": [],
   "source": [
    "!uv run main.py"
   ]
  }
 ],
 "metadata": {
  "kernelspec": {
   "display_name": "Python 3 (ipykernel)",
   "language": "python",
   "name": "python3"
  },
  "language_info": {
   "codemirror_mode": {
    "name": "ipython",
    "version": 3
   },
   "file_extension": ".py",
   "mimetype": "text/x-python",
   "name": "python",
   "nbconvert_exporter": "python",
   "pygments_lexer": "ipython3",
   "version": "3.12.8"
  }
 },
 "nbformat": 4,
 "nbformat_minor": 5
}
