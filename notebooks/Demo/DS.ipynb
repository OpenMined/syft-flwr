{
 "cells": [
  {
   "cell_type": "markdown",
   "id": "38ea9145-ca7f-4d84-b8a6-fcdcebd08341",
   "metadata": {},
   "source": [
    "## Data Scientist Flow\n",
    "\n",
    "\n",
    "They would like to replicate this flower tutorial over syftbox\n",
    "- https://flower.ai/docs/framework/tutorial-quickstart-pytorch.html\n"
   ]
  },
  {
   "cell_type": "markdown",
   "id": "fe9f7d21-c111-43d0-844e-19d02533b6a2",
   "metadata": {},
   "source": [
    "#### Step 1: Copy or create new flower project"
   ]
  },
  {
   "cell_type": "code",
   "execution_count": null,
   "id": "e2c757f6-1f2f-4fe2-8f2b-6bfebfe44161",
   "metadata": {},
   "outputs": [],
   "source": [
    "!flwr new quickstart-pytorch \\\n",
    "    --framework PyTorch \\\n",
    "    --username ds@openmined.org"
   ]
  },
  {
   "cell_type": "markdown",
   "id": "4fa03492-cf0b-4428-bf01-c96cd13f4bd3",
   "metadata": {},
   "source": [
    "##### Step 1.1 Install Project Dependencies "
   ]
  },
  {
   "cell_type": "code",
   "execution_count": null,
   "id": "05354e3a-bd4f-435c-809f-a8a88d668472",
   "metadata": {},
   "outputs": [],
   "source": [
    "!uv pip install ./quickstart-pytorch"
   ]
  },
  {
   "cell_type": "markdown",
   "id": "7ac26aa6-6894-4ab6-bd71-cdf27b1c3ed8",
   "metadata": {},
   "source": [
    "#### Step 2: Run Flower Simulation Locally"
   ]
  },
  {
   "cell_type": "code",
   "execution_count": null,
   "id": "45cb3a67-4353-4baf-8849-fd9db1ce7317",
   "metadata": {},
   "outputs": [],
   "source": [
    "!flwr run quickstart-pytorch"
   ]
  },
  {
   "cell_type": "markdown",
   "id": "8c86180a-b584-4c1f-8762-b2b7a07ccb09",
   "metadata": {},
   "source": [
    "#### Step 3: Syft Flower Bootstrap"
   ]
  },
  {
   "cell_type": "markdown",
   "id": "a28df114-e02a-4933-89f1-1416c2b1ae03",
   "metadata": {},
   "source": [
    "!syft_flwr bootstrap . --aggregator \"ds@openmined.org\" --datasites \"['do1@openmined.org','do2@openmined.org']\"  \n",
    "  \n",
    "or get it by prompts  \n",
    "!syft flwr bootstrap  \n",
    "Enter the email of the aggregator: `USER_INPUT`  \n",
    "Enter the number of datasites: `USER_INPUT`   \n",
    "Enter the email of  datasite `NO`: `USER_INPUT`  \n",
    "Enter the email of  datasite `NO`: `USER_INPUT`  "
   ]
  },
  {
   "cell_type": "markdown",
   "id": "44244cc5-c153-4cc8-94f9-39f0e9d609bc",
   "metadata": {},
   "source": [
    "#### Step 4: Data Scientist Replace Load Data function"
   ]
  },
  {
   "cell_type": "markdown",
   "id": "f80ce61c-374b-4bc4-8fc3-a047c1aaf92a",
   "metadata": {},
   "source": [
    "The data scientist modifies the client app to able to load data from syftbox by creating a custom data loader function which takes `DATA_DIR` as an environment variable, which points to the location of the data."
   ]
  },
  {
   "cell_type": "markdown",
   "id": "9062831b-0438-43b3-a82f-cd2c8056d1c7",
   "metadata": {},
   "source": [
    "#### Step 5: Data Scientist Sends  Project"
   ]
  },
  {
   "cell_type": "markdown",
   "id": "6663dcbf-8660-489c-bce9-c5622b3d4bba",
   "metadata": {},
   "source": [
    "The Data Scientist, sends the project to the Data owners manually"
   ]
  },
  {
   "cell_type": "markdown",
   "id": "7062f82a-b3c3-465b-b214-a53be84db111",
   "metadata": {},
   "source": [
    "#### Step 6: Code Execution"
   ]
  },
  {
   "cell_type": "code",
   "execution_count": null,
   "id": "edf82b3f-9486-4c1d-8f78-f7e82cf2a500",
   "metadata": {},
   "outputs": [],
   "source": [
    "!uv run ./quickstart-pytorch/main.py"
   ]
  }
 ],
 "metadata": {
  "kernelspec": {
   "display_name": "Python 3 (ipykernel)",
   "language": "python",
   "name": "python3"
  },
  "language_info": {
   "codemirror_mode": {
    "name": "ipython",
    "version": 3
   },
   "file_extension": ".py",
   "mimetype": "text/x-python",
   "name": "python",
   "nbconvert_exporter": "python",
   "pygments_lexer": "ipython3",
   "version": "3.12.8"
  }
 },
 "nbformat": 4,
 "nbformat_minor": 5
}
