{
 "cells": [
  {
   "cell_type": "code",
   "execution_count": null,
   "id": "0",
   "metadata": {
    "metadata": {}
   },
   "outputs": [],
   "source": [
    "from syft_rds.orchestra import setup_rds_stack\n",
    "from syft_rds import RDS_NOTEBOOKS_PATH"
   ]
  },
  {
   "cell_type": "code",
   "execution_count": null,
   "id": "1",
   "metadata": {},
   "outputs": [],
   "source": [
    "from syft_core.url import SyftBoxURL"
   ]
  },
  {
   "cell_type": "code",
   "execution_count": null,
   "id": "2",
   "metadata": {},
   "outputs": [],
   "source": [
    "SyftBoxURL"
   ]
  },
  {
   "cell_type": "code",
   "execution_count": null,
   "id": "3",
   "metadata": {
    "metadata": {}
   },
   "outputs": [],
   "source": [
    "stack = setup_rds_stack(log_level=\"INFO\")"
   ]
  },
  {
   "cell_type": "code",
   "execution_count": null,
   "id": "4",
   "metadata": {
    "metadata": {}
   },
   "outputs": [],
   "source": [
    "do_client = stack.do_rds_client\n",
    "ds_client = stack.ds_rds_client"
   ]
  },
  {
   "cell_type": "code",
   "execution_count": null,
   "id": "5",
   "metadata": {},
   "outputs": [],
   "source": [
    "stack.do_client.config"
   ]
  },
  {
   "cell_type": "code",
   "execution_count": null,
   "id": "66627d21-16d0-4913-b436-136c130fabaf",
   "metadata": {},
   "outputs": [],
   "source": [
    "stack.do_client.config_path"
   ]
  },
  {
   "cell_type": "markdown",
   "id": "6",
   "metadata": {
    "metadata": {}
   },
   "source": [
    "# Create a dataset as DO"
   ]
  },
  {
   "cell_type": "code",
   "execution_count": null,
   "id": "7",
   "metadata": {},
   "outputs": [],
   "source": [
    "CWD = RDS_NOTEBOOKS_PATH / \"quickstart\""
   ]
  },
  {
   "cell_type": "code",
   "execution_count": null,
   "id": "8",
   "metadata": {},
   "outputs": [],
   "source": [
    "private_dir = CWD / \"data\" / \"dataset-1\" / \"private\"\n",
    "mock_dir = CWD / \"data\" / \"dataset-1\" / \"mock\"\n",
    "markdown_path = CWD / \"data\" / \"dataset-1\" / \"description.md\"\n",
    "\n",
    "private_dir.mkdir(parents=True, exist_ok=True)\n",
    "mock_dir.mkdir(parents=True, exist_ok=True)\n",
    "\n",
    "\n",
    "with open(private_dir / \"data.csv\", \"w\") as f:\n",
    "    f.write(\"-1,-2,-3\")\n",
    "\n",
    "with open(mock_dir / \"data.csv\", \"w\") as f:\n",
    "    f.write(\"1,2,3\")\n",
    "\n",
    "with open(markdown_path, \"w\") as f:\n",
    "    f.write(\"some description\")"
   ]
  },
  {
   "cell_type": "code",
   "execution_count": null,
   "id": "9",
   "metadata": {
    "metadata": {}
   },
   "outputs": [],
   "source": [
    "data = do_client.dataset.create(\n",
    "    name=\"dataset-1\",  # MUST BE UNIQUE. Throw Exception if already exist.\n",
    "    path=private_dir,  # MUST EXIST\n",
    "    mock_path=mock_dir,\n",
    "    summary=\"dummy data\",\n",
    "    description_path=markdown_path,\n",
    ")"
   ]
  },
  {
   "cell_type": "code",
   "execution_count": null,
   "id": "10",
   "metadata": {
    "metadata": {}
   },
   "outputs": [],
   "source": [
    "do_client.datasets"
   ]
  },
  {
   "cell_type": "markdown",
   "id": "11",
   "metadata": {
    "metadata": {}
   },
   "source": [
    "# Use dataset as DS"
   ]
  },
  {
   "cell_type": "code",
   "execution_count": null,
   "id": "12",
   "metadata": {
    "metadata": {}
   },
   "outputs": [],
   "source": [
    "ds_client.datasets"
   ]
  },
  {
   "cell_type": "code",
   "execution_count": null,
   "id": "13",
   "metadata": {
    "metadata": {}
   },
   "outputs": [],
   "source": [
    "ds_client.dataset.get(name=\"dataset-1\").get_mock_path()"
   ]
  },
  {
   "cell_type": "code",
   "execution_count": null,
   "id": "14",
   "metadata": {},
   "outputs": [],
   "source": [
    "ds_client.dataset.get(name=\"dataset-1\").get_private_path()"
   ]
  },
  {
   "cell_type": "code",
   "execution_count": null,
   "id": "15",
   "metadata": {
    "metadata": {}
   },
   "outputs": [],
   "source": [
    "dataset = ds_client.dataset.get(name=\"dataset-1\")\n",
    "dataset.describe()"
   ]
  },
  {
   "cell_type": "code",
   "execution_count": null,
   "id": "17",
   "metadata": {
    "metadata": {}
   },
   "outputs": [],
   "source": [
    "from syft_flwr import bootstrap\n",
    "bootstrap(\"../examples/quickstart-pytorch\", aggregator=\"data_scientist@test.openmined.org\",datasites=[\"data_owner@test.openmined.org\",\"data_scientist@test.openmined.org\"])"
   ]
  },
  {
   "cell_type": "code",
   "execution_count": null,
   "id": "16",
   "metadata": {},
   "outputs": [],
   "source": [
    "from pathlib import Path\n",
    "code_folder = Path(\"../examples/quickstart-pytorch\").resolve()\n"
   ]
  },
  {
   "cell_type": "markdown",
   "id": "18",
   "metadata": {},
   "source": [
    "# Submit a job to create UserCode and a Job"
   ]
  },
  {
   "cell_type": "code",
   "execution_count": null,
   "id": "19",
   "metadata": {
    "metadata": {}
   },
   "outputs": [],
   "source": [
    "job = ds_client.jobs.submit(\n",
    "    user_code_path=code_folder, entrypoint=\"main.py\", dataset_name=dataset.name\n",
    ")\n",
    "job.describe()"
   ]
  },
  {
   "cell_type": "code",
   "execution_count": null,
   "id": "20",
   "metadata": {},
   "outputs": [],
   "source": [
    "ds_client.user_code.get_all()[0]"
   ]
  },
  {
   "cell_type": "code",
   "execution_count": null,
   "id": "21",
   "metadata": {},
   "outputs": [],
   "source": [
    "# Code file is moved to a location inside syftbox\n",
    "\n",
    "code = job.user_code\n",
    "assert code.local_dir.exists()\n",
    "\n",
    "# Same as: job.code.describe()\n",
    "job.show_user_code()"
   ]
  },
  {
   "cell_type": "markdown",
   "id": "22",
   "metadata": {},
   "source": [
    "# DO reviews"
   ]
  },
  {
   "cell_type": "code",
   "execution_count": null,
   "id": "23",
   "metadata": {},
   "outputs": [],
   "source": [
    "jobs = do_client.jobs.get_all(status=\"pending_code_review\")\n",
    "jobs"
   ]
  },
  {
   "cell_type": "code",
   "execution_count": null,
   "id": "24",
   "metadata": {},
   "outputs": [],
   "source": [
    "job = jobs[-1]\n",
    "\n",
    "# same as job.code.describe()\n",
    "job.show_user_code()"
   ]
  },
  {
   "cell_type": "code",
   "execution_count": null,
   "id": "25",
   "metadata": {},
   "outputs": [],
   "source": [
    "import os\n",
    "\n",
    "os.environ[\"SYFTBOX_CLIENT_CONFIG_PATH\"]= str(stack.do_client.config_path)\n",
    "res_job = do_client.run_private(job)"
   ]
  },
  {
   "cell_type": "code",
   "execution_count": null,
   "id": "6598074c-23c1-4513-aa24-35ac96ce951b",
   "metadata": {},
   "outputs": [],
   "source": [
    "stack.do_client.config_path"
   ]
  },
  {
   "cell_type": "code",
   "execution_count": null,
   "id": "628a14ab-cdd1-4821-9d10-1fc45046bcf0",
   "metadata": {},
   "outputs": [],
   "source": [
    "from syft_core import SyftClientConfig"
   ]
  },
  {
   "cell_type": "code",
   "execution_count": null,
   "id": "7549e3c0-8373-4ec3-97a2-970d536d069b",
   "metadata": {},
   "outputs": [],
   "source": [
    "SyftClientConfig.load(str(stack.do_client.config_path))"
   ]
  },
  {
   "cell_type": "code",
   "execution_count": null,
   "id": "0f7efd2e-ee26-448c-98d3-1f82bc476423",
   "metadata": {},
   "outputs": [],
   "source": [
    "from syft_core.config import SyftClientConfig"
   ]
  },
  {
   "cell_type": "code",
   "execution_count": null,
   "id": "5277a3e9-04d1-4e72-8bc9-7e4b62a8f869",
   "metadata": {},
   "outputs": [],
   "source": [
    "SyftClientConfig.load(stack.do_client.config_path)"
   ]
  },
  {
   "cell_type": "code",
   "execution_count": null,
   "id": "26",
   "metadata": {},
   "outputs": [],
   "source": [
    "do_client.jobs.share_results(res_job);"
   ]
  },
  {
   "cell_type": "markdown",
   "id": "27",
   "metadata": {},
   "source": [
    "# DS views the results"
   ]
  },
  {
   "cell_type": "code",
   "execution_count": null,
   "id": "28",
   "metadata": {},
   "outputs": [],
   "source": [
    "job = ds_client.jobs.get_all()[-1]"
   ]
  },
  {
   "cell_type": "code",
   "execution_count": null,
   "id": "29",
   "metadata": {},
   "outputs": [],
   "source": [
    "# DS can see files in the output path\n",
    "job.describe()"
   ]
  },
  {
   "cell_type": "code",
   "execution_count": null,
   "id": "30",
   "metadata": {},
   "outputs": [],
   "source": [
    "output_files = [f for f in job.output_path.glob(\"**/*\") if f.is_file()]\n",
    "assert len(output_files)"
   ]
  }
 ],
 "metadata": {
  "kernelspec": {
   "display_name": "Python 3 (ipykernel)",
   "language": "python",
   "name": "python3"
  },
  "language_info": {
   "codemirror_mode": {
    "name": "ipython",
    "version": 3
   },
   "file_extension": ".py",
   "mimetype": "text/x-python",
   "name": "python",
   "nbconvert_exporter": "python",
   "pygments_lexer": "ipython3",
   "version": "3.12.8"
  }
 },
 "nbformat": 4,
 "nbformat_minor": 5
}
