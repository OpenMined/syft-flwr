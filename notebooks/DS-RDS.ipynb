{
 "cells": [
  {
   "cell_type": "markdown",
   "id": "fb31e980-a4ec-4b33-a690-03c669a469d2",
   "metadata": {},
   "source": [
    "Questions:\n",
    "1. \n",
    "\n",
    "Engineering Questions:\n"
   ]
  },
  {
   "cell_type": "code",
   "execution_count": 2,
   "id": "1c6979d6-74dd-4b84-bfac-ea61dbaa9a5e",
   "metadata": {},
   "outputs": [
    {
     "name": "stdout",
     "output_type": "stream",
     "text": [
      "\u001b[32m\u001b[1m\n",
      "🔨 Creating Flower App med-mnist...\u001b[0m\n",
      "\u001b[32m\u001b[1m🎊 Flower App creation successful.\n",
      "\n",
      "To run your Flower App, use the following command:\n",
      "\n",
      "\u001b[0m\u001b[96m\u001b[1m\tflwr run med-mnist\n",
      "\n",
      "\u001b[0m\u001b[32m\u001b[1mIf you haven't installed all dependencies yet, follow these steps:\n",
      "\n",
      "\u001b[0m\u001b[96m\u001b[1m\tcd med-mnist\n",
      "\tpip install -e .\n",
      "\tflwr run .\n",
      "\u001b[0m\n"
     ]
    }
   ],
   "source": [
    "!flwr new med-mnist --framework PyTorch --username ds@openmined.org"
   ]
  },
  {
   "cell_type": "code",
   "execution_count": null,
   "id": "47f556b4-6914-4d95-be36-e8319c02f29d",
   "metadata": {},
   "outputs": [],
   "source": [
    "from syft_rds as sy"
   ]
  },
  {
   "cell_type": "code",
   "execution_count": null,
   "id": "e1c9c101-d9c2-4d2c-9751-b31fe8d5e448",
   "metadata": {},
   "outputs": [],
   "source": [
    "ds_client = sy.init_session(datasite=\"do@openmined.org\")"
   ]
  },
  {
   "cell_type": "code",
   "execution_count": null,
   "id": "14db1e02-ae6a-4ee8-bd8f-cd80a2f0b35a",
   "metadata": {},
   "outputs": [],
   "source": [
    "dataset = ds_client.dataset.get_by_name(\"MedMNIST\")"
   ]
  },
  {
   "cell_type": "code",
   "execution_count": null,
   "id": "7cd39a40-a916-4b3b-bc19-eb2ce8186ef8",
   "metadata": {},
   "outputs": [],
   "source": []
  }
 ],
 "metadata": {
  "kernelspec": {
   "display_name": "Python 3 (ipykernel)",
   "language": "python",
   "name": "python3"
  },
  "language_info": {
   "codemirror_mode": {
    "name": "ipython",
    "version": 3
   },
   "file_extension": ".py",
   "mimetype": "text/x-python",
   "name": "python",
   "nbconvert_exporter": "python",
   "pygments_lexer": "ipython3",
   "version": "3.12.8"
  }
 },
 "nbformat": 4,
 "nbformat_minor": 5
}
