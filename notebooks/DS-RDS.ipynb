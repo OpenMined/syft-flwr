{
 "cells": [
  {
   "cell_type": "markdown",
   "id": "0",
   "metadata": {},
   "source": [
    "Questions:\n",
    "1. Currently in the flow of RDS, is that  Data owner runs the approved job code , the look at the final result and then shares it with the data owner. In the case of Flower FL, we need to share the intermediate results with the server, do we even need to have a intermediate result approval flow, we need to plan on how this work for Flower.\n",
    "\n",
    "Engineering Questions:\n",
    "1. How do we submit a folder a code to the jobs?\n",
    "    Thoughts: The RDS code submissions interface has the ability to submit code as a folder, but currenlty only file works, we would need to modify\n",
    "    some parts of User Code Service to allow submission of code as a folder along with specifying an entrypoint\n",
    "2. How do we mount the RPC Folder to the Docker Runner:\n",
    "    Since in our case, the flower training is a continuous iterative process, where the client needs to send intermediate messages to the server, we would need to mount the rpc dir to the docker container , so that the client can send intermediate messages to the server. We would need to plan out the same.\n"
   ]
  },
  {
   "cell_type": "code",
   "execution_count": null,
   "id": "1",
   "metadata": {},
   "outputs": [],
   "source": [
    "!flwr new med-mnist --framework PyTorch --username ds@openmined.org"
   ]
  },
  {
   "cell_type": "code",
   "execution_count": null,
   "id": "2",
   "metadata": {},
   "outputs": [],
   "source": [
    "import syft_rds as sy"
   ]
  },
  {
   "cell_type": "code",
   "execution_count": null,
   "id": "3",
   "metadata": {},
   "outputs": [],
   "source": [
    "ds_client = sy.init_session(datasite=\"do@openmined.org\")"
   ]
  },
  {
   "cell_type": "code",
   "execution_count": null,
   "id": "4",
   "metadata": {},
   "outputs": [],
   "source": [
    "dataset = ds_client.dataset.get_by_name(\"MedMNIST\")"
   ]
  },
  {
   "cell_type": "code",
   "execution_count": null,
   "id": "5",
   "metadata": {},
   "outputs": [],
   "source": [
    "job = ds_client.jobs.submit(\n",
    "    user_code_path=\"./med-mnist/main.py\", dataset_name=dataset.name\n",
    ")\n",
    "job.describe()"
   ]
  },
  {
   "cell_type": "code",
   "execution_count": null,
   "id": "6",
   "metadata": {},
   "outputs": [],
   "source": [
    "# job = ds_client.jobs.submit(user_code_path=\"<file|folder>\",\n",
    "#                             entrypoint=\"./med-mnist/main.py\",\n",
    "#                              dataset_name=dataset.name)\n"
   ]
  },
  {
   "cell_type": "code",
   "execution_count": null,
   "id": "7",
   "metadata": {},
   "outputs": [],
   "source": [
    "job = ds_client.jobs.get_all()[-1]"
   ]
  },
  {
   "cell_type": "code",
   "execution_count": null,
   "id": "8",
   "metadata": {},
   "outputs": [],
   "source": [
    "output_files = [f for f in job.output_path.glob(\"**/*\") if f.is_file()]\n",
    "assert len(output_files)"
   ]
  },
  {
   "cell_type": "code",
   "execution_count": null,
   "id": "9",
   "metadata": {},
   "outputs": [],
   "source": []
  }
 ],
 "metadata": {
  "kernelspec": {
   "display_name": ".venv",
   "language": "python",
   "name": "python3"
  },
  "language_info": {
   "codemirror_mode": {
    "name": "ipython",
    "version": 3
   },
   "file_extension": ".py",
   "mimetype": "text/x-python",
   "name": "python",
   "nbconvert_exporter": "python",
   "pygments_lexer": "ipython3",
   "version": "3.12.8"
  }
 },
 "nbformat": 4,
 "nbformat_minor": 5
}
